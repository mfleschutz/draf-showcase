{
 "cells": [
  {
   "cell_type": "markdown",
   "metadata": {
    "slideshow": {
     "slide_type": "skip"
    }
   },
   "source": [
    "Attention: Config code at the beginning of next cell!"
   ]
  },
  {
   "cell_type": "markdown",
   "metadata": {
    "slideshow": {
     "slide_type": "slide"
    }
   },
   "source": [
    "<link rel=\"stylesheet\" href=\"custom_style_addon.css\">\n",
    "\n",
    "<div align=\"center\">\n",
    "<br><br><br>\n",
    "<a href=\"https://messo.cit.ie/draf\" title=\"Link to Draf homepage.\">\n",
    "    <img src=\"pics/all.svg\" alt=\"drawing\" width=\"400\">\n",
    "</a>\n",
    "<br><br><br>\n",
    "<h1 style=\"font-size:200%; text-align:center\"> Welcome to the showcase! </h1>\n",
    "</div>\n",
    "\n",
    "<hr />\n",
    "\n",
    "<div style=\"font-size:55%; text-align:center; color:#b0b0b0\" align=center>\n",
    "<b>Navigation:</b>\n",
    "Slides: <code>Page-up</code> / <code>Page-down</code> | \n",
    "Chapters: <code>←</code> / <code>→</code> | \n",
    "Subslides: <code>↑</code> / <code>↓</code> | \n",
    "Overview: <code>Esc</code> <br> <br>\n",
    "<b>Draf</b> (<b>d</b>emand <b>r</b>esponse <b>a</b>nalysis <b>f</b>ramework) is a modular framework that enables the economic and ecological evaluation of industrial demand response. It is developed by <a href=\"https://www.linkedin.com/in/markus-fleschutz/\">Markus Fleschutz</a> in a cooperative PhD between <a href=\"https://www.cit.ie/\">Cork Institute of Technology</a> and the <a href=\"https://www.hs-karlsruhe.de/en/\">Karlsruhe University of Applied Sciences</a> and under the supervision of <a href=\"https://ie.linkedin.com/in/michael-d-murphy-16134118\">Dr. Michael D. Murphy</a> and <a href=\"https://www.hs-karlsruhe.de/w/ueber-uns/personen/professorinnen/prof-dr-ing-marco-braun/\">Dr.-ing Marco Braun</a>.\n",
    "</div>"
   ]
  },
  {
   "cell_type": "markdown",
   "metadata": {
    "slideshow": {
     "slide_type": "slide"
    }
   },
   "source": [
    "# Why draf?\n",
    "\n",
    "- Price based demand response is an essential and promising approach to increase the power system's operational flexibility and reduce cost and carbon emissions for an industrial company.\n",
    "- However, the quantification of the demand response potential requires the modeling of the market and the flexible entities together with its main constraints.\n",
    "- **Draf makes all this very easy.**"
   ]
  },
  {
   "cell_type": "markdown",
   "metadata": {
    "slideshow": {
     "slide_type": "subslide"
    }
   },
   "source": [
    "Here are some key features:\n",
    "- Intuitive handling of complex data structures.\n",
    "- Uses the power of gurobi, the fastest MILP solver available and its community for model formulation and solving (Its free for academic use 🎓😀).\n",
    "- Easy and automatic scenario generation and sensitivity analyses.\n",
    "- Naming conventions for parameters and variables.\n",
    "- Electricity prices, generation data, load etc. are downloaded on demand and cached for later use.\n",
    "- Ecological assessment uses dynamic carbon emission factors calculated from historic national electric generation data.\n",
    "- Economic assessment uses historic day-ahead market prices.\n",
    "- Modules for load profile creation.\n",
    "- Convenient plotting.\n",
    "- Automatic unit conversion, great descriptions and documentation.\n",
    "- Partly tested, uses Python's modern type annotations.\n",
    "- Whole case studies and individual scenarios can be saved including all results."
   ]
  },
  {
   "cell_type": "markdown",
   "metadata": {
    "slideshow": {
     "slide_type": "slide"
    }
   },
   "source": [
    "# Define a simple model\n",
    "Let's say you want to know the economic and ecological demand response potential of a 1 MWh Battery Energy System (BES) under consideration of a 100kW_peak Photovoltaic (PV) system, a 50 €/kW capacity price for electricity and a given electricity demand."
   ]
  },
  {
   "cell_type": "code",
   "execution_count": 1,
   "metadata": {
    "ExecuteTime": {
     "end_time": "2019-12-02T16:42:09.633775Z",
     "start_time": "2019-12-02T16:42:09.601267Z"
    },
    "slideshow": {
     "slide_type": "skip"
    }
   },
   "outputs": [],
   "source": [
    "%load_ext autoreload\n",
    "%autoreload 2"
   ]
  },
  {
   "cell_type": "code",
   "execution_count": 2,
   "metadata": {
    "ExecuteTime": {
     "end_time": "2019-12-02T16:42:10.971254Z",
     "start_time": "2019-12-02T16:42:09.635761Z"
    },
    "slideshow": {
     "slide_type": "subslide"
    }
   },
   "outputs": [],
   "source": [
    "# These are the only imports you need.\n",
    "from gurobipy import GRB, quicksum\n",
    "import draf"
   ]
  },
  {
   "cell_type": "code",
   "execution_count": 3,
   "metadata": {
    "ExecuteTime": {
     "end_time": "2019-12-02T16:42:11.057652Z",
     "start_time": "2019-12-02T16:42:10.971254Z"
    },
    "slideshow": {
     "slide_type": "subslide"
    }
   },
   "outputs": [],
   "source": [
    "def params_func(sc):\n",
    "    \"\"\"Defines model parameters and variables with bounds, type, units, descriptions, etc.\"\"\"\n",
    "    p = sc.params\n",
    "    T = sc.add_dim(\"T\", infer=True)\n",
    "    sc.add_par(name=\"alpha_\", data=0, doc=\"pareto weighting factor\", unit=\"\")\n",
    "    sc.prep.add_n_comp_()\n",
    "    sc.add_par(\"n_C_\", 1e4, \"normalization factor\", \"\")\n",
    "    sc.add_par(\"n_CE_\", 1, \"normalization factor\", \"\")\n",
    "    sc.add_par(\"AF_\", 0.1, \"annuitiy factor (it pays off in 1/AF_ years)\", \"\")\n",
    "    doc_CAPx = \"existing capacity\"\n",
    "    sc.add_par(\"P_PV_CAPx_\", 0, doc_CAPx, \"kW_peak\")\n",
    "    sc.add_par(\"E_BES_CAPx_\", 0, doc_CAPx, \"kW_el\")\n",
    "    sc.add_par(\"c_el_peak_\", 40, \"peak price\", \"€/kW_el\")\n",
    "    rtp = sc.prep.add_c_el_RTP_T()\n",
    "    tou = sc.prep.add_c_el_TOU_T()\n",
    "    flat = sc.prep.add_c_el_FLAT_T()\n",
    "    sc.add_par(\"c_el_T\", rtp, \"chosen electricity tariff\", \"€/kWh_el\")\n",
    "    sc.prep.add_c_el_addon_T()\n",
    "    sc.prep.add_ce_el_T()\n",
    "    sc.prep.add_E_PV_profile_T()\n",
    "    sc.prep.add_E_dem_T(profile=\"G3\", annual_energy=5e5)\n",
    "    sc.add_par(\"eta_BES_time_\", .999, \"storing efficiency\", \"\")\n",
    "    sc.add_par(\"eta_BES_in_\", .999, \"loading efficiency\", \"\")\n",
    "    sc.add_par(\"k_BES_in_per_capa_\", 1, \"ratio loading power / capacity\", \"\")\n",
    "    sc.add_var(\"C_\", \"operating costs\", \"€/a\", lb=-GRB.INFINITY)\n",
    "    sc.add_var(\"CE_\", \"operating emissions\", \"gCO2eq/a\", lb=-GRB.INFINITY)\n",
    "    sc.add_var(\"E_pur_T\", \"purchased electricity\", \"kWh_el\", lb=-GRB.INFINITY)\n",
    "    sc.add_var(\"E_PV_T\", \"produced el.\", \"kWh_el\")\n",
    "    sc.add_var(\"E_PV_OC_T\", \"own consumption\", \"kWh_el\")\n",
    "    sc.add_var(\"E_PV_FI_T\", \"feed-in\", \"kWh_el\")\n",
    "    sc.add_var(\"E_BES_T\", \"el. stored\", \"kWh_el\")\n",
    "    sc.add_var(\"E_BES_in_T\", \"loaded el.\", \"kWh_el\", lb=-GRB.INFINITY)\n",
    "    sc.add_var(\"E_BES_in_max_\", \"maximum loading rate el.\", \"kWh_el\")\n",
    "    sc.add_var(\"E_BES_out_max_\", \"maximum unloading rate el.\", \"kWh_el\")\n",
    "    sc.add_var(\"E_pur_T\", \"purchased el.\", \"kWh_el\")\n",
    "    sc.add_var(\"E_sell_T\", \"purchased el.\", \"kWh_el\")\n",
    "    sc.add_var(\"P_pur_peak_\", \"peak el.\", \"kW_el\")"
   ]
  },
  {
   "cell_type": "code",
   "execution_count": 4,
   "metadata": {
    "ExecuteTime": {
     "end_time": "2019-12-02T16:42:11.141859Z",
     "start_time": "2019-12-02T16:42:11.058474Z"
    },
    "slideshow": {
     "slide_type": "subslide"
    }
   },
   "outputs": [],
   "source": [
    "def model_func(m, d, p, v):\n",
    "    \"\"\"Sets model constraints. Arguments: (m)odel, (d)imensions, (p)arameters, and (v)ariables.\"\"\"\n",
    "    T = d.T\n",
    "    m.setObjective(((1 - p.alpha_) * v.C_ * p.n_C_ + p.alpha_ * v.CE_ * p.n_CE_), GRB.MINIMIZE)\n",
    "    m.addConstr(\n",
    "        v.C_ == (v.P_pur_peak_ * p.c_el_peak_ +\n",
    "                 p.n_comp_ * quicksum(v.E_pur_T[t] *\n",
    "                                      (p.c_el_T[t] + p.c_el_addon_T[t]) - v.E_sell_T[t] *\n",
    "                                      p.c_el_T[t] for t in T)), \"DEF_C_op\")\n",
    "    m.addConstr(v.CE_ == p.n_comp_ * quicksum(v.E_pur_T[t] * p.ce_el_T[t] for t in T), \"DEF_CE_op_\")\n",
    "    m.addConstrs((v.E_pur_T[t] + v.E_PV_OC_T[t] == p.E_dem_T[t] + v.E_BES_in_T[t] for t in T),\n",
    "                 \"BAL_el\")\n",
    "    m.addConstrs((v.E_sell_T[t] == v.E_PV_FI_T[t] for t in T), \"DEF_E_sell\")\n",
    "    m.addConstrs((v.E_pur_T[t] <= v.P_pur_peak_ for t in T), \"DEF_peakPrice\")\n",
    "    m.addConstrs((v.E_PV_T[t] == p.P_PV_CAPx_ * p.E_PV_profile_T[t] for t in T), \"PV1\")\n",
    "    m.addConstrs((v.E_PV_T[t] == v.E_PV_FI_T[t] + v.E_PV_OC_T[t] for t in T), \"PV_OC_FI\")\n",
    "    m.addConstrs(\n",
    "        (v.E_BES_T[t] == p.eta_BES_time_ * v.E_BES_T[t - 1] + p.eta_BES_in_ * v.E_BES_in_T[t]\n",
    "         for t in T[1:]), \"BAL_BES\")\n",
    "    m.addConstrs((v.E_BES_T[t] <= p.E_BES_CAPx_ for t in T), \"MAX_BES_E\")\n",
    "    m.addConstrs((v.E_BES_in_T[t] <= v.E_BES_in_max_ for t in T), \"MAX_BES_IN\")\n",
    "    m.addConstrs((v.E_BES_in_T[t] >= -v.E_BES_out_max_ for t in T), \"MAX_BES_OUT\")\n",
    "    m.addConstr(v.E_BES_in_max_ == p.E_BES_CAPx_ * p.k_BES_in_per_capa_, \"DEF_E_BES_in_max_\")\n",
    "    m.addConstr(v.E_BES_out_max_ == p.E_BES_CAPx_ * p.k_BES_in_per_capa_, \"DEF_E_BES_out_max_\")\n",
    "    m.addConstrs((v.E_BES_T[t] == 0 for t in [min(T), max(T)]), \"INI_BES\")"
   ]
  },
  {
   "cell_type": "code",
   "execution_count": 5,
   "metadata": {
    "ExecuteTime": {
     "end_time": "2019-12-02T16:42:11.225535Z",
     "start_time": "2019-12-02T16:42:11.143753Z"
    },
    "slideshow": {
     "slide_type": "subslide"
    }
   },
   "outputs": [],
   "source": [
    "def postprocess_func(r):\n",
    "    \"\"\"Ensures positive timeseries for sankey- and log-based plots.\"\"\"\n",
    "    r.make_pos_ent(\"E_BES_in_T\", \"E_BES_out_T\")\n",
    "    r.make_pos_ent(\"E_pur_T\")"
   ]
  },
  {
   "cell_type": "markdown",
   "metadata": {
    "ExecuteTime": {
     "end_time": "2019-12-02T11:47:48.804029Z",
     "start_time": "2019-12-02T11:47:48.800039Z"
    },
    "slideshow": {
     "slide_type": "slide"
    }
   },
   "source": [
    "# Set up a case study and generate scenarios"
   ]
  },
  {
   "cell_type": "code",
   "execution_count": 6,
   "metadata": {
    "ExecuteTime": {
     "end_time": "2019-12-02T16:42:58.706542Z",
     "start_time": "2019-12-02T16:42:11.226532Z"
    },
    "scrolled": false,
    "slideshow": {
     "slide_type": "subslide"
    }
   },
   "outputs": [
    {
     "name": "stdout",
     "output_type": "stream",
     "text": [
      "Using license file D:\\Programme\\Anaconda3\\gurobi.lic\n",
      "Academic license - for non-commercial use only\n",
      "Successfully solved 13 scenarios with an average solving time of 0.629 seconds.\n",
      "CaseStudy saved to D:/mf/draf/results/ShowCase/2019-12-02_174258_.p ( 38.7 MB)\n"
     ]
    }
   ],
   "source": [
    "cs = draf.CaseStudy(\"ShowCase\", year=2017, freq=\"60min\", country=\"DE\")\n",
    "cs.set_custom_datetimeindex(t_st=\"Jan-01 00\", t_end=\"Dec-31 23\")\n",
    "\n",
    "cs.add_REF_scen(doc=\"no BES\").set_params(params_func).update_params(P_PV_CAPx_=100, c_el_peak_=50)\n",
    "cs.add_scens([(\"c_el_T\", \"t\", [f\"c_el_{ix}_T\" for ix in [\"RTP\", \"TOU\", \"FLAT\"]]),\n",
    "              (\"E_BES_CAPx_\", \"b\", [1000])],\n",
    "             nParetoPoints=4)\n",
    "\n",
    "cs.improve_pareto_and_set_model(model_func)\n",
    "cs.optimize(postprocess_func, logToConsole=False, show_results=False)\n",
    "cs.save();"
   ]
  },
  {
   "cell_type": "code",
   "execution_count": 7,
   "metadata": {
    "ExecuteTime": {
     "end_time": "2019-12-02T16:42:58.864119Z",
     "start_time": "2019-12-02T16:42:58.707538Z"
    },
    "slideshow": {
     "slide_type": "subslide"
    }
   },
   "outputs": [
    {
     "data": {
      "text/plain": [
       "<CaseStudy object>\n",
       "• name: ShowCase\n",
       "• doc: No doc available.\n",
       "• freq: 60min\n",
       "• country: DE\n",
       "• is_dry_run: False\n",
       "• scens: [...]\n",
       "• plot: <draf.plotting.cs_plotting.CsPlotter object at 0x000002094A54B108>\n",
       "• dims: <Dimensions object> (empty)\n",
       "• params: <Params object> (empty)\n",
       "• obj_vars: ['C_', 'CE_']\n",
       "• year: 2017\n",
       "• dtindex: [...]\n",
       "• dtindex_custom: [...]\n",
       "• steps_per_day: 24\n",
       "• scen_vars: [('c_el_T', 't', ['c_el_RTP_T', 'c_el_TOU_T', 'c_el_FLAT_T']), ('E_BES_CAPx_', 'b', [1000]), ('alpha_', 'a', array([0.        , 0.33333333, 0.66666667, 1.        ]))]\n",
       "• scen_df: [...]\n",
       "• dt_info:\n",
       "  ⤷ t1 = 0     (Sunday, 2017-01-01 00:00:00),\n",
       "  ⤷ t2 = 8759  (Sunday, 2017-12-31 23:00:00)\n",
       "  ⤷ Length = 8760"
      ]
     },
     "execution_count": 7,
     "metadata": {},
     "output_type": "execute_result"
    }
   ],
   "source": [
    "cs"
   ]
  },
  {
   "cell_type": "code",
   "execution_count": 8,
   "metadata": {
    "ExecuteTime": {
     "end_time": "2019-12-02T16:42:58.959989Z",
     "start_time": "2019-12-02T16:42:58.866114Z"
    },
    "slideshow": {
     "slide_type": "subslide"
    }
   },
   "outputs": [
    {
     "data": {
      "text/plain": [
       "<Scenarios object>\n",
       "   name         doc\n",
       "  ⤷ REF        | no BES\n",
       "  ⤷ sc1        | c_el_T=c_el_RTP_T; E_BES_CAPx_=1000; alpha_=0.0\n",
       "  ⤷ sc2        | c_el_T=c_el_RTP_T; E_BES_CAPx_=1000; alpha_=0.3333333333333333\n",
       "  ⤷ sc3        | c_el_T=c_el_RTP_T; E_BES_CAPx_=1000; alpha_=0.6666666666666666\n",
       "  ⤷ sc4        | c_el_T=c_el_RTP_T; E_BES_CAPx_=1000; alpha_=1.0\n",
       "  ⤷ sc5        | c_el_T=c_el_TOU_T; E_BES_CAPx_=1000; alpha_=0.0\n",
       "  ⤷ sc6        | c_el_T=c_el_TOU_T; E_BES_CAPx_=1000; alpha_=0.3333333333333333\n",
       "  ⤷ sc7        | c_el_T=c_el_TOU_T; E_BES_CAPx_=1000; alpha_=0.6666666666666666\n",
       "  ⤷ sc8        | c_el_T=c_el_TOU_T; E_BES_CAPx_=1000; alpha_=1.0\n",
       "  ⤷ sc9        | c_el_T=c_el_FLAT_T; E_BES_CAPx_=1000; alpha_=0.0\n",
       "  ⤷ sc10       | c_el_T=c_el_FLAT_T; E_BES_CAPx_=1000; alpha_=0.3333333333333333\n",
       "  ⤷ sc11       | c_el_T=c_el_FLAT_T; E_BES_CAPx_=1000; alpha_=0.6666666666666666\n",
       "  ⤷ sc12       | c_el_T=c_el_FLAT_T; E_BES_CAPx_=1000; alpha_=1.0"
      ]
     },
     "execution_count": 8,
     "metadata": {},
     "output_type": "execute_result"
    }
   ],
   "source": [
    "cs.scens"
   ]
  },
  {
   "cell_type": "code",
   "execution_count": 9,
   "metadata": {
    "ExecuteTime": {
     "end_time": "2019-12-02T16:42:59.063713Z",
     "start_time": "2019-12-02T16:42:58.960985Z"
    },
    "slideshow": {
     "slide_type": "subslide"
    }
   },
   "outputs": [
    {
     "data": {
      "text/plain": [
       "<Scenario object>\n",
       "• id: REF\n",
       "• name: REF\n",
       "• doc: no BES\n",
       "• is_dry_run: False\n",
       "• dims: [...]\n",
       "• params: [...]\n",
       "• mdl: <gurobi.Model Continuous instance REF_copy: 78845 constrs, 61325 vars, Parameter changes: MIPGap=0.1, MIPFocus=1, LogFile=D:\\mf\\draf\\results\\ShowCase\\gurobi.log, LogToConsole=0>\n",
       "• plot: <draf.plotting.scen_plotting.ScenPlotter object at 0x0000020943FAC648>\n",
       "• prep: <draf.prep.params_prepping.Prepper object at 0x0000020943FACC88>\n",
       "• vars: [...]\n",
       "• dtindex: [...]\n",
       "• dtindex_custom: [...]\n",
       "• res: [...]"
      ]
     },
     "execution_count": 9,
     "metadata": {},
     "output_type": "execute_result"
    }
   ],
   "source": [
    "cs.scens.REF"
   ]
  },
  {
   "cell_type": "code",
   "execution_count": 10,
   "metadata": {
    "ExecuteTime": {
     "end_time": "2019-12-02T16:42:59.176408Z",
     "start_time": "2019-12-02T16:42:59.067703Z"
    },
    "slideshow": {
     "slide_type": "subslide"
    }
   },
   "outputs": [
    {
     "data": {
      "text/plain": [
       "<Params object>\n",
       "   name                 dims       unit doc\n",
       "  ⤷ alpha_                   |          |pareto weighting factor\n",
       "  ⤷ n_comp_                  |          |weighting factor to compensate part year analysis\n",
       "  ⤷ n_C_                     |          |normalization factor\n",
       "  ⤷ n_CE_                    |          |normalization factor\n",
       "  ⤷ AF_                      |          |annuitiy factor (it pays off in 1/AF_ years)\n",
       "  ⤷ P_PV_CAPx_               |   kW_peak|existing capacity\n",
       "  ⤷ E_BES_CAPx_              |     kW_el|existing capacity\n",
       "  ⤷ c_el_peak_               |   €/kW_el|peak price\n",
       "  ⤷ c_el_RTP_T              T|  €/kWh_el|Day-ahead-market-prices 2017, 60min, DE\n",
       "  ⤷ c_el_TOU_T              T|  €/kWh_el|Time-Of-Use-tariff with the prices 0.029€ and 0.044€\n",
       "  ⤷ c_el_FLAT_T             T|  €/kWh_el|Flat-electricity tariff with the price 0.034€\n",
       "  ⤷ c_el_T                  T|  €/kWh_el|chosen electricity tariff\n",
       "  ⤷ c_el_addon_T            T|  €/kWh_el|add-on electricity price component\n",
       "  ⤷ ce_el_T                 T|gCO2eq/kWh_el|Average carbon emission factors for 2017, 60min, DE. Source:entsoe\n",
       "  ⤷ E_PV_profile_T          T|kW_el/kW_peak|produced PV-power for 1 kW_peak\n",
       "  ⤷ E_dem_T                 T|    kWh_el|electricity demand: standard load profile G3\n",
       "  ⤷ eta_BES_time_            |          |storing efficiency\n",
       "  ⤷ eta_BES_in_              |          |loading efficiency\n",
       "  ⤷ k_BES_in_per_capa_       |          |ratio loading power / capacity\n",
       "  ⤷ timelog_params_          |   seconds|time for building the params\n",
       "  ⤷ mipGap_                  |         %|Gap to relaxed solution\n",
       "  ⤷ timelog_model_           |   seconds|time for building the model\n",
       "  ⤷ timelog_solve_           |   seconds|time for solving the model"
      ]
     },
     "execution_count": 10,
     "metadata": {},
     "output_type": "execute_result"
    }
   ],
   "source": [
    "cs.scens.REF.params"
   ]
  },
  {
   "cell_type": "markdown",
   "metadata": {
    "ExecuteTime": {
     "end_time": "2019-12-02T13:44:58.838353Z",
     "start_time": "2019-12-02T13:44:58.836331Z"
    },
    "slideshow": {
     "slide_type": "slide"
    }
   },
   "source": [
    "# Plot results"
   ]
  },
  {
   "cell_type": "code",
   "execution_count": 11,
   "metadata": {
    "ExecuteTime": {
     "end_time": "2019-12-02T16:42:59.627947Z",
     "start_time": "2019-12-02T16:42:59.177407Z"
    },
    "slideshow": {
     "slide_type": "subslide"
    }
   },
   "outputs": [
    {
     "name": "stdout",
     "output_type": "stream",
     "text": [
      "Note: Bold font indicate deviation from first/reference scenario.\n"
     ]
    },
    {
     "data": {
      "text/html": [
       "<style  type=\"text/css\" >\n",
       "    #T_ccb8692c_1522_11ea_8857_68847e8cad55row0_col0 {\n",
       "            background-color:  #e5ffe5;\n",
       "            color:  #000000;\n",
       "        }    #T_ccb8692c_1522_11ea_8857_68847e8cad55row0_col1 {\n",
       "            background-color:  #e5ffe5;\n",
       "            color:  #000000;\n",
       "            color:  lightgray;\n",
       "            : ;\n",
       "        }    #T_ccb8692c_1522_11ea_8857_68847e8cad55row0_col2 {\n",
       "            background-color:  #e5ffe5;\n",
       "            color:  #000000;\n",
       "            : ;\n",
       "            font-weight:  bold;\n",
       "        }    #T_ccb8692c_1522_11ea_8857_68847e8cad55row0_col3 {\n",
       "            background-color:  #e5ffe5;\n",
       "            color:  #000000;\n",
       "            : ;\n",
       "            font-weight:  bold;\n",
       "        }    #T_ccb8692c_1522_11ea_8857_68847e8cad55row0_col4 {\n",
       "            background-color:  #e5ffe5;\n",
       "            color:  #000000;\n",
       "            : ;\n",
       "            font-weight:  bold;\n",
       "        }    #T_ccb8692c_1522_11ea_8857_68847e8cad55row0_col5 {\n",
       "            background-color:  #e5ffe5;\n",
       "            color:  #000000;\n",
       "            color:  lightgray;\n",
       "            : ;\n",
       "        }    #T_ccb8692c_1522_11ea_8857_68847e8cad55row0_col6 {\n",
       "            background-color:  #e5ffe5;\n",
       "            color:  #000000;\n",
       "            : ;\n",
       "            font-weight:  bold;\n",
       "        }    #T_ccb8692c_1522_11ea_8857_68847e8cad55row0_col7 {\n",
       "            background-color:  #e5ffe5;\n",
       "            color:  #000000;\n",
       "            : ;\n",
       "            font-weight:  bold;\n",
       "        }    #T_ccb8692c_1522_11ea_8857_68847e8cad55row0_col8 {\n",
       "            background-color:  #e5ffe5;\n",
       "            color:  #000000;\n",
       "            : ;\n",
       "            font-weight:  bold;\n",
       "        }    #T_ccb8692c_1522_11ea_8857_68847e8cad55row0_col9 {\n",
       "            background-color:  #e5ffe5;\n",
       "            color:  #000000;\n",
       "            color:  lightgray;\n",
       "            : ;\n",
       "        }    #T_ccb8692c_1522_11ea_8857_68847e8cad55row0_col10 {\n",
       "            background-color:  #e5ffe5;\n",
       "            color:  #000000;\n",
       "            : ;\n",
       "            font-weight:  bold;\n",
       "        }    #T_ccb8692c_1522_11ea_8857_68847e8cad55row0_col11 {\n",
       "            background-color:  #e5ffe5;\n",
       "            color:  #000000;\n",
       "            : ;\n",
       "            font-weight:  bold;\n",
       "        }    #T_ccb8692c_1522_11ea_8857_68847e8cad55row0_col12 {\n",
       "            background-color:  #e5ffe5;\n",
       "            color:  #000000;\n",
       "            : ;\n",
       "            font-weight:  bold;\n",
       "        }    #T_ccb8692c_1522_11ea_8857_68847e8cad55row0_col13 {\n",
       "            : ;\n",
       "            font-weight:  bold;\n",
       "        }    #T_ccb8692c_1522_11ea_8857_68847e8cad55row0_col14 {\n",
       "            : ;\n",
       "            font-weight:  bold;\n",
       "        }    #T_ccb8692c_1522_11ea_8857_68847e8cad55row1_col0 {\n",
       "            background-color:  #e4fee4;\n",
       "            color:  #000000;\n",
       "        }    #T_ccb8692c_1522_11ea_8857_68847e8cad55row1_col1 {\n",
       "            background-color:  #e5ffe5;\n",
       "            color:  #000000;\n",
       "            color:  lightgray;\n",
       "            : ;\n",
       "        }    #T_ccb8692c_1522_11ea_8857_68847e8cad55row1_col2 {\n",
       "            background-color:  #e5ffe5;\n",
       "            color:  #000000;\n",
       "            color:  lightgray;\n",
       "            : ;\n",
       "        }    #T_ccb8692c_1522_11ea_8857_68847e8cad55row1_col3 {\n",
       "            background-color:  #e5ffe5;\n",
       "            color:  #000000;\n",
       "            color:  lightgray;\n",
       "            : ;\n",
       "        }    #T_ccb8692c_1522_11ea_8857_68847e8cad55row1_col4 {\n",
       "            background-color:  #e5ffe5;\n",
       "            color:  #000000;\n",
       "            color:  lightgray;\n",
       "            : ;\n",
       "        }    #T_ccb8692c_1522_11ea_8857_68847e8cad55row1_col5 {\n",
       "            background-color:  #e5ffe5;\n",
       "            color:  #000000;\n",
       "            color:  lightgray;\n",
       "            : ;\n",
       "        }    #T_ccb8692c_1522_11ea_8857_68847e8cad55row1_col6 {\n",
       "            background-color:  #e5ffe5;\n",
       "            color:  #000000;\n",
       "            color:  lightgray;\n",
       "            : ;\n",
       "        }    #T_ccb8692c_1522_11ea_8857_68847e8cad55row1_col7 {\n",
       "            background-color:  #e5ffe5;\n",
       "            color:  #000000;\n",
       "            color:  lightgray;\n",
       "            : ;\n",
       "        }    #T_ccb8692c_1522_11ea_8857_68847e8cad55row1_col8 {\n",
       "            background-color:  #e5ffe5;\n",
       "            color:  #000000;\n",
       "            color:  lightgray;\n",
       "            : ;\n",
       "        }    #T_ccb8692c_1522_11ea_8857_68847e8cad55row1_col9 {\n",
       "            background-color:  #e5ffe5;\n",
       "            color:  #000000;\n",
       "            color:  lightgray;\n",
       "            : ;\n",
       "        }    #T_ccb8692c_1522_11ea_8857_68847e8cad55row1_col10 {\n",
       "            background-color:  #e5ffe5;\n",
       "            color:  #000000;\n",
       "            color:  lightgray;\n",
       "            : ;\n",
       "        }    #T_ccb8692c_1522_11ea_8857_68847e8cad55row1_col11 {\n",
       "            background-color:  #e5ffe5;\n",
       "            color:  #000000;\n",
       "            color:  lightgray;\n",
       "            : ;\n",
       "        }    #T_ccb8692c_1522_11ea_8857_68847e8cad55row1_col12 {\n",
       "            background-color:  #e5ffe5;\n",
       "            color:  #000000;\n",
       "            color:  lightgray;\n",
       "            : ;\n",
       "        }    #T_ccb8692c_1522_11ea_8857_68847e8cad55row1_col13 {\n",
       "            : ;\n",
       "            font-weight:  bold;\n",
       "        }    #T_ccb8692c_1522_11ea_8857_68847e8cad55row1_col14 {\n",
       "            : ;\n",
       "            font-weight:  bold;\n",
       "        }    #T_ccb8692c_1522_11ea_8857_68847e8cad55row2_col0 {\n",
       "            background-color:  #e5ffe5;\n",
       "            color:  #000000;\n",
       "        }    #T_ccb8692c_1522_11ea_8857_68847e8cad55row2_col1 {\n",
       "            background-color:  #e5ffe5;\n",
       "            color:  #000000;\n",
       "            color:  lightgray;\n",
       "            : ;\n",
       "        }    #T_ccb8692c_1522_11ea_8857_68847e8cad55row2_col2 {\n",
       "            background-color:  #e5ffe5;\n",
       "            color:  #000000;\n",
       "            color:  lightgray;\n",
       "            : ;\n",
       "        }    #T_ccb8692c_1522_11ea_8857_68847e8cad55row2_col3 {\n",
       "            background-color:  #e5ffe5;\n",
       "            color:  #000000;\n",
       "            color:  lightgray;\n",
       "            : ;\n",
       "        }    #T_ccb8692c_1522_11ea_8857_68847e8cad55row2_col4 {\n",
       "            background-color:  #e5ffe5;\n",
       "            color:  #000000;\n",
       "            color:  lightgray;\n",
       "            : ;\n",
       "        }    #T_ccb8692c_1522_11ea_8857_68847e8cad55row2_col5 {\n",
       "            background-color:  #e5ffe5;\n",
       "            color:  #000000;\n",
       "            color:  lightgray;\n",
       "            : ;\n",
       "        }    #T_ccb8692c_1522_11ea_8857_68847e8cad55row2_col6 {\n",
       "            background-color:  #e5ffe5;\n",
       "            color:  #000000;\n",
       "            color:  lightgray;\n",
       "            : ;\n",
       "        }    #T_ccb8692c_1522_11ea_8857_68847e8cad55row2_col7 {\n",
       "            background-color:  #e5ffe5;\n",
       "            color:  #000000;\n",
       "            color:  lightgray;\n",
       "            : ;\n",
       "        }    #T_ccb8692c_1522_11ea_8857_68847e8cad55row2_col8 {\n",
       "            background-color:  #e5ffe5;\n",
       "            color:  #000000;\n",
       "            color:  lightgray;\n",
       "            : ;\n",
       "        }    #T_ccb8692c_1522_11ea_8857_68847e8cad55row2_col9 {\n",
       "            background-color:  #e5ffe5;\n",
       "            color:  #000000;\n",
       "            color:  lightgray;\n",
       "            : ;\n",
       "        }    #T_ccb8692c_1522_11ea_8857_68847e8cad55row2_col10 {\n",
       "            background-color:  #e5ffe5;\n",
       "            color:  #000000;\n",
       "            color:  lightgray;\n",
       "            : ;\n",
       "        }    #T_ccb8692c_1522_11ea_8857_68847e8cad55row2_col11 {\n",
       "            background-color:  #e5ffe5;\n",
       "            color:  #000000;\n",
       "            color:  lightgray;\n",
       "            : ;\n",
       "        }    #T_ccb8692c_1522_11ea_8857_68847e8cad55row2_col12 {\n",
       "            background-color:  #e5ffe5;\n",
       "            color:  #000000;\n",
       "            color:  lightgray;\n",
       "            : ;\n",
       "        }    #T_ccb8692c_1522_11ea_8857_68847e8cad55row2_col13 {\n",
       "            : ;\n",
       "            font-weight:  bold;\n",
       "        }    #T_ccb8692c_1522_11ea_8857_68847e8cad55row2_col14 {\n",
       "            : ;\n",
       "            font-weight:  bold;\n",
       "        }    #T_ccb8692c_1522_11ea_8857_68847e8cad55row3_col0 {\n",
       "            background-color:  #e5ffe5;\n",
       "            color:  #000000;\n",
       "        }    #T_ccb8692c_1522_11ea_8857_68847e8cad55row3_col1 {\n",
       "            background-color:  #e5ffe5;\n",
       "            color:  #000000;\n",
       "            color:  lightgray;\n",
       "            : ;\n",
       "        }    #T_ccb8692c_1522_11ea_8857_68847e8cad55row3_col2 {\n",
       "            background-color:  #e5ffe5;\n",
       "            color:  #000000;\n",
       "            color:  lightgray;\n",
       "            : ;\n",
       "        }    #T_ccb8692c_1522_11ea_8857_68847e8cad55row3_col3 {\n",
       "            background-color:  #e5ffe5;\n",
       "            color:  #000000;\n",
       "            color:  lightgray;\n",
       "            : ;\n",
       "        }    #T_ccb8692c_1522_11ea_8857_68847e8cad55row3_col4 {\n",
       "            background-color:  #e5ffe5;\n",
       "            color:  #000000;\n",
       "            color:  lightgray;\n",
       "            : ;\n",
       "        }    #T_ccb8692c_1522_11ea_8857_68847e8cad55row3_col5 {\n",
       "            background-color:  #e5ffe5;\n",
       "            color:  #000000;\n",
       "            color:  lightgray;\n",
       "            : ;\n",
       "        }    #T_ccb8692c_1522_11ea_8857_68847e8cad55row3_col6 {\n",
       "            background-color:  #e5ffe5;\n",
       "            color:  #000000;\n",
       "            color:  lightgray;\n",
       "            : ;\n",
       "        }    #T_ccb8692c_1522_11ea_8857_68847e8cad55row3_col7 {\n",
       "            background-color:  #e5ffe5;\n",
       "            color:  #000000;\n",
       "            color:  lightgray;\n",
       "            : ;\n",
       "        }    #T_ccb8692c_1522_11ea_8857_68847e8cad55row3_col8 {\n",
       "            background-color:  #e5ffe5;\n",
       "            color:  #000000;\n",
       "            color:  lightgray;\n",
       "            : ;\n",
       "        }    #T_ccb8692c_1522_11ea_8857_68847e8cad55row3_col9 {\n",
       "            background-color:  #e5ffe5;\n",
       "            color:  #000000;\n",
       "            color:  lightgray;\n",
       "            : ;\n",
       "        }    #T_ccb8692c_1522_11ea_8857_68847e8cad55row3_col10 {\n",
       "            background-color:  #e5ffe5;\n",
       "            color:  #000000;\n",
       "            color:  lightgray;\n",
       "            : ;\n",
       "        }    #T_ccb8692c_1522_11ea_8857_68847e8cad55row3_col11 {\n",
       "            background-color:  #e5ffe5;\n",
       "            color:  #000000;\n",
       "            color:  lightgray;\n",
       "            : ;\n",
       "        }    #T_ccb8692c_1522_11ea_8857_68847e8cad55row3_col12 {\n",
       "            background-color:  #e5ffe5;\n",
       "            color:  #000000;\n",
       "            color:  lightgray;\n",
       "            : ;\n",
       "        }    #T_ccb8692c_1522_11ea_8857_68847e8cad55row3_col13 {\n",
       "            : ;\n",
       "            font-weight:  bold;\n",
       "        }    #T_ccb8692c_1522_11ea_8857_68847e8cad55row3_col14 {\n",
       "            : ;\n",
       "            font-weight:  bold;\n",
       "        }    #T_ccb8692c_1522_11ea_8857_68847e8cad55row4_col0 {\n",
       "            background-color:  #e5ffe5;\n",
       "            color:  #000000;\n",
       "        }    #T_ccb8692c_1522_11ea_8857_68847e8cad55row4_col1 {\n",
       "            background-color:  #e5ffe5;\n",
       "            color:  #000000;\n",
       "            color:  lightgray;\n",
       "            : ;\n",
       "        }    #T_ccb8692c_1522_11ea_8857_68847e8cad55row4_col2 {\n",
       "            background-color:  #e5ffe5;\n",
       "            color:  #000000;\n",
       "            color:  lightgray;\n",
       "            : ;\n",
       "        }    #T_ccb8692c_1522_11ea_8857_68847e8cad55row4_col3 {\n",
       "            background-color:  #e5ffe5;\n",
       "            color:  #000000;\n",
       "            color:  lightgray;\n",
       "            : ;\n",
       "        }    #T_ccb8692c_1522_11ea_8857_68847e8cad55row4_col4 {\n",
       "            background-color:  #e5ffe5;\n",
       "            color:  #000000;\n",
       "            color:  lightgray;\n",
       "            : ;\n",
       "        }    #T_ccb8692c_1522_11ea_8857_68847e8cad55row4_col5 {\n",
       "            background-color:  #e5ffe5;\n",
       "            color:  #000000;\n",
       "            color:  lightgray;\n",
       "            : ;\n",
       "        }    #T_ccb8692c_1522_11ea_8857_68847e8cad55row4_col6 {\n",
       "            background-color:  #e5ffe5;\n",
       "            color:  #000000;\n",
       "            color:  lightgray;\n",
       "            : ;\n",
       "        }    #T_ccb8692c_1522_11ea_8857_68847e8cad55row4_col7 {\n",
       "            background-color:  #e5ffe5;\n",
       "            color:  #000000;\n",
       "            color:  lightgray;\n",
       "            : ;\n",
       "        }    #T_ccb8692c_1522_11ea_8857_68847e8cad55row4_col8 {\n",
       "            background-color:  #e5ffe5;\n",
       "            color:  #000000;\n",
       "            color:  lightgray;\n",
       "            : ;\n",
       "        }    #T_ccb8692c_1522_11ea_8857_68847e8cad55row4_col9 {\n",
       "            background-color:  #e5ffe5;\n",
       "            color:  #000000;\n",
       "            color:  lightgray;\n",
       "            : ;\n",
       "        }    #T_ccb8692c_1522_11ea_8857_68847e8cad55row4_col10 {\n",
       "            background-color:  #e5ffe5;\n",
       "            color:  #000000;\n",
       "            color:  lightgray;\n",
       "            : ;\n",
       "        }    #T_ccb8692c_1522_11ea_8857_68847e8cad55row4_col11 {\n",
       "            background-color:  #e5ffe5;\n",
       "            color:  #000000;\n",
       "            color:  lightgray;\n",
       "            : ;\n",
       "        }    #T_ccb8692c_1522_11ea_8857_68847e8cad55row4_col12 {\n",
       "            background-color:  #e5ffe5;\n",
       "            color:  #000000;\n",
       "            color:  lightgray;\n",
       "            : ;\n",
       "        }    #T_ccb8692c_1522_11ea_8857_68847e8cad55row4_col13 {\n",
       "            : ;\n",
       "            font-weight:  bold;\n",
       "        }    #T_ccb8692c_1522_11ea_8857_68847e8cad55row4_col14 {\n",
       "            : ;\n",
       "            font-weight:  bold;\n",
       "        }    #T_ccb8692c_1522_11ea_8857_68847e8cad55row5_col0 {\n",
       "            background-color:  #008000;\n",
       "            color:  #f1f1f1;\n",
       "        }    #T_ccb8692c_1522_11ea_8857_68847e8cad55row5_col1 {\n",
       "            background-color:  #cff3cf;\n",
       "            color:  #000000;\n",
       "            color:  lightgray;\n",
       "            : ;\n",
       "        }    #T_ccb8692c_1522_11ea_8857_68847e8cad55row5_col2 {\n",
       "            background-color:  #cff3cf;\n",
       "            color:  #000000;\n",
       "            color:  lightgray;\n",
       "            : ;\n",
       "        }    #T_ccb8692c_1522_11ea_8857_68847e8cad55row5_col3 {\n",
       "            background-color:  #cff3cf;\n",
       "            color:  #000000;\n",
       "            color:  lightgray;\n",
       "            : ;\n",
       "        }    #T_ccb8692c_1522_11ea_8857_68847e8cad55row5_col4 {\n",
       "            background-color:  #cff3cf;\n",
       "            color:  #000000;\n",
       "            color:  lightgray;\n",
       "            : ;\n",
       "        }    #T_ccb8692c_1522_11ea_8857_68847e8cad55row5_col5 {\n",
       "            background-color:  #cff3cf;\n",
       "            color:  #000000;\n",
       "            color:  lightgray;\n",
       "            : ;\n",
       "        }    #T_ccb8692c_1522_11ea_8857_68847e8cad55row5_col6 {\n",
       "            background-color:  #cff3cf;\n",
       "            color:  #000000;\n",
       "            color:  lightgray;\n",
       "            : ;\n",
       "        }    #T_ccb8692c_1522_11ea_8857_68847e8cad55row5_col7 {\n",
       "            background-color:  #cff3cf;\n",
       "            color:  #000000;\n",
       "            color:  lightgray;\n",
       "            : ;\n",
       "        }    #T_ccb8692c_1522_11ea_8857_68847e8cad55row5_col8 {\n",
       "            background-color:  #cff3cf;\n",
       "            color:  #000000;\n",
       "            color:  lightgray;\n",
       "            : ;\n",
       "        }    #T_ccb8692c_1522_11ea_8857_68847e8cad55row5_col9 {\n",
       "            background-color:  #cff3cf;\n",
       "            color:  #000000;\n",
       "            color:  lightgray;\n",
       "            : ;\n",
       "        }    #T_ccb8692c_1522_11ea_8857_68847e8cad55row5_col10 {\n",
       "            background-color:  #cff3cf;\n",
       "            color:  #000000;\n",
       "            color:  lightgray;\n",
       "            : ;\n",
       "        }    #T_ccb8692c_1522_11ea_8857_68847e8cad55row5_col11 {\n",
       "            background-color:  #cff3cf;\n",
       "            color:  #000000;\n",
       "            color:  lightgray;\n",
       "            : ;\n",
       "        }    #T_ccb8692c_1522_11ea_8857_68847e8cad55row5_col12 {\n",
       "            background-color:  #cff3cf;\n",
       "            color:  #000000;\n",
       "            color:  lightgray;\n",
       "            : ;\n",
       "        }    #T_ccb8692c_1522_11ea_8857_68847e8cad55row5_col13 {\n",
       "            : ;\n",
       "            font-weight:  bold;\n",
       "        }    #T_ccb8692c_1522_11ea_8857_68847e8cad55row5_col14 {\n",
       "            : ;\n",
       "            font-weight:  bold;\n",
       "        }    #T_ccb8692c_1522_11ea_8857_68847e8cad55row6_col0 {\n",
       "            background-color:  #e5ffe5;\n",
       "            color:  #000000;\n",
       "        }    #T_ccb8692c_1522_11ea_8857_68847e8cad55row6_col1 {\n",
       "            background-color:  #008000;\n",
       "            color:  #f1f1f1;\n",
       "            : ;\n",
       "            font-weight:  bold;\n",
       "        }    #T_ccb8692c_1522_11ea_8857_68847e8cad55row6_col2 {\n",
       "            background-color:  #008000;\n",
       "            color:  #f1f1f1;\n",
       "            : ;\n",
       "            font-weight:  bold;\n",
       "        }    #T_ccb8692c_1522_11ea_8857_68847e8cad55row6_col3 {\n",
       "            background-color:  #008000;\n",
       "            color:  #f1f1f1;\n",
       "            : ;\n",
       "            font-weight:  bold;\n",
       "        }    #T_ccb8692c_1522_11ea_8857_68847e8cad55row6_col4 {\n",
       "            background-color:  #008000;\n",
       "            color:  #f1f1f1;\n",
       "            : ;\n",
       "            font-weight:  bold;\n",
       "        }    #T_ccb8692c_1522_11ea_8857_68847e8cad55row6_col5 {\n",
       "            background-color:  #008000;\n",
       "            color:  #f1f1f1;\n",
       "            : ;\n",
       "            font-weight:  bold;\n",
       "        }    #T_ccb8692c_1522_11ea_8857_68847e8cad55row6_col6 {\n",
       "            background-color:  #008000;\n",
       "            color:  #f1f1f1;\n",
       "            : ;\n",
       "            font-weight:  bold;\n",
       "        }    #T_ccb8692c_1522_11ea_8857_68847e8cad55row6_col7 {\n",
       "            background-color:  #008000;\n",
       "            color:  #f1f1f1;\n",
       "            : ;\n",
       "            font-weight:  bold;\n",
       "        }    #T_ccb8692c_1522_11ea_8857_68847e8cad55row6_col8 {\n",
       "            background-color:  #008000;\n",
       "            color:  #f1f1f1;\n",
       "            : ;\n",
       "            font-weight:  bold;\n",
       "        }    #T_ccb8692c_1522_11ea_8857_68847e8cad55row6_col9 {\n",
       "            background-color:  #008000;\n",
       "            color:  #f1f1f1;\n",
       "            : ;\n",
       "            font-weight:  bold;\n",
       "        }    #T_ccb8692c_1522_11ea_8857_68847e8cad55row6_col10 {\n",
       "            background-color:  #008000;\n",
       "            color:  #f1f1f1;\n",
       "            : ;\n",
       "            font-weight:  bold;\n",
       "        }    #T_ccb8692c_1522_11ea_8857_68847e8cad55row6_col11 {\n",
       "            background-color:  #008000;\n",
       "            color:  #f1f1f1;\n",
       "            : ;\n",
       "            font-weight:  bold;\n",
       "        }    #T_ccb8692c_1522_11ea_8857_68847e8cad55row6_col12 {\n",
       "            background-color:  #008000;\n",
       "            color:  #f1f1f1;\n",
       "            : ;\n",
       "            font-weight:  bold;\n",
       "        }    #T_ccb8692c_1522_11ea_8857_68847e8cad55row6_col13 {\n",
       "            : ;\n",
       "            font-weight:  bold;\n",
       "        }    #T_ccb8692c_1522_11ea_8857_68847e8cad55row6_col14 {\n",
       "            : ;\n",
       "            font-weight:  bold;\n",
       "        }    #T_ccb8692c_1522_11ea_8857_68847e8cad55row7_col0 {\n",
       "            background-color:  #72bf72;\n",
       "            color:  #000000;\n",
       "        }    #T_ccb8692c_1522_11ea_8857_68847e8cad55row7_col1 {\n",
       "            background-color:  #dbf9db;\n",
       "            color:  #000000;\n",
       "            color:  lightgray;\n",
       "            : ;\n",
       "        }    #T_ccb8692c_1522_11ea_8857_68847e8cad55row7_col2 {\n",
       "            background-color:  #dbf9db;\n",
       "            color:  #000000;\n",
       "            color:  lightgray;\n",
       "            : ;\n",
       "        }    #T_ccb8692c_1522_11ea_8857_68847e8cad55row7_col3 {\n",
       "            background-color:  #dbf9db;\n",
       "            color:  #000000;\n",
       "            color:  lightgray;\n",
       "            : ;\n",
       "        }    #T_ccb8692c_1522_11ea_8857_68847e8cad55row7_col4 {\n",
       "            background-color:  #dbf9db;\n",
       "            color:  #000000;\n",
       "            color:  lightgray;\n",
       "            : ;\n",
       "        }    #T_ccb8692c_1522_11ea_8857_68847e8cad55row7_col5 {\n",
       "            background-color:  #dbf9db;\n",
       "            color:  #000000;\n",
       "            color:  lightgray;\n",
       "            : ;\n",
       "        }    #T_ccb8692c_1522_11ea_8857_68847e8cad55row7_col6 {\n",
       "            background-color:  #dbf9db;\n",
       "            color:  #000000;\n",
       "            color:  lightgray;\n",
       "            : ;\n",
       "        }    #T_ccb8692c_1522_11ea_8857_68847e8cad55row7_col7 {\n",
       "            background-color:  #dbf9db;\n",
       "            color:  #000000;\n",
       "            color:  lightgray;\n",
       "            : ;\n",
       "        }    #T_ccb8692c_1522_11ea_8857_68847e8cad55row7_col8 {\n",
       "            background-color:  #dbf9db;\n",
       "            color:  #000000;\n",
       "            color:  lightgray;\n",
       "            : ;\n",
       "        }    #T_ccb8692c_1522_11ea_8857_68847e8cad55row7_col9 {\n",
       "            background-color:  #dbf9db;\n",
       "            color:  #000000;\n",
       "            color:  lightgray;\n",
       "            : ;\n",
       "        }    #T_ccb8692c_1522_11ea_8857_68847e8cad55row7_col10 {\n",
       "            background-color:  #dbf9db;\n",
       "            color:  #000000;\n",
       "            color:  lightgray;\n",
       "            : ;\n",
       "        }    #T_ccb8692c_1522_11ea_8857_68847e8cad55row7_col11 {\n",
       "            background-color:  #dbf9db;\n",
       "            color:  #000000;\n",
       "            color:  lightgray;\n",
       "            : ;\n",
       "        }    #T_ccb8692c_1522_11ea_8857_68847e8cad55row7_col12 {\n",
       "            background-color:  #dbf9db;\n",
       "            color:  #000000;\n",
       "            color:  lightgray;\n",
       "            : ;\n",
       "        }    #T_ccb8692c_1522_11ea_8857_68847e8cad55row7_col13 {\n",
       "            : ;\n",
       "            font-weight:  bold;\n",
       "        }    #T_ccb8692c_1522_11ea_8857_68847e8cad55row7_col14 {\n",
       "            : ;\n",
       "            font-weight:  bold;\n",
       "        }    #T_ccb8692c_1522_11ea_8857_68847e8cad55row8_col0 {\n",
       "            background-color:  #e4fee4;\n",
       "            color:  #000000;\n",
       "        }    #T_ccb8692c_1522_11ea_8857_68847e8cad55row8_col1 {\n",
       "            background-color:  #e5ffe5;\n",
       "            color:  #000000;\n",
       "            color:  lightgray;\n",
       "            : ;\n",
       "        }    #T_ccb8692c_1522_11ea_8857_68847e8cad55row8_col2 {\n",
       "            background-color:  #e5ffe5;\n",
       "            color:  #000000;\n",
       "            color:  lightgray;\n",
       "            : ;\n",
       "        }    #T_ccb8692c_1522_11ea_8857_68847e8cad55row8_col3 {\n",
       "            background-color:  #e5ffe5;\n",
       "            color:  #000000;\n",
       "            color:  lightgray;\n",
       "            : ;\n",
       "        }    #T_ccb8692c_1522_11ea_8857_68847e8cad55row8_col4 {\n",
       "            background-color:  #e5ffe5;\n",
       "            color:  #000000;\n",
       "            color:  lightgray;\n",
       "            : ;\n",
       "        }    #T_ccb8692c_1522_11ea_8857_68847e8cad55row8_col5 {\n",
       "            background-color:  #e5ffe5;\n",
       "            color:  #000000;\n",
       "            color:  lightgray;\n",
       "            : ;\n",
       "        }    #T_ccb8692c_1522_11ea_8857_68847e8cad55row8_col6 {\n",
       "            background-color:  #e5ffe5;\n",
       "            color:  #000000;\n",
       "            color:  lightgray;\n",
       "            : ;\n",
       "        }    #T_ccb8692c_1522_11ea_8857_68847e8cad55row8_col7 {\n",
       "            background-color:  #e5ffe5;\n",
       "            color:  #000000;\n",
       "            color:  lightgray;\n",
       "            : ;\n",
       "        }    #T_ccb8692c_1522_11ea_8857_68847e8cad55row8_col8 {\n",
       "            background-color:  #e5ffe5;\n",
       "            color:  #000000;\n",
       "            color:  lightgray;\n",
       "            : ;\n",
       "        }    #T_ccb8692c_1522_11ea_8857_68847e8cad55row8_col9 {\n",
       "            background-color:  #e5ffe5;\n",
       "            color:  #000000;\n",
       "            color:  lightgray;\n",
       "            : ;\n",
       "        }    #T_ccb8692c_1522_11ea_8857_68847e8cad55row8_col10 {\n",
       "            background-color:  #e5ffe5;\n",
       "            color:  #000000;\n",
       "            color:  lightgray;\n",
       "            : ;\n",
       "        }    #T_ccb8692c_1522_11ea_8857_68847e8cad55row8_col11 {\n",
       "            background-color:  #e5ffe5;\n",
       "            color:  #000000;\n",
       "            color:  lightgray;\n",
       "            : ;\n",
       "        }    #T_ccb8692c_1522_11ea_8857_68847e8cad55row8_col12 {\n",
       "            background-color:  #e5ffe5;\n",
       "            color:  #000000;\n",
       "            color:  lightgray;\n",
       "            : ;\n",
       "        }    #T_ccb8692c_1522_11ea_8857_68847e8cad55row8_col13 {\n",
       "            : ;\n",
       "            font-weight:  bold;\n",
       "        }    #T_ccb8692c_1522_11ea_8857_68847e8cad55row8_col14 {\n",
       "            : ;\n",
       "            font-weight:  bold;\n",
       "        }    #T_ccb8692c_1522_11ea_8857_68847e8cad55row9_col0 {\n",
       "            background-color:  #e4fee4;\n",
       "            color:  #000000;\n",
       "        }    #T_ccb8692c_1522_11ea_8857_68847e8cad55row9_col1 {\n",
       "            background-color:  #e5ffe5;\n",
       "            color:  #000000;\n",
       "            color:  lightgray;\n",
       "            : ;\n",
       "        }    #T_ccb8692c_1522_11ea_8857_68847e8cad55row9_col2 {\n",
       "            background-color:  #e5ffe5;\n",
       "            color:  #000000;\n",
       "            color:  lightgray;\n",
       "            : ;\n",
       "        }    #T_ccb8692c_1522_11ea_8857_68847e8cad55row9_col3 {\n",
       "            background-color:  #e5ffe5;\n",
       "            color:  #000000;\n",
       "            color:  lightgray;\n",
       "            : ;\n",
       "        }    #T_ccb8692c_1522_11ea_8857_68847e8cad55row9_col4 {\n",
       "            background-color:  #e5ffe5;\n",
       "            color:  #000000;\n",
       "            color:  lightgray;\n",
       "            : ;\n",
       "        }    #T_ccb8692c_1522_11ea_8857_68847e8cad55row9_col5 {\n",
       "            background-color:  #e5ffe5;\n",
       "            color:  #000000;\n",
       "            color:  lightgray;\n",
       "            : ;\n",
       "        }    #T_ccb8692c_1522_11ea_8857_68847e8cad55row9_col6 {\n",
       "            background-color:  #e5ffe5;\n",
       "            color:  #000000;\n",
       "            color:  lightgray;\n",
       "            : ;\n",
       "        }    #T_ccb8692c_1522_11ea_8857_68847e8cad55row9_col7 {\n",
       "            background-color:  #e5ffe5;\n",
       "            color:  #000000;\n",
       "            color:  lightgray;\n",
       "            : ;\n",
       "        }    #T_ccb8692c_1522_11ea_8857_68847e8cad55row9_col8 {\n",
       "            background-color:  #e5ffe5;\n",
       "            color:  #000000;\n",
       "            color:  lightgray;\n",
       "            : ;\n",
       "        }    #T_ccb8692c_1522_11ea_8857_68847e8cad55row9_col9 {\n",
       "            background-color:  #e5ffe5;\n",
       "            color:  #000000;\n",
       "            color:  lightgray;\n",
       "            : ;\n",
       "        }    #T_ccb8692c_1522_11ea_8857_68847e8cad55row9_col10 {\n",
       "            background-color:  #e5ffe5;\n",
       "            color:  #000000;\n",
       "            color:  lightgray;\n",
       "            : ;\n",
       "        }    #T_ccb8692c_1522_11ea_8857_68847e8cad55row9_col11 {\n",
       "            background-color:  #e5ffe5;\n",
       "            color:  #000000;\n",
       "            color:  lightgray;\n",
       "            : ;\n",
       "        }    #T_ccb8692c_1522_11ea_8857_68847e8cad55row9_col12 {\n",
       "            background-color:  #e5ffe5;\n",
       "            color:  #000000;\n",
       "            color:  lightgray;\n",
       "            : ;\n",
       "        }    #T_ccb8692c_1522_11ea_8857_68847e8cad55row9_col13 {\n",
       "            : ;\n",
       "            font-weight:  bold;\n",
       "        }    #T_ccb8692c_1522_11ea_8857_68847e8cad55row9_col14 {\n",
       "            : ;\n",
       "            font-weight:  bold;\n",
       "        }    #T_ccb8692c_1522_11ea_8857_68847e8cad55row10_col0 {\n",
       "            background-color:  #e4fee4;\n",
       "            color:  #000000;\n",
       "        }    #T_ccb8692c_1522_11ea_8857_68847e8cad55row10_col1 {\n",
       "            background-color:  #e5ffe5;\n",
       "            color:  #000000;\n",
       "            color:  lightgray;\n",
       "            : ;\n",
       "        }    #T_ccb8692c_1522_11ea_8857_68847e8cad55row10_col2 {\n",
       "            background-color:  #e5ffe5;\n",
       "            color:  #000000;\n",
       "            color:  lightgray;\n",
       "            : ;\n",
       "        }    #T_ccb8692c_1522_11ea_8857_68847e8cad55row10_col3 {\n",
       "            background-color:  #e5ffe5;\n",
       "            color:  #000000;\n",
       "            color:  lightgray;\n",
       "            : ;\n",
       "        }    #T_ccb8692c_1522_11ea_8857_68847e8cad55row10_col4 {\n",
       "            background-color:  #e5ffe5;\n",
       "            color:  #000000;\n",
       "            color:  lightgray;\n",
       "            : ;\n",
       "        }    #T_ccb8692c_1522_11ea_8857_68847e8cad55row10_col5 {\n",
       "            background-color:  #e5ffe5;\n",
       "            color:  #000000;\n",
       "            color:  lightgray;\n",
       "            : ;\n",
       "        }    #T_ccb8692c_1522_11ea_8857_68847e8cad55row10_col6 {\n",
       "            background-color:  #e5ffe5;\n",
       "            color:  #000000;\n",
       "            color:  lightgray;\n",
       "            : ;\n",
       "        }    #T_ccb8692c_1522_11ea_8857_68847e8cad55row10_col7 {\n",
       "            background-color:  #e5ffe5;\n",
       "            color:  #000000;\n",
       "            color:  lightgray;\n",
       "            : ;\n",
       "        }    #T_ccb8692c_1522_11ea_8857_68847e8cad55row10_col8 {\n",
       "            background-color:  #e5ffe5;\n",
       "            color:  #000000;\n",
       "            color:  lightgray;\n",
       "            : ;\n",
       "        }    #T_ccb8692c_1522_11ea_8857_68847e8cad55row10_col9 {\n",
       "            background-color:  #e5ffe5;\n",
       "            color:  #000000;\n",
       "            color:  lightgray;\n",
       "            : ;\n",
       "        }    #T_ccb8692c_1522_11ea_8857_68847e8cad55row10_col10 {\n",
       "            background-color:  #e5ffe5;\n",
       "            color:  #000000;\n",
       "            color:  lightgray;\n",
       "            : ;\n",
       "        }    #T_ccb8692c_1522_11ea_8857_68847e8cad55row10_col11 {\n",
       "            background-color:  #e5ffe5;\n",
       "            color:  #000000;\n",
       "            color:  lightgray;\n",
       "            : ;\n",
       "        }    #T_ccb8692c_1522_11ea_8857_68847e8cad55row10_col12 {\n",
       "            background-color:  #e5ffe5;\n",
       "            color:  #000000;\n",
       "            color:  lightgray;\n",
       "            : ;\n",
       "        }    #T_ccb8692c_1522_11ea_8857_68847e8cad55row10_col13 {\n",
       "            : ;\n",
       "            font-weight:  bold;\n",
       "        }    #T_ccb8692c_1522_11ea_8857_68847e8cad55row10_col14 {\n",
       "            : ;\n",
       "            font-weight:  bold;\n",
       "        }    #T_ccb8692c_1522_11ea_8857_68847e8cad55row11_col0 {\n",
       "            background-color:  #e4fee4;\n",
       "            color:  #000000;\n",
       "        }    #T_ccb8692c_1522_11ea_8857_68847e8cad55row11_col1 {\n",
       "            background-color:  #e5ffe5;\n",
       "            color:  #000000;\n",
       "            color:  lightgray;\n",
       "            : ;\n",
       "        }    #T_ccb8692c_1522_11ea_8857_68847e8cad55row11_col2 {\n",
       "            background-color:  #e5ffe5;\n",
       "            color:  #000000;\n",
       "            color:  lightgray;\n",
       "            : ;\n",
       "        }    #T_ccb8692c_1522_11ea_8857_68847e8cad55row11_col3 {\n",
       "            background-color:  #e5ffe5;\n",
       "            color:  #000000;\n",
       "            color:  lightgray;\n",
       "            : ;\n",
       "        }    #T_ccb8692c_1522_11ea_8857_68847e8cad55row11_col4 {\n",
       "            background-color:  #e5ffe5;\n",
       "            color:  #000000;\n",
       "            color:  lightgray;\n",
       "            : ;\n",
       "        }    #T_ccb8692c_1522_11ea_8857_68847e8cad55row11_col5 {\n",
       "            background-color:  #e5ffe5;\n",
       "            color:  #000000;\n",
       "            color:  lightgray;\n",
       "            : ;\n",
       "        }    #T_ccb8692c_1522_11ea_8857_68847e8cad55row11_col6 {\n",
       "            background-color:  #e5ffe5;\n",
       "            color:  #000000;\n",
       "            color:  lightgray;\n",
       "            : ;\n",
       "        }    #T_ccb8692c_1522_11ea_8857_68847e8cad55row11_col7 {\n",
       "            background-color:  #e5ffe5;\n",
       "            color:  #000000;\n",
       "            color:  lightgray;\n",
       "            : ;\n",
       "        }    #T_ccb8692c_1522_11ea_8857_68847e8cad55row11_col8 {\n",
       "            background-color:  #e5ffe5;\n",
       "            color:  #000000;\n",
       "            color:  lightgray;\n",
       "            : ;\n",
       "        }    #T_ccb8692c_1522_11ea_8857_68847e8cad55row11_col9 {\n",
       "            background-color:  #e5ffe5;\n",
       "            color:  #000000;\n",
       "            color:  lightgray;\n",
       "            : ;\n",
       "        }    #T_ccb8692c_1522_11ea_8857_68847e8cad55row11_col10 {\n",
       "            background-color:  #e5ffe5;\n",
       "            color:  #000000;\n",
       "            color:  lightgray;\n",
       "            : ;\n",
       "        }    #T_ccb8692c_1522_11ea_8857_68847e8cad55row11_col11 {\n",
       "            background-color:  #e5ffe5;\n",
       "            color:  #000000;\n",
       "            color:  lightgray;\n",
       "            : ;\n",
       "        }    #T_ccb8692c_1522_11ea_8857_68847e8cad55row11_col12 {\n",
       "            background-color:  #e5ffe5;\n",
       "            color:  #000000;\n",
       "            color:  lightgray;\n",
       "            : ;\n",
       "        }    #T_ccb8692c_1522_11ea_8857_68847e8cad55row11_col13 {\n",
       "            : ;\n",
       "            font-weight:  bold;\n",
       "        }    #T_ccb8692c_1522_11ea_8857_68847e8cad55row11_col14 {\n",
       "            : ;\n",
       "            font-weight:  bold;\n",
       "        }    #T_ccb8692c_1522_11ea_8857_68847e8cad55row12_col0 {\n",
       "            background-color:  #e5ffe5;\n",
       "            color:  #000000;\n",
       "        }    #T_ccb8692c_1522_11ea_8857_68847e8cad55row12_col1 {\n",
       "            background-color:  #e5ffe5;\n",
       "            color:  #000000;\n",
       "            color:  lightgray;\n",
       "            : ;\n",
       "        }    #T_ccb8692c_1522_11ea_8857_68847e8cad55row12_col2 {\n",
       "            background-color:  #e5ffe5;\n",
       "            color:  #000000;\n",
       "            color:  lightgray;\n",
       "            : ;\n",
       "        }    #T_ccb8692c_1522_11ea_8857_68847e8cad55row12_col3 {\n",
       "            background-color:  #e5ffe5;\n",
       "            color:  #000000;\n",
       "            color:  lightgray;\n",
       "            : ;\n",
       "        }    #T_ccb8692c_1522_11ea_8857_68847e8cad55row12_col4 {\n",
       "            background-color:  #e5ffe5;\n",
       "            color:  #000000;\n",
       "            color:  lightgray;\n",
       "            : ;\n",
       "        }    #T_ccb8692c_1522_11ea_8857_68847e8cad55row12_col5 {\n",
       "            background-color:  #e5ffe5;\n",
       "            color:  #000000;\n",
       "            color:  lightgray;\n",
       "            : ;\n",
       "        }    #T_ccb8692c_1522_11ea_8857_68847e8cad55row12_col6 {\n",
       "            background-color:  #e5ffe5;\n",
       "            color:  #000000;\n",
       "            color:  lightgray;\n",
       "            : ;\n",
       "        }    #T_ccb8692c_1522_11ea_8857_68847e8cad55row12_col7 {\n",
       "            background-color:  #e5ffe5;\n",
       "            color:  #000000;\n",
       "            color:  lightgray;\n",
       "            : ;\n",
       "        }    #T_ccb8692c_1522_11ea_8857_68847e8cad55row12_col8 {\n",
       "            background-color:  #e5ffe5;\n",
       "            color:  #000000;\n",
       "            color:  lightgray;\n",
       "            : ;\n",
       "        }    #T_ccb8692c_1522_11ea_8857_68847e8cad55row12_col9 {\n",
       "            background-color:  #e5ffe5;\n",
       "            color:  #000000;\n",
       "            color:  lightgray;\n",
       "            : ;\n",
       "        }    #T_ccb8692c_1522_11ea_8857_68847e8cad55row12_col10 {\n",
       "            background-color:  #e5ffe5;\n",
       "            color:  #000000;\n",
       "            color:  lightgray;\n",
       "            : ;\n",
       "        }    #T_ccb8692c_1522_11ea_8857_68847e8cad55row12_col11 {\n",
       "            background-color:  #e5ffe5;\n",
       "            color:  #000000;\n",
       "            color:  lightgray;\n",
       "            : ;\n",
       "        }    #T_ccb8692c_1522_11ea_8857_68847e8cad55row12_col12 {\n",
       "            background-color:  #e5ffe5;\n",
       "            color:  #000000;\n",
       "            color:  lightgray;\n",
       "            : ;\n",
       "        }    #T_ccb8692c_1522_11ea_8857_68847e8cad55row12_col13 {\n",
       "            : ;\n",
       "            font-weight:  bold;\n",
       "        }    #T_ccb8692c_1522_11ea_8857_68847e8cad55row12_col14 {\n",
       "            : ;\n",
       "            font-weight:  bold;\n",
       "        }    #T_ccb8692c_1522_11ea_8857_68847e8cad55row13_col0 {\n",
       "            background-color:  #e1fde1;\n",
       "            color:  #000000;\n",
       "        }    #T_ccb8692c_1522_11ea_8857_68847e8cad55row13_col1 {\n",
       "            background-color:  #e5ffe5;\n",
       "            color:  #000000;\n",
       "            : ;\n",
       "            font-weight:  bold;\n",
       "        }    #T_ccb8692c_1522_11ea_8857_68847e8cad55row13_col2 {\n",
       "            background-color:  #e5ffe5;\n",
       "            color:  #000000;\n",
       "            : ;\n",
       "            font-weight:  bold;\n",
       "        }    #T_ccb8692c_1522_11ea_8857_68847e8cad55row13_col3 {\n",
       "            background-color:  #e5ffe5;\n",
       "            color:  #000000;\n",
       "            : ;\n",
       "            font-weight:  bold;\n",
       "        }    #T_ccb8692c_1522_11ea_8857_68847e8cad55row13_col4 {\n",
       "            background-color:  #e5ffe5;\n",
       "            color:  #000000;\n",
       "            : ;\n",
       "            font-weight:  bold;\n",
       "        }    #T_ccb8692c_1522_11ea_8857_68847e8cad55row13_col5 {\n",
       "            background-color:  #e5ffe5;\n",
       "            color:  #000000;\n",
       "            : ;\n",
       "            font-weight:  bold;\n",
       "        }    #T_ccb8692c_1522_11ea_8857_68847e8cad55row13_col6 {\n",
       "            background-color:  #e5ffe5;\n",
       "            color:  #000000;\n",
       "            : ;\n",
       "            font-weight:  bold;\n",
       "        }    #T_ccb8692c_1522_11ea_8857_68847e8cad55row13_col7 {\n",
       "            background-color:  #e5ffe5;\n",
       "            color:  #000000;\n",
       "            : ;\n",
       "            font-weight:  bold;\n",
       "        }    #T_ccb8692c_1522_11ea_8857_68847e8cad55row13_col8 {\n",
       "            background-color:  #e5ffe5;\n",
       "            color:  #000000;\n",
       "            : ;\n",
       "            font-weight:  bold;\n",
       "        }    #T_ccb8692c_1522_11ea_8857_68847e8cad55row13_col9 {\n",
       "            background-color:  #e5ffe5;\n",
       "            color:  #000000;\n",
       "            : ;\n",
       "            font-weight:  bold;\n",
       "        }    #T_ccb8692c_1522_11ea_8857_68847e8cad55row13_col10 {\n",
       "            background-color:  #e5ffe5;\n",
       "            color:  #000000;\n",
       "            : ;\n",
       "            font-weight:  bold;\n",
       "        }    #T_ccb8692c_1522_11ea_8857_68847e8cad55row13_col11 {\n",
       "            background-color:  #e5ffe5;\n",
       "            color:  #000000;\n",
       "            : ;\n",
       "            font-weight:  bold;\n",
       "        }    #T_ccb8692c_1522_11ea_8857_68847e8cad55row13_col12 {\n",
       "            background-color:  #e5ffe5;\n",
       "            color:  #000000;\n",
       "            : ;\n",
       "            font-weight:  bold;\n",
       "        }    #T_ccb8692c_1522_11ea_8857_68847e8cad55row13_col13 {\n",
       "            : ;\n",
       "            font-weight:  bold;\n",
       "        }    #T_ccb8692c_1522_11ea_8857_68847e8cad55row13_col14 {\n",
       "            : ;\n",
       "            font-weight:  bold;\n",
       "        }    #T_ccb8692c_1522_11ea_8857_68847e8cad55row14_col0 {\n",
       "            background-color:  #e5ffe5;\n",
       "            color:  #000000;\n",
       "        }    #T_ccb8692c_1522_11ea_8857_68847e8cad55row14_col1 {\n",
       "            background-color:  #e5ffe5;\n",
       "            color:  #000000;\n",
       "            : ;\n",
       "            font-weight:  bold;\n",
       "        }    #T_ccb8692c_1522_11ea_8857_68847e8cad55row14_col2 {\n",
       "            background-color:  #e5ffe5;\n",
       "            color:  #000000;\n",
       "            : ;\n",
       "            font-weight:  bold;\n",
       "        }    #T_ccb8692c_1522_11ea_8857_68847e8cad55row14_col3 {\n",
       "            background-color:  #e5ffe5;\n",
       "            color:  #000000;\n",
       "            : ;\n",
       "            font-weight:  bold;\n",
       "        }    #T_ccb8692c_1522_11ea_8857_68847e8cad55row14_col4 {\n",
       "            background-color:  #e5ffe5;\n",
       "            color:  #000000;\n",
       "            : ;\n",
       "            font-weight:  bold;\n",
       "        }    #T_ccb8692c_1522_11ea_8857_68847e8cad55row14_col5 {\n",
       "            background-color:  #e5ffe5;\n",
       "            color:  #000000;\n",
       "            : ;\n",
       "            font-weight:  bold;\n",
       "        }    #T_ccb8692c_1522_11ea_8857_68847e8cad55row14_col6 {\n",
       "            background-color:  #e5ffe5;\n",
       "            color:  #000000;\n",
       "            : ;\n",
       "            font-weight:  bold;\n",
       "        }    #T_ccb8692c_1522_11ea_8857_68847e8cad55row14_col7 {\n",
       "            background-color:  #e5ffe5;\n",
       "            color:  #000000;\n",
       "            : ;\n",
       "            font-weight:  bold;\n",
       "        }    #T_ccb8692c_1522_11ea_8857_68847e8cad55row14_col8 {\n",
       "            background-color:  #e5ffe5;\n",
       "            color:  #000000;\n",
       "            : ;\n",
       "            font-weight:  bold;\n",
       "        }    #T_ccb8692c_1522_11ea_8857_68847e8cad55row14_col9 {\n",
       "            background-color:  #e5ffe5;\n",
       "            color:  #000000;\n",
       "            : ;\n",
       "            font-weight:  bold;\n",
       "        }    #T_ccb8692c_1522_11ea_8857_68847e8cad55row14_col10 {\n",
       "            background-color:  #e5ffe5;\n",
       "            color:  #000000;\n",
       "            : ;\n",
       "            font-weight:  bold;\n",
       "        }    #T_ccb8692c_1522_11ea_8857_68847e8cad55row14_col11 {\n",
       "            background-color:  #e5ffe5;\n",
       "            color:  #000000;\n",
       "            : ;\n",
       "            font-weight:  bold;\n",
       "        }    #T_ccb8692c_1522_11ea_8857_68847e8cad55row14_col12 {\n",
       "            background-color:  #e5ffe5;\n",
       "            color:  #000000;\n",
       "            : ;\n",
       "            font-weight:  bold;\n",
       "        }    #T_ccb8692c_1522_11ea_8857_68847e8cad55row14_col13 {\n",
       "            : ;\n",
       "            font-weight:  bold;\n",
       "        }    #T_ccb8692c_1522_11ea_8857_68847e8cad55row14_col14 {\n",
       "            : ;\n",
       "            font-weight:  bold;\n",
       "        }</style><table id=\"T_ccb8692c_1522_11ea_8857_68847e8cad55\" ><thead>    <tr>        <th class=\"blank level0\" ></th>        <th class=\"col_heading level0 col0\" >REF</th>        <th class=\"col_heading level0 col1\" >sc1</th>        <th class=\"col_heading level0 col2\" >sc2</th>        <th class=\"col_heading level0 col3\" >sc3</th>        <th class=\"col_heading level0 col4\" >sc4</th>        <th class=\"col_heading level0 col5\" >sc5</th>        <th class=\"col_heading level0 col6\" >sc6</th>        <th class=\"col_heading level0 col7\" >sc7</th>        <th class=\"col_heading level0 col8\" >sc8</th>        <th class=\"col_heading level0 col9\" >sc9</th>        <th class=\"col_heading level0 col10\" >sc10</th>        <th class=\"col_heading level0 col11\" >sc11</th>        <th class=\"col_heading level0 col12\" >sc12</th>        <th class=\"col_heading level0 col13\" >unit</th>        <th class=\"col_heading level0 col14\" >doc</th>    </tr>    <tr>        <th class=\"index_name level0\" >p</th>        <th class=\"blank\" ></th>        <th class=\"blank\" ></th>        <th class=\"blank\" ></th>        <th class=\"blank\" ></th>        <th class=\"blank\" ></th>        <th class=\"blank\" ></th>        <th class=\"blank\" ></th>        <th class=\"blank\" ></th>        <th class=\"blank\" ></th>        <th class=\"blank\" ></th>        <th class=\"blank\" ></th>        <th class=\"blank\" ></th>        <th class=\"blank\" ></th>        <th class=\"blank\" ></th>        <th class=\"blank\" ></th>    </tr></thead><tbody>\n",
       "                <tr>\n",
       "                        <th id=\"T_ccb8692c_1522_11ea_8857_68847e8cad55level0_row0\" class=\"row_heading level0 row0\" >alpha_</th>\n",
       "                        <td id=\"T_ccb8692c_1522_11ea_8857_68847e8cad55row0_col0\" class=\"data row0 col0\" >0</td>\n",
       "                        <td id=\"T_ccb8692c_1522_11ea_8857_68847e8cad55row0_col1\" class=\"data row0 col1\" >0</td>\n",
       "                        <td id=\"T_ccb8692c_1522_11ea_8857_68847e8cad55row0_col2\" class=\"data row0 col2\" >0.333333</td>\n",
       "                        <td id=\"T_ccb8692c_1522_11ea_8857_68847e8cad55row0_col3\" class=\"data row0 col3\" >0.666667</td>\n",
       "                        <td id=\"T_ccb8692c_1522_11ea_8857_68847e8cad55row0_col4\" class=\"data row0 col4\" >1</td>\n",
       "                        <td id=\"T_ccb8692c_1522_11ea_8857_68847e8cad55row0_col5\" class=\"data row0 col5\" >0</td>\n",
       "                        <td id=\"T_ccb8692c_1522_11ea_8857_68847e8cad55row0_col6\" class=\"data row0 col6\" >0.333333</td>\n",
       "                        <td id=\"T_ccb8692c_1522_11ea_8857_68847e8cad55row0_col7\" class=\"data row0 col7\" >0.666667</td>\n",
       "                        <td id=\"T_ccb8692c_1522_11ea_8857_68847e8cad55row0_col8\" class=\"data row0 col8\" >1</td>\n",
       "                        <td id=\"T_ccb8692c_1522_11ea_8857_68847e8cad55row0_col9\" class=\"data row0 col9\" >0</td>\n",
       "                        <td id=\"T_ccb8692c_1522_11ea_8857_68847e8cad55row0_col10\" class=\"data row0 col10\" >0.333333</td>\n",
       "                        <td id=\"T_ccb8692c_1522_11ea_8857_68847e8cad55row0_col11\" class=\"data row0 col11\" >0.666667</td>\n",
       "                        <td id=\"T_ccb8692c_1522_11ea_8857_68847e8cad55row0_col12\" class=\"data row0 col12\" >1</td>\n",
       "                        <td id=\"T_ccb8692c_1522_11ea_8857_68847e8cad55row0_col13\" class=\"data row0 col13\" ></td>\n",
       "                        <td id=\"T_ccb8692c_1522_11ea_8857_68847e8cad55row0_col14\" class=\"data row0 col14\" >pareto weighting factor</td>\n",
       "            </tr>\n",
       "            <tr>\n",
       "                        <th id=\"T_ccb8692c_1522_11ea_8857_68847e8cad55level0_row1\" class=\"row_heading level0 row1\" >n_comp_</th>\n",
       "                        <td id=\"T_ccb8692c_1522_11ea_8857_68847e8cad55row1_col0\" class=\"data row1 col0\" >1</td>\n",
       "                        <td id=\"T_ccb8692c_1522_11ea_8857_68847e8cad55row1_col1\" class=\"data row1 col1\" >1</td>\n",
       "                        <td id=\"T_ccb8692c_1522_11ea_8857_68847e8cad55row1_col2\" class=\"data row1 col2\" >1</td>\n",
       "                        <td id=\"T_ccb8692c_1522_11ea_8857_68847e8cad55row1_col3\" class=\"data row1 col3\" >1</td>\n",
       "                        <td id=\"T_ccb8692c_1522_11ea_8857_68847e8cad55row1_col4\" class=\"data row1 col4\" >1</td>\n",
       "                        <td id=\"T_ccb8692c_1522_11ea_8857_68847e8cad55row1_col5\" class=\"data row1 col5\" >1</td>\n",
       "                        <td id=\"T_ccb8692c_1522_11ea_8857_68847e8cad55row1_col6\" class=\"data row1 col6\" >1</td>\n",
       "                        <td id=\"T_ccb8692c_1522_11ea_8857_68847e8cad55row1_col7\" class=\"data row1 col7\" >1</td>\n",
       "                        <td id=\"T_ccb8692c_1522_11ea_8857_68847e8cad55row1_col8\" class=\"data row1 col8\" >1</td>\n",
       "                        <td id=\"T_ccb8692c_1522_11ea_8857_68847e8cad55row1_col9\" class=\"data row1 col9\" >1</td>\n",
       "                        <td id=\"T_ccb8692c_1522_11ea_8857_68847e8cad55row1_col10\" class=\"data row1 col10\" >1</td>\n",
       "                        <td id=\"T_ccb8692c_1522_11ea_8857_68847e8cad55row1_col11\" class=\"data row1 col11\" >1</td>\n",
       "                        <td id=\"T_ccb8692c_1522_11ea_8857_68847e8cad55row1_col12\" class=\"data row1 col12\" >1</td>\n",
       "                        <td id=\"T_ccb8692c_1522_11ea_8857_68847e8cad55row1_col13\" class=\"data row1 col13\" ></td>\n",
       "                        <td id=\"T_ccb8692c_1522_11ea_8857_68847e8cad55row1_col14\" class=\"data row1 col14\" >weighting factor to compensate part year analysis</td>\n",
       "            </tr>\n",
       "            <tr>\n",
       "                        <th id=\"T_ccb8692c_1522_11ea_8857_68847e8cad55level0_row2\" class=\"row_heading level0 row2\" >n_C_</th>\n",
       "                        <td id=\"T_ccb8692c_1522_11ea_8857_68847e8cad55row2_col0\" class=\"data row2 col0\" >1.38901e-05</td>\n",
       "                        <td id=\"T_ccb8692c_1522_11ea_8857_68847e8cad55row2_col1\" class=\"data row2 col1\" >1.38901e-05</td>\n",
       "                        <td id=\"T_ccb8692c_1522_11ea_8857_68847e8cad55row2_col2\" class=\"data row2 col2\" >1.38901e-05</td>\n",
       "                        <td id=\"T_ccb8692c_1522_11ea_8857_68847e8cad55row2_col3\" class=\"data row2 col3\" >1.38901e-05</td>\n",
       "                        <td id=\"T_ccb8692c_1522_11ea_8857_68847e8cad55row2_col4\" class=\"data row2 col4\" >1.38901e-05</td>\n",
       "                        <td id=\"T_ccb8692c_1522_11ea_8857_68847e8cad55row2_col5\" class=\"data row2 col5\" >1.38901e-05</td>\n",
       "                        <td id=\"T_ccb8692c_1522_11ea_8857_68847e8cad55row2_col6\" class=\"data row2 col6\" >1.38901e-05</td>\n",
       "                        <td id=\"T_ccb8692c_1522_11ea_8857_68847e8cad55row2_col7\" class=\"data row2 col7\" >1.38901e-05</td>\n",
       "                        <td id=\"T_ccb8692c_1522_11ea_8857_68847e8cad55row2_col8\" class=\"data row2 col8\" >1.38901e-05</td>\n",
       "                        <td id=\"T_ccb8692c_1522_11ea_8857_68847e8cad55row2_col9\" class=\"data row2 col9\" >1.38901e-05</td>\n",
       "                        <td id=\"T_ccb8692c_1522_11ea_8857_68847e8cad55row2_col10\" class=\"data row2 col10\" >1.38901e-05</td>\n",
       "                        <td id=\"T_ccb8692c_1522_11ea_8857_68847e8cad55row2_col11\" class=\"data row2 col11\" >1.38901e-05</td>\n",
       "                        <td id=\"T_ccb8692c_1522_11ea_8857_68847e8cad55row2_col12\" class=\"data row2 col12\" >1.38901e-05</td>\n",
       "                        <td id=\"T_ccb8692c_1522_11ea_8857_68847e8cad55row2_col13\" class=\"data row2 col13\" ></td>\n",
       "                        <td id=\"T_ccb8692c_1522_11ea_8857_68847e8cad55row2_col14\" class=\"data row2 col14\" >normalization factor</td>\n",
       "            </tr>\n",
       "            <tr>\n",
       "                        <th id=\"T_ccb8692c_1522_11ea_8857_68847e8cad55level0_row3\" class=\"row_heading level0 row3\" >n_CE_</th>\n",
       "                        <td id=\"T_ccb8692c_1522_11ea_8857_68847e8cad55row3_col0\" class=\"data row3 col0\" >4.31835e-09</td>\n",
       "                        <td id=\"T_ccb8692c_1522_11ea_8857_68847e8cad55row3_col1\" class=\"data row3 col1\" >4.31835e-09</td>\n",
       "                        <td id=\"T_ccb8692c_1522_11ea_8857_68847e8cad55row3_col2\" class=\"data row3 col2\" >4.31835e-09</td>\n",
       "                        <td id=\"T_ccb8692c_1522_11ea_8857_68847e8cad55row3_col3\" class=\"data row3 col3\" >4.31835e-09</td>\n",
       "                        <td id=\"T_ccb8692c_1522_11ea_8857_68847e8cad55row3_col4\" class=\"data row3 col4\" >4.31835e-09</td>\n",
       "                        <td id=\"T_ccb8692c_1522_11ea_8857_68847e8cad55row3_col5\" class=\"data row3 col5\" >4.31835e-09</td>\n",
       "                        <td id=\"T_ccb8692c_1522_11ea_8857_68847e8cad55row3_col6\" class=\"data row3 col6\" >4.31835e-09</td>\n",
       "                        <td id=\"T_ccb8692c_1522_11ea_8857_68847e8cad55row3_col7\" class=\"data row3 col7\" >4.31835e-09</td>\n",
       "                        <td id=\"T_ccb8692c_1522_11ea_8857_68847e8cad55row3_col8\" class=\"data row3 col8\" >4.31835e-09</td>\n",
       "                        <td id=\"T_ccb8692c_1522_11ea_8857_68847e8cad55row3_col9\" class=\"data row3 col9\" >4.31835e-09</td>\n",
       "                        <td id=\"T_ccb8692c_1522_11ea_8857_68847e8cad55row3_col10\" class=\"data row3 col10\" >4.31835e-09</td>\n",
       "                        <td id=\"T_ccb8692c_1522_11ea_8857_68847e8cad55row3_col11\" class=\"data row3 col11\" >4.31835e-09</td>\n",
       "                        <td id=\"T_ccb8692c_1522_11ea_8857_68847e8cad55row3_col12\" class=\"data row3 col12\" >4.31835e-09</td>\n",
       "                        <td id=\"T_ccb8692c_1522_11ea_8857_68847e8cad55row3_col13\" class=\"data row3 col13\" ></td>\n",
       "                        <td id=\"T_ccb8692c_1522_11ea_8857_68847e8cad55row3_col14\" class=\"data row3 col14\" >normalization factor</td>\n",
       "            </tr>\n",
       "            <tr>\n",
       "                        <th id=\"T_ccb8692c_1522_11ea_8857_68847e8cad55level0_row4\" class=\"row_heading level0 row4\" >AF_</th>\n",
       "                        <td id=\"T_ccb8692c_1522_11ea_8857_68847e8cad55row4_col0\" class=\"data row4 col0\" >0.1</td>\n",
       "                        <td id=\"T_ccb8692c_1522_11ea_8857_68847e8cad55row4_col1\" class=\"data row4 col1\" >0.1</td>\n",
       "                        <td id=\"T_ccb8692c_1522_11ea_8857_68847e8cad55row4_col2\" class=\"data row4 col2\" >0.1</td>\n",
       "                        <td id=\"T_ccb8692c_1522_11ea_8857_68847e8cad55row4_col3\" class=\"data row4 col3\" >0.1</td>\n",
       "                        <td id=\"T_ccb8692c_1522_11ea_8857_68847e8cad55row4_col4\" class=\"data row4 col4\" >0.1</td>\n",
       "                        <td id=\"T_ccb8692c_1522_11ea_8857_68847e8cad55row4_col5\" class=\"data row4 col5\" >0.1</td>\n",
       "                        <td id=\"T_ccb8692c_1522_11ea_8857_68847e8cad55row4_col6\" class=\"data row4 col6\" >0.1</td>\n",
       "                        <td id=\"T_ccb8692c_1522_11ea_8857_68847e8cad55row4_col7\" class=\"data row4 col7\" >0.1</td>\n",
       "                        <td id=\"T_ccb8692c_1522_11ea_8857_68847e8cad55row4_col8\" class=\"data row4 col8\" >0.1</td>\n",
       "                        <td id=\"T_ccb8692c_1522_11ea_8857_68847e8cad55row4_col9\" class=\"data row4 col9\" >0.1</td>\n",
       "                        <td id=\"T_ccb8692c_1522_11ea_8857_68847e8cad55row4_col10\" class=\"data row4 col10\" >0.1</td>\n",
       "                        <td id=\"T_ccb8692c_1522_11ea_8857_68847e8cad55row4_col11\" class=\"data row4 col11\" >0.1</td>\n",
       "                        <td id=\"T_ccb8692c_1522_11ea_8857_68847e8cad55row4_col12\" class=\"data row4 col12\" >0.1</td>\n",
       "                        <td id=\"T_ccb8692c_1522_11ea_8857_68847e8cad55row4_col13\" class=\"data row4 col13\" ></td>\n",
       "                        <td id=\"T_ccb8692c_1522_11ea_8857_68847e8cad55row4_col14\" class=\"data row4 col14\" >annuitiy factor (it pays off in 1/AF_ years)</td>\n",
       "            </tr>\n",
       "            <tr>\n",
       "                        <th id=\"T_ccb8692c_1522_11ea_8857_68847e8cad55level0_row5\" class=\"row_heading level0 row5\" >P_PV_CAPx_</th>\n",
       "                        <td id=\"T_ccb8692c_1522_11ea_8857_68847e8cad55row5_col0\" class=\"data row5 col0\" >100</td>\n",
       "                        <td id=\"T_ccb8692c_1522_11ea_8857_68847e8cad55row5_col1\" class=\"data row5 col1\" >100</td>\n",
       "                        <td id=\"T_ccb8692c_1522_11ea_8857_68847e8cad55row5_col2\" class=\"data row5 col2\" >100</td>\n",
       "                        <td id=\"T_ccb8692c_1522_11ea_8857_68847e8cad55row5_col3\" class=\"data row5 col3\" >100</td>\n",
       "                        <td id=\"T_ccb8692c_1522_11ea_8857_68847e8cad55row5_col4\" class=\"data row5 col4\" >100</td>\n",
       "                        <td id=\"T_ccb8692c_1522_11ea_8857_68847e8cad55row5_col5\" class=\"data row5 col5\" >100</td>\n",
       "                        <td id=\"T_ccb8692c_1522_11ea_8857_68847e8cad55row5_col6\" class=\"data row5 col6\" >100</td>\n",
       "                        <td id=\"T_ccb8692c_1522_11ea_8857_68847e8cad55row5_col7\" class=\"data row5 col7\" >100</td>\n",
       "                        <td id=\"T_ccb8692c_1522_11ea_8857_68847e8cad55row5_col8\" class=\"data row5 col8\" >100</td>\n",
       "                        <td id=\"T_ccb8692c_1522_11ea_8857_68847e8cad55row5_col9\" class=\"data row5 col9\" >100</td>\n",
       "                        <td id=\"T_ccb8692c_1522_11ea_8857_68847e8cad55row5_col10\" class=\"data row5 col10\" >100</td>\n",
       "                        <td id=\"T_ccb8692c_1522_11ea_8857_68847e8cad55row5_col11\" class=\"data row5 col11\" >100</td>\n",
       "                        <td id=\"T_ccb8692c_1522_11ea_8857_68847e8cad55row5_col12\" class=\"data row5 col12\" >100</td>\n",
       "                        <td id=\"T_ccb8692c_1522_11ea_8857_68847e8cad55row5_col13\" class=\"data row5 col13\" >kW_peak</td>\n",
       "                        <td id=\"T_ccb8692c_1522_11ea_8857_68847e8cad55row5_col14\" class=\"data row5 col14\" >existing capacity</td>\n",
       "            </tr>\n",
       "            <tr>\n",
       "                        <th id=\"T_ccb8692c_1522_11ea_8857_68847e8cad55level0_row6\" class=\"row_heading level0 row6\" >E_BES_CAPx_</th>\n",
       "                        <td id=\"T_ccb8692c_1522_11ea_8857_68847e8cad55row6_col0\" class=\"data row6 col0\" >0</td>\n",
       "                        <td id=\"T_ccb8692c_1522_11ea_8857_68847e8cad55row6_col1\" class=\"data row6 col1\" >1000</td>\n",
       "                        <td id=\"T_ccb8692c_1522_11ea_8857_68847e8cad55row6_col2\" class=\"data row6 col2\" >1000</td>\n",
       "                        <td id=\"T_ccb8692c_1522_11ea_8857_68847e8cad55row6_col3\" class=\"data row6 col3\" >1000</td>\n",
       "                        <td id=\"T_ccb8692c_1522_11ea_8857_68847e8cad55row6_col4\" class=\"data row6 col4\" >1000</td>\n",
       "                        <td id=\"T_ccb8692c_1522_11ea_8857_68847e8cad55row6_col5\" class=\"data row6 col5\" >1000</td>\n",
       "                        <td id=\"T_ccb8692c_1522_11ea_8857_68847e8cad55row6_col6\" class=\"data row6 col6\" >1000</td>\n",
       "                        <td id=\"T_ccb8692c_1522_11ea_8857_68847e8cad55row6_col7\" class=\"data row6 col7\" >1000</td>\n",
       "                        <td id=\"T_ccb8692c_1522_11ea_8857_68847e8cad55row6_col8\" class=\"data row6 col8\" >1000</td>\n",
       "                        <td id=\"T_ccb8692c_1522_11ea_8857_68847e8cad55row6_col9\" class=\"data row6 col9\" >1000</td>\n",
       "                        <td id=\"T_ccb8692c_1522_11ea_8857_68847e8cad55row6_col10\" class=\"data row6 col10\" >1000</td>\n",
       "                        <td id=\"T_ccb8692c_1522_11ea_8857_68847e8cad55row6_col11\" class=\"data row6 col11\" >1000</td>\n",
       "                        <td id=\"T_ccb8692c_1522_11ea_8857_68847e8cad55row6_col12\" class=\"data row6 col12\" >1000</td>\n",
       "                        <td id=\"T_ccb8692c_1522_11ea_8857_68847e8cad55row6_col13\" class=\"data row6 col13\" >kW_el</td>\n",
       "                        <td id=\"T_ccb8692c_1522_11ea_8857_68847e8cad55row6_col14\" class=\"data row6 col14\" >existing capacity</td>\n",
       "            </tr>\n",
       "            <tr>\n",
       "                        <th id=\"T_ccb8692c_1522_11ea_8857_68847e8cad55level0_row7\" class=\"row_heading level0 row7\" >c_el_peak_</th>\n",
       "                        <td id=\"T_ccb8692c_1522_11ea_8857_68847e8cad55row7_col0\" class=\"data row7 col0\" >50</td>\n",
       "                        <td id=\"T_ccb8692c_1522_11ea_8857_68847e8cad55row7_col1\" class=\"data row7 col1\" >50</td>\n",
       "                        <td id=\"T_ccb8692c_1522_11ea_8857_68847e8cad55row7_col2\" class=\"data row7 col2\" >50</td>\n",
       "                        <td id=\"T_ccb8692c_1522_11ea_8857_68847e8cad55row7_col3\" class=\"data row7 col3\" >50</td>\n",
       "                        <td id=\"T_ccb8692c_1522_11ea_8857_68847e8cad55row7_col4\" class=\"data row7 col4\" >50</td>\n",
       "                        <td id=\"T_ccb8692c_1522_11ea_8857_68847e8cad55row7_col5\" class=\"data row7 col5\" >50</td>\n",
       "                        <td id=\"T_ccb8692c_1522_11ea_8857_68847e8cad55row7_col6\" class=\"data row7 col6\" >50</td>\n",
       "                        <td id=\"T_ccb8692c_1522_11ea_8857_68847e8cad55row7_col7\" class=\"data row7 col7\" >50</td>\n",
       "                        <td id=\"T_ccb8692c_1522_11ea_8857_68847e8cad55row7_col8\" class=\"data row7 col8\" >50</td>\n",
       "                        <td id=\"T_ccb8692c_1522_11ea_8857_68847e8cad55row7_col9\" class=\"data row7 col9\" >50</td>\n",
       "                        <td id=\"T_ccb8692c_1522_11ea_8857_68847e8cad55row7_col10\" class=\"data row7 col10\" >50</td>\n",
       "                        <td id=\"T_ccb8692c_1522_11ea_8857_68847e8cad55row7_col11\" class=\"data row7 col11\" >50</td>\n",
       "                        <td id=\"T_ccb8692c_1522_11ea_8857_68847e8cad55row7_col12\" class=\"data row7 col12\" >50</td>\n",
       "                        <td id=\"T_ccb8692c_1522_11ea_8857_68847e8cad55row7_col13\" class=\"data row7 col13\" >€/kW_el</td>\n",
       "                        <td id=\"T_ccb8692c_1522_11ea_8857_68847e8cad55row7_col14\" class=\"data row7 col14\" >peak price</td>\n",
       "            </tr>\n",
       "            <tr>\n",
       "                        <th id=\"T_ccb8692c_1522_11ea_8857_68847e8cad55level0_row8\" class=\"row_heading level0 row8\" >eta_BES_time_</th>\n",
       "                        <td id=\"T_ccb8692c_1522_11ea_8857_68847e8cad55row8_col0\" class=\"data row8 col0\" >0.999</td>\n",
       "                        <td id=\"T_ccb8692c_1522_11ea_8857_68847e8cad55row8_col1\" class=\"data row8 col1\" >0.999</td>\n",
       "                        <td id=\"T_ccb8692c_1522_11ea_8857_68847e8cad55row8_col2\" class=\"data row8 col2\" >0.999</td>\n",
       "                        <td id=\"T_ccb8692c_1522_11ea_8857_68847e8cad55row8_col3\" class=\"data row8 col3\" >0.999</td>\n",
       "                        <td id=\"T_ccb8692c_1522_11ea_8857_68847e8cad55row8_col4\" class=\"data row8 col4\" >0.999</td>\n",
       "                        <td id=\"T_ccb8692c_1522_11ea_8857_68847e8cad55row8_col5\" class=\"data row8 col5\" >0.999</td>\n",
       "                        <td id=\"T_ccb8692c_1522_11ea_8857_68847e8cad55row8_col6\" class=\"data row8 col6\" >0.999</td>\n",
       "                        <td id=\"T_ccb8692c_1522_11ea_8857_68847e8cad55row8_col7\" class=\"data row8 col7\" >0.999</td>\n",
       "                        <td id=\"T_ccb8692c_1522_11ea_8857_68847e8cad55row8_col8\" class=\"data row8 col8\" >0.999</td>\n",
       "                        <td id=\"T_ccb8692c_1522_11ea_8857_68847e8cad55row8_col9\" class=\"data row8 col9\" >0.999</td>\n",
       "                        <td id=\"T_ccb8692c_1522_11ea_8857_68847e8cad55row8_col10\" class=\"data row8 col10\" >0.999</td>\n",
       "                        <td id=\"T_ccb8692c_1522_11ea_8857_68847e8cad55row8_col11\" class=\"data row8 col11\" >0.999</td>\n",
       "                        <td id=\"T_ccb8692c_1522_11ea_8857_68847e8cad55row8_col12\" class=\"data row8 col12\" >0.999</td>\n",
       "                        <td id=\"T_ccb8692c_1522_11ea_8857_68847e8cad55row8_col13\" class=\"data row8 col13\" ></td>\n",
       "                        <td id=\"T_ccb8692c_1522_11ea_8857_68847e8cad55row8_col14\" class=\"data row8 col14\" >storing efficiency</td>\n",
       "            </tr>\n",
       "            <tr>\n",
       "                        <th id=\"T_ccb8692c_1522_11ea_8857_68847e8cad55level0_row9\" class=\"row_heading level0 row9\" >eta_BES_in_</th>\n",
       "                        <td id=\"T_ccb8692c_1522_11ea_8857_68847e8cad55row9_col0\" class=\"data row9 col0\" >0.999</td>\n",
       "                        <td id=\"T_ccb8692c_1522_11ea_8857_68847e8cad55row9_col1\" class=\"data row9 col1\" >0.999</td>\n",
       "                        <td id=\"T_ccb8692c_1522_11ea_8857_68847e8cad55row9_col2\" class=\"data row9 col2\" >0.999</td>\n",
       "                        <td id=\"T_ccb8692c_1522_11ea_8857_68847e8cad55row9_col3\" class=\"data row9 col3\" >0.999</td>\n",
       "                        <td id=\"T_ccb8692c_1522_11ea_8857_68847e8cad55row9_col4\" class=\"data row9 col4\" >0.999</td>\n",
       "                        <td id=\"T_ccb8692c_1522_11ea_8857_68847e8cad55row9_col5\" class=\"data row9 col5\" >0.999</td>\n",
       "                        <td id=\"T_ccb8692c_1522_11ea_8857_68847e8cad55row9_col6\" class=\"data row9 col6\" >0.999</td>\n",
       "                        <td id=\"T_ccb8692c_1522_11ea_8857_68847e8cad55row9_col7\" class=\"data row9 col7\" >0.999</td>\n",
       "                        <td id=\"T_ccb8692c_1522_11ea_8857_68847e8cad55row9_col8\" class=\"data row9 col8\" >0.999</td>\n",
       "                        <td id=\"T_ccb8692c_1522_11ea_8857_68847e8cad55row9_col9\" class=\"data row9 col9\" >0.999</td>\n",
       "                        <td id=\"T_ccb8692c_1522_11ea_8857_68847e8cad55row9_col10\" class=\"data row9 col10\" >0.999</td>\n",
       "                        <td id=\"T_ccb8692c_1522_11ea_8857_68847e8cad55row9_col11\" class=\"data row9 col11\" >0.999</td>\n",
       "                        <td id=\"T_ccb8692c_1522_11ea_8857_68847e8cad55row9_col12\" class=\"data row9 col12\" >0.999</td>\n",
       "                        <td id=\"T_ccb8692c_1522_11ea_8857_68847e8cad55row9_col13\" class=\"data row9 col13\" ></td>\n",
       "                        <td id=\"T_ccb8692c_1522_11ea_8857_68847e8cad55row9_col14\" class=\"data row9 col14\" >loading efficiency</td>\n",
       "            </tr>\n",
       "            <tr>\n",
       "                        <th id=\"T_ccb8692c_1522_11ea_8857_68847e8cad55level0_row10\" class=\"row_heading level0 row10\" >k_BES_in_per_capa_</th>\n",
       "                        <td id=\"T_ccb8692c_1522_11ea_8857_68847e8cad55row10_col0\" class=\"data row10 col0\" >1</td>\n",
       "                        <td id=\"T_ccb8692c_1522_11ea_8857_68847e8cad55row10_col1\" class=\"data row10 col1\" >1</td>\n",
       "                        <td id=\"T_ccb8692c_1522_11ea_8857_68847e8cad55row10_col2\" class=\"data row10 col2\" >1</td>\n",
       "                        <td id=\"T_ccb8692c_1522_11ea_8857_68847e8cad55row10_col3\" class=\"data row10 col3\" >1</td>\n",
       "                        <td id=\"T_ccb8692c_1522_11ea_8857_68847e8cad55row10_col4\" class=\"data row10 col4\" >1</td>\n",
       "                        <td id=\"T_ccb8692c_1522_11ea_8857_68847e8cad55row10_col5\" class=\"data row10 col5\" >1</td>\n",
       "                        <td id=\"T_ccb8692c_1522_11ea_8857_68847e8cad55row10_col6\" class=\"data row10 col6\" >1</td>\n",
       "                        <td id=\"T_ccb8692c_1522_11ea_8857_68847e8cad55row10_col7\" class=\"data row10 col7\" >1</td>\n",
       "                        <td id=\"T_ccb8692c_1522_11ea_8857_68847e8cad55row10_col8\" class=\"data row10 col8\" >1</td>\n",
       "                        <td id=\"T_ccb8692c_1522_11ea_8857_68847e8cad55row10_col9\" class=\"data row10 col9\" >1</td>\n",
       "                        <td id=\"T_ccb8692c_1522_11ea_8857_68847e8cad55row10_col10\" class=\"data row10 col10\" >1</td>\n",
       "                        <td id=\"T_ccb8692c_1522_11ea_8857_68847e8cad55row10_col11\" class=\"data row10 col11\" >1</td>\n",
       "                        <td id=\"T_ccb8692c_1522_11ea_8857_68847e8cad55row10_col12\" class=\"data row10 col12\" >1</td>\n",
       "                        <td id=\"T_ccb8692c_1522_11ea_8857_68847e8cad55row10_col13\" class=\"data row10 col13\" ></td>\n",
       "                        <td id=\"T_ccb8692c_1522_11ea_8857_68847e8cad55row10_col14\" class=\"data row10 col14\" >ratio loading power / capacity</td>\n",
       "            </tr>\n",
       "            <tr>\n",
       "                        <th id=\"T_ccb8692c_1522_11ea_8857_68847e8cad55level0_row11\" class=\"row_heading level0 row11\" >timelog_params_</th>\n",
       "                        <td id=\"T_ccb8692c_1522_11ea_8857_68847e8cad55row11_col0\" class=\"data row11 col0\" >0.887864</td>\n",
       "                        <td id=\"T_ccb8692c_1522_11ea_8857_68847e8cad55row11_col1\" class=\"data row11 col1\" >0.887864</td>\n",
       "                        <td id=\"T_ccb8692c_1522_11ea_8857_68847e8cad55row11_col2\" class=\"data row11 col2\" >0.887864</td>\n",
       "                        <td id=\"T_ccb8692c_1522_11ea_8857_68847e8cad55row11_col3\" class=\"data row11 col3\" >0.887864</td>\n",
       "                        <td id=\"T_ccb8692c_1522_11ea_8857_68847e8cad55row11_col4\" class=\"data row11 col4\" >0.887864</td>\n",
       "                        <td id=\"T_ccb8692c_1522_11ea_8857_68847e8cad55row11_col5\" class=\"data row11 col5\" >0.887864</td>\n",
       "                        <td id=\"T_ccb8692c_1522_11ea_8857_68847e8cad55row11_col6\" class=\"data row11 col6\" >0.887864</td>\n",
       "                        <td id=\"T_ccb8692c_1522_11ea_8857_68847e8cad55row11_col7\" class=\"data row11 col7\" >0.887864</td>\n",
       "                        <td id=\"T_ccb8692c_1522_11ea_8857_68847e8cad55row11_col8\" class=\"data row11 col8\" >0.887864</td>\n",
       "                        <td id=\"T_ccb8692c_1522_11ea_8857_68847e8cad55row11_col9\" class=\"data row11 col9\" >0.887864</td>\n",
       "                        <td id=\"T_ccb8692c_1522_11ea_8857_68847e8cad55row11_col10\" class=\"data row11 col10\" >0.887864</td>\n",
       "                        <td id=\"T_ccb8692c_1522_11ea_8857_68847e8cad55row11_col11\" class=\"data row11 col11\" >0.887864</td>\n",
       "                        <td id=\"T_ccb8692c_1522_11ea_8857_68847e8cad55row11_col12\" class=\"data row11 col12\" >0.887864</td>\n",
       "                        <td id=\"T_ccb8692c_1522_11ea_8857_68847e8cad55row11_col13\" class=\"data row11 col13\" >seconds</td>\n",
       "                        <td id=\"T_ccb8692c_1522_11ea_8857_68847e8cad55row11_col14\" class=\"data row11 col14\" >time for building the params</td>\n",
       "            </tr>\n",
       "            <tr>\n",
       "                        <th id=\"T_ccb8692c_1522_11ea_8857_68847e8cad55level0_row12\" class=\"row_heading level0 row12\" >mipGap_</th>\n",
       "                        <td id=\"T_ccb8692c_1522_11ea_8857_68847e8cad55row12_col0\" class=\"data row12 col0\" >0.1</td>\n",
       "                        <td id=\"T_ccb8692c_1522_11ea_8857_68847e8cad55row12_col1\" class=\"data row12 col1\" >0.1</td>\n",
       "                        <td id=\"T_ccb8692c_1522_11ea_8857_68847e8cad55row12_col2\" class=\"data row12 col2\" >0.1</td>\n",
       "                        <td id=\"T_ccb8692c_1522_11ea_8857_68847e8cad55row12_col3\" class=\"data row12 col3\" >0.1</td>\n",
       "                        <td id=\"T_ccb8692c_1522_11ea_8857_68847e8cad55row12_col4\" class=\"data row12 col4\" >0.1</td>\n",
       "                        <td id=\"T_ccb8692c_1522_11ea_8857_68847e8cad55row12_col5\" class=\"data row12 col5\" >0.1</td>\n",
       "                        <td id=\"T_ccb8692c_1522_11ea_8857_68847e8cad55row12_col6\" class=\"data row12 col6\" >0.1</td>\n",
       "                        <td id=\"T_ccb8692c_1522_11ea_8857_68847e8cad55row12_col7\" class=\"data row12 col7\" >0.1</td>\n",
       "                        <td id=\"T_ccb8692c_1522_11ea_8857_68847e8cad55row12_col8\" class=\"data row12 col8\" >0.1</td>\n",
       "                        <td id=\"T_ccb8692c_1522_11ea_8857_68847e8cad55row12_col9\" class=\"data row12 col9\" >0.1</td>\n",
       "                        <td id=\"T_ccb8692c_1522_11ea_8857_68847e8cad55row12_col10\" class=\"data row12 col10\" >0.1</td>\n",
       "                        <td id=\"T_ccb8692c_1522_11ea_8857_68847e8cad55row12_col11\" class=\"data row12 col11\" >0.1</td>\n",
       "                        <td id=\"T_ccb8692c_1522_11ea_8857_68847e8cad55row12_col12\" class=\"data row12 col12\" >0.1</td>\n",
       "                        <td id=\"T_ccb8692c_1522_11ea_8857_68847e8cad55row12_col13\" class=\"data row12 col13\" >%</td>\n",
       "                        <td id=\"T_ccb8692c_1522_11ea_8857_68847e8cad55row12_col14\" class=\"data row12 col14\" >Gap to relaxed solution</td>\n",
       "            </tr>\n",
       "            <tr>\n",
       "                        <th id=\"T_ccb8692c_1522_11ea_8857_68847e8cad55level0_row13\" class=\"row_heading level0 row13\" >timelog_model_</th>\n",
       "                        <td id=\"T_ccb8692c_1522_11ea_8857_68847e8cad55row13_col0\" class=\"data row13 col0\" >2.16796</td>\n",
       "                        <td id=\"T_ccb8692c_1522_11ea_8857_68847e8cad55row13_col1\" class=\"data row13 col1\" >2.17843</td>\n",
       "                        <td id=\"T_ccb8692c_1522_11ea_8857_68847e8cad55row13_col2\" class=\"data row13 col2\" >2.48507</td>\n",
       "                        <td id=\"T_ccb8692c_1522_11ea_8857_68847e8cad55row13_col3\" class=\"data row13 col3\" >2.64288</td>\n",
       "                        <td id=\"T_ccb8692c_1522_11ea_8857_68847e8cad55row13_col4\" class=\"data row13 col4\" >2.53183</td>\n",
       "                        <td id=\"T_ccb8692c_1522_11ea_8857_68847e8cad55row13_col5\" class=\"data row13 col5\" >2.74258</td>\n",
       "                        <td id=\"T_ccb8692c_1522_11ea_8857_68847e8cad55row13_col6\" class=\"data row13 col6\" >2.52255</td>\n",
       "                        <td id=\"T_ccb8692c_1522_11ea_8857_68847e8cad55row13_col7\" class=\"data row13 col7\" >2.63411</td>\n",
       "                        <td id=\"T_ccb8692c_1522_11ea_8857_68847e8cad55row13_col8\" class=\"data row13 col8\" >2.44957</td>\n",
       "                        <td id=\"T_ccb8692c_1522_11ea_8857_68847e8cad55row13_col9\" class=\"data row13 col9\" >2.5541</td>\n",
       "                        <td id=\"T_ccb8692c_1522_11ea_8857_68847e8cad55row13_col10\" class=\"data row13 col10\" >2.35361</td>\n",
       "                        <td id=\"T_ccb8692c_1522_11ea_8857_68847e8cad55row13_col11\" class=\"data row13 col11\" >2.3162</td>\n",
       "                        <td id=\"T_ccb8692c_1522_11ea_8857_68847e8cad55row13_col12\" class=\"data row13 col12\" >2.25981</td>\n",
       "                        <td id=\"T_ccb8692c_1522_11ea_8857_68847e8cad55row13_col13\" class=\"data row13 col13\" >seconds</td>\n",
       "                        <td id=\"T_ccb8692c_1522_11ea_8857_68847e8cad55row13_col14\" class=\"data row13 col14\" >time for building the model</td>\n",
       "            </tr>\n",
       "            <tr>\n",
       "                        <th id=\"T_ccb8692c_1522_11ea_8857_68847e8cad55level0_row14\" class=\"row_heading level0 row14\" >timelog_solve_</th>\n",
       "                        <td id=\"T_ccb8692c_1522_11ea_8857_68847e8cad55row14_col0\" class=\"data row14 col0\" >0.141587</td>\n",
       "                        <td id=\"T_ccb8692c_1522_11ea_8857_68847e8cad55row14_col1\" class=\"data row14 col1\" >0.715824</td>\n",
       "                        <td id=\"T_ccb8692c_1522_11ea_8857_68847e8cad55row14_col2\" class=\"data row14 col2\" >0.704376</td>\n",
       "                        <td id=\"T_ccb8692c_1522_11ea_8857_68847e8cad55row14_col3\" class=\"data row14 col3\" >0.721457</td>\n",
       "                        <td id=\"T_ccb8692c_1522_11ea_8857_68847e8cad55row14_col4\" class=\"data row14 col4\" >0.267676</td>\n",
       "                        <td id=\"T_ccb8692c_1522_11ea_8857_68847e8cad55row14_col5\" class=\"data row14 col5\" >0.742032</td>\n",
       "                        <td id=\"T_ccb8692c_1522_11ea_8857_68847e8cad55row14_col6\" class=\"data row14 col6\" >0.797622</td>\n",
       "                        <td id=\"T_ccb8692c_1522_11ea_8857_68847e8cad55row14_col7\" class=\"data row14 col7\" >0.766965</td>\n",
       "                        <td id=\"T_ccb8692c_1522_11ea_8857_68847e8cad55row14_col8\" class=\"data row14 col8\" >0.31144</td>\n",
       "                        <td id=\"T_ccb8692c_1522_11ea_8857_68847e8cad55row14_col9\" class=\"data row14 col9\" >0.777083</td>\n",
       "                        <td id=\"T_ccb8692c_1522_11ea_8857_68847e8cad55row14_col10\" class=\"data row14 col10\" >0.898429</td>\n",
       "                        <td id=\"T_ccb8692c_1522_11ea_8857_68847e8cad55row14_col11\" class=\"data row14 col11\" >0.994797</td>\n",
       "                        <td id=\"T_ccb8692c_1522_11ea_8857_68847e8cad55row14_col12\" class=\"data row14 col12\" >0.3371</td>\n",
       "                        <td id=\"T_ccb8692c_1522_11ea_8857_68847e8cad55row14_col13\" class=\"data row14 col13\" >seconds</td>\n",
       "                        <td id=\"T_ccb8692c_1522_11ea_8857_68847e8cad55row14_col14\" class=\"data row14 col14\" >time for solving the model</td>\n",
       "            </tr>\n",
       "    </tbody></table>"
      ],
      "text/plain": [
       "<pandas.io.formats.style.Styler at 0x2090130ad88>"
      ]
     },
     "execution_count": 11,
     "metadata": {},
     "output_type": "execute_result"
    }
   ],
   "source": [
    "# produces a table of all scalar parameter of the model.\n",
    "cs.plot.table(\"p\")"
   ]
  },
  {
   "cell_type": "code",
   "execution_count": 12,
   "metadata": {
    "ExecuteTime": {
     "end_time": "2019-12-02T16:42:59.837947Z",
     "start_time": "2019-12-02T16:42:59.628944Z"
    },
    "slideshow": {
     "slide_type": "subslide"
    }
   },
   "outputs": [
    {
     "name": "stdout",
     "output_type": "stream",
     "text": [
      "Note: Bold font indicate deviation from first/reference scenario.\n"
     ]
    },
    {
     "data": {
      "text/html": [
       "<style  type=\"text/css\" >\n",
       "    #T_ccdc7f52_1522_11ea_94fd_68847e8cad55row0_col0 {\n",
       "            background-color:  #e5ffe5;\n",
       "            color:  #000000;\n",
       "        }    #T_ccdc7f52_1522_11ea_94fd_68847e8cad55row0_col1 {\n",
       "            background-color:  #e5ffe5;\n",
       "            color:  #000000;\n",
       "            : ;\n",
       "            font-weight:  bold;\n",
       "        }    #T_ccdc7f52_1522_11ea_94fd_68847e8cad55row0_col2 {\n",
       "            background-color:  #e5ffe5;\n",
       "            color:  #000000;\n",
       "            : ;\n",
       "            font-weight:  bold;\n",
       "        }    #T_ccdc7f52_1522_11ea_94fd_68847e8cad55row0_col3 {\n",
       "            background-color:  #e5ffe5;\n",
       "            color:  #000000;\n",
       "            : ;\n",
       "            font-weight:  bold;\n",
       "        }    #T_ccdc7f52_1522_11ea_94fd_68847e8cad55row0_col4 {\n",
       "            background-color:  #e5ffe5;\n",
       "            color:  #000000;\n",
       "            : ;\n",
       "            font-weight:  bold;\n",
       "        }    #T_ccdc7f52_1522_11ea_94fd_68847e8cad55row0_col5 {\n",
       "            background-color:  #e5ffe5;\n",
       "            color:  #000000;\n",
       "            : ;\n",
       "            font-weight:  bold;\n",
       "        }    #T_ccdc7f52_1522_11ea_94fd_68847e8cad55row0_col6 {\n",
       "            background-color:  #e5ffe5;\n",
       "            color:  #000000;\n",
       "            : ;\n",
       "            font-weight:  bold;\n",
       "        }    #T_ccdc7f52_1522_11ea_94fd_68847e8cad55row0_col7 {\n",
       "            background-color:  #e5ffe5;\n",
       "            color:  #000000;\n",
       "            : ;\n",
       "            font-weight:  bold;\n",
       "        }    #T_ccdc7f52_1522_11ea_94fd_68847e8cad55row0_col8 {\n",
       "            background-color:  #e5ffe5;\n",
       "            color:  #000000;\n",
       "            : ;\n",
       "            font-weight:  bold;\n",
       "        }    #T_ccdc7f52_1522_11ea_94fd_68847e8cad55row0_col9 {\n",
       "            background-color:  #e5ffe5;\n",
       "            color:  #000000;\n",
       "            : ;\n",
       "            font-weight:  bold;\n",
       "        }    #T_ccdc7f52_1522_11ea_94fd_68847e8cad55row0_col10 {\n",
       "            background-color:  #e5ffe5;\n",
       "            color:  #000000;\n",
       "            : ;\n",
       "            font-weight:  bold;\n",
       "        }    #T_ccdc7f52_1522_11ea_94fd_68847e8cad55row0_col11 {\n",
       "            background-color:  #e5ffe5;\n",
       "            color:  #000000;\n",
       "            : ;\n",
       "            font-weight:  bold;\n",
       "        }    #T_ccdc7f52_1522_11ea_94fd_68847e8cad55row0_col12 {\n",
       "            background-color:  #e5ffe5;\n",
       "            color:  #000000;\n",
       "            : ;\n",
       "            font-weight:  bold;\n",
       "        }    #T_ccdc7f52_1522_11ea_94fd_68847e8cad55row0_col13 {\n",
       "            : ;\n",
       "            font-weight:  bold;\n",
       "        }    #T_ccdc7f52_1522_11ea_94fd_68847e8cad55row0_col14 {\n",
       "            : ;\n",
       "            font-weight:  bold;\n",
       "        }    #T_ccdc7f52_1522_11ea_94fd_68847e8cad55row1_col0 {\n",
       "            background-color:  #008000;\n",
       "            color:  #f1f1f1;\n",
       "        }    #T_ccdc7f52_1522_11ea_94fd_68847e8cad55row1_col1 {\n",
       "            background-color:  #008000;\n",
       "            color:  #f1f1f1;\n",
       "            : ;\n",
       "            font-weight:  bold;\n",
       "        }    #T_ccdc7f52_1522_11ea_94fd_68847e8cad55row1_col2 {\n",
       "            background-color:  #008000;\n",
       "            color:  #f1f1f1;\n",
       "            : ;\n",
       "            font-weight:  bold;\n",
       "        }    #T_ccdc7f52_1522_11ea_94fd_68847e8cad55row1_col3 {\n",
       "            background-color:  #008000;\n",
       "            color:  #f1f1f1;\n",
       "            : ;\n",
       "            font-weight:  bold;\n",
       "        }    #T_ccdc7f52_1522_11ea_94fd_68847e8cad55row1_col4 {\n",
       "            background-color:  #008000;\n",
       "            color:  #f1f1f1;\n",
       "            : ;\n",
       "            font-weight:  bold;\n",
       "        }    #T_ccdc7f52_1522_11ea_94fd_68847e8cad55row1_col5 {\n",
       "            background-color:  #008000;\n",
       "            color:  #f1f1f1;\n",
       "            : ;\n",
       "            font-weight:  bold;\n",
       "        }    #T_ccdc7f52_1522_11ea_94fd_68847e8cad55row1_col6 {\n",
       "            background-color:  #008000;\n",
       "            color:  #f1f1f1;\n",
       "            : ;\n",
       "            font-weight:  bold;\n",
       "        }    #T_ccdc7f52_1522_11ea_94fd_68847e8cad55row1_col7 {\n",
       "            background-color:  #008000;\n",
       "            color:  #f1f1f1;\n",
       "            : ;\n",
       "            font-weight:  bold;\n",
       "        }    #T_ccdc7f52_1522_11ea_94fd_68847e8cad55row1_col8 {\n",
       "            background-color:  #008000;\n",
       "            color:  #f1f1f1;\n",
       "            : ;\n",
       "            font-weight:  bold;\n",
       "        }    #T_ccdc7f52_1522_11ea_94fd_68847e8cad55row1_col9 {\n",
       "            background-color:  #008000;\n",
       "            color:  #f1f1f1;\n",
       "            : ;\n",
       "            font-weight:  bold;\n",
       "        }    #T_ccdc7f52_1522_11ea_94fd_68847e8cad55row1_col10 {\n",
       "            background-color:  #008000;\n",
       "            color:  #f1f1f1;\n",
       "            : ;\n",
       "            font-weight:  bold;\n",
       "        }    #T_ccdc7f52_1522_11ea_94fd_68847e8cad55row1_col11 {\n",
       "            background-color:  #008000;\n",
       "            color:  #f1f1f1;\n",
       "            : ;\n",
       "            font-weight:  bold;\n",
       "        }    #T_ccdc7f52_1522_11ea_94fd_68847e8cad55row1_col12 {\n",
       "            background-color:  #008000;\n",
       "            color:  #f1f1f1;\n",
       "            : ;\n",
       "            font-weight:  bold;\n",
       "        }    #T_ccdc7f52_1522_11ea_94fd_68847e8cad55row1_col13 {\n",
       "            : ;\n",
       "            font-weight:  bold;\n",
       "        }    #T_ccdc7f52_1522_11ea_94fd_68847e8cad55row1_col14 {\n",
       "            : ;\n",
       "            font-weight:  bold;\n",
       "        }    #T_ccdc7f52_1522_11ea_94fd_68847e8cad55row2_col0 {\n",
       "            background-color:  #e5ffe5;\n",
       "            color:  #000000;\n",
       "        }    #T_ccdc7f52_1522_11ea_94fd_68847e8cad55row2_col1 {\n",
       "            background-color:  #e5ffe5;\n",
       "            color:  #000000;\n",
       "            : ;\n",
       "            font-weight:  bold;\n",
       "        }    #T_ccdc7f52_1522_11ea_94fd_68847e8cad55row2_col2 {\n",
       "            background-color:  #e5ffe5;\n",
       "            color:  #000000;\n",
       "            : ;\n",
       "            font-weight:  bold;\n",
       "        }    #T_ccdc7f52_1522_11ea_94fd_68847e8cad55row2_col3 {\n",
       "            background-color:  #e5ffe5;\n",
       "            color:  #000000;\n",
       "            : ;\n",
       "            font-weight:  bold;\n",
       "        }    #T_ccdc7f52_1522_11ea_94fd_68847e8cad55row2_col4 {\n",
       "            background-color:  #e5ffe5;\n",
       "            color:  #000000;\n",
       "            : ;\n",
       "            font-weight:  bold;\n",
       "        }    #T_ccdc7f52_1522_11ea_94fd_68847e8cad55row2_col5 {\n",
       "            background-color:  #e5ffe5;\n",
       "            color:  #000000;\n",
       "            : ;\n",
       "            font-weight:  bold;\n",
       "        }    #T_ccdc7f52_1522_11ea_94fd_68847e8cad55row2_col6 {\n",
       "            background-color:  #e5ffe5;\n",
       "            color:  #000000;\n",
       "            : ;\n",
       "            font-weight:  bold;\n",
       "        }    #T_ccdc7f52_1522_11ea_94fd_68847e8cad55row2_col7 {\n",
       "            background-color:  #e5ffe5;\n",
       "            color:  #000000;\n",
       "            : ;\n",
       "            font-weight:  bold;\n",
       "        }    #T_ccdc7f52_1522_11ea_94fd_68847e8cad55row2_col8 {\n",
       "            background-color:  #e5ffe5;\n",
       "            color:  #000000;\n",
       "            : ;\n",
       "            font-weight:  bold;\n",
       "        }    #T_ccdc7f52_1522_11ea_94fd_68847e8cad55row2_col9 {\n",
       "            background-color:  #e5ffe5;\n",
       "            color:  #000000;\n",
       "            : ;\n",
       "            font-weight:  bold;\n",
       "        }    #T_ccdc7f52_1522_11ea_94fd_68847e8cad55row2_col10 {\n",
       "            background-color:  #e5ffe5;\n",
       "            color:  #000000;\n",
       "            : ;\n",
       "            font-weight:  bold;\n",
       "        }    #T_ccdc7f52_1522_11ea_94fd_68847e8cad55row2_col11 {\n",
       "            background-color:  #e5ffe5;\n",
       "            color:  #000000;\n",
       "            : ;\n",
       "            font-weight:  bold;\n",
       "        }    #T_ccdc7f52_1522_11ea_94fd_68847e8cad55row2_col12 {\n",
       "            background-color:  #e5ffe5;\n",
       "            color:  #000000;\n",
       "            : ;\n",
       "            font-weight:  bold;\n",
       "        }    #T_ccdc7f52_1522_11ea_94fd_68847e8cad55row2_col13 {\n",
       "            : ;\n",
       "            font-weight:  bold;\n",
       "        }    #T_ccdc7f52_1522_11ea_94fd_68847e8cad55row2_col14 {\n",
       "            : ;\n",
       "            font-weight:  bold;\n",
       "        }    #T_ccdc7f52_1522_11ea_94fd_68847e8cad55row3_col0 {\n",
       "            background-color:  #e5ffe5;\n",
       "            color:  #000000;\n",
       "        }    #T_ccdc7f52_1522_11ea_94fd_68847e8cad55row3_col1 {\n",
       "            background-color:  #e5ffe5;\n",
       "            color:  #000000;\n",
       "            : ;\n",
       "            font-weight:  bold;\n",
       "        }    #T_ccdc7f52_1522_11ea_94fd_68847e8cad55row3_col2 {\n",
       "            background-color:  #e5ffe5;\n",
       "            color:  #000000;\n",
       "            : ;\n",
       "            font-weight:  bold;\n",
       "        }    #T_ccdc7f52_1522_11ea_94fd_68847e8cad55row3_col3 {\n",
       "            background-color:  #e5ffe5;\n",
       "            color:  #000000;\n",
       "            : ;\n",
       "            font-weight:  bold;\n",
       "        }    #T_ccdc7f52_1522_11ea_94fd_68847e8cad55row3_col4 {\n",
       "            background-color:  #e5ffe5;\n",
       "            color:  #000000;\n",
       "            : ;\n",
       "            font-weight:  bold;\n",
       "        }    #T_ccdc7f52_1522_11ea_94fd_68847e8cad55row3_col5 {\n",
       "            background-color:  #e5ffe5;\n",
       "            color:  #000000;\n",
       "            : ;\n",
       "            font-weight:  bold;\n",
       "        }    #T_ccdc7f52_1522_11ea_94fd_68847e8cad55row3_col6 {\n",
       "            background-color:  #e5ffe5;\n",
       "            color:  #000000;\n",
       "            : ;\n",
       "            font-weight:  bold;\n",
       "        }    #T_ccdc7f52_1522_11ea_94fd_68847e8cad55row3_col7 {\n",
       "            background-color:  #e5ffe5;\n",
       "            color:  #000000;\n",
       "            : ;\n",
       "            font-weight:  bold;\n",
       "        }    #T_ccdc7f52_1522_11ea_94fd_68847e8cad55row3_col8 {\n",
       "            background-color:  #e5ffe5;\n",
       "            color:  #000000;\n",
       "            : ;\n",
       "            font-weight:  bold;\n",
       "        }    #T_ccdc7f52_1522_11ea_94fd_68847e8cad55row3_col9 {\n",
       "            background-color:  #e5ffe5;\n",
       "            color:  #000000;\n",
       "            : ;\n",
       "            font-weight:  bold;\n",
       "        }    #T_ccdc7f52_1522_11ea_94fd_68847e8cad55row3_col10 {\n",
       "            background-color:  #e5ffe5;\n",
       "            color:  #000000;\n",
       "            : ;\n",
       "            font-weight:  bold;\n",
       "        }    #T_ccdc7f52_1522_11ea_94fd_68847e8cad55row3_col11 {\n",
       "            background-color:  #e5ffe5;\n",
       "            color:  #000000;\n",
       "            : ;\n",
       "            font-weight:  bold;\n",
       "        }    #T_ccdc7f52_1522_11ea_94fd_68847e8cad55row3_col12 {\n",
       "            background-color:  #e5ffe5;\n",
       "            color:  #000000;\n",
       "            : ;\n",
       "            font-weight:  bold;\n",
       "        }    #T_ccdc7f52_1522_11ea_94fd_68847e8cad55row3_col13 {\n",
       "            : ;\n",
       "            font-weight:  bold;\n",
       "        }    #T_ccdc7f52_1522_11ea_94fd_68847e8cad55row3_col14 {\n",
       "            : ;\n",
       "            font-weight:  bold;\n",
       "        }    #T_ccdc7f52_1522_11ea_94fd_68847e8cad55row4_col0 {\n",
       "            background-color:  #e5ffe5;\n",
       "            color:  #000000;\n",
       "        }    #T_ccdc7f52_1522_11ea_94fd_68847e8cad55row4_col1 {\n",
       "            background-color:  #e5ffe5;\n",
       "            color:  #000000;\n",
       "            : ;\n",
       "            font-weight:  bold;\n",
       "        }    #T_ccdc7f52_1522_11ea_94fd_68847e8cad55row4_col2 {\n",
       "            background-color:  #e5ffe5;\n",
       "            color:  #000000;\n",
       "            : ;\n",
       "            font-weight:  bold;\n",
       "        }    #T_ccdc7f52_1522_11ea_94fd_68847e8cad55row4_col3 {\n",
       "            background-color:  #e5ffe5;\n",
       "            color:  #000000;\n",
       "            : ;\n",
       "            font-weight:  bold;\n",
       "        }    #T_ccdc7f52_1522_11ea_94fd_68847e8cad55row4_col4 {\n",
       "            background-color:  #e5ffe5;\n",
       "            color:  #000000;\n",
       "            : ;\n",
       "            font-weight:  bold;\n",
       "        }    #T_ccdc7f52_1522_11ea_94fd_68847e8cad55row4_col5 {\n",
       "            background-color:  #e5ffe5;\n",
       "            color:  #000000;\n",
       "            : ;\n",
       "            font-weight:  bold;\n",
       "        }    #T_ccdc7f52_1522_11ea_94fd_68847e8cad55row4_col6 {\n",
       "            background-color:  #e5ffe5;\n",
       "            color:  #000000;\n",
       "            : ;\n",
       "            font-weight:  bold;\n",
       "        }    #T_ccdc7f52_1522_11ea_94fd_68847e8cad55row4_col7 {\n",
       "            background-color:  #e5ffe5;\n",
       "            color:  #000000;\n",
       "            : ;\n",
       "            font-weight:  bold;\n",
       "        }    #T_ccdc7f52_1522_11ea_94fd_68847e8cad55row4_col8 {\n",
       "            background-color:  #e5ffe5;\n",
       "            color:  #000000;\n",
       "            : ;\n",
       "            font-weight:  bold;\n",
       "        }    #T_ccdc7f52_1522_11ea_94fd_68847e8cad55row4_col9 {\n",
       "            background-color:  #e5ffe5;\n",
       "            color:  #000000;\n",
       "            : ;\n",
       "            font-weight:  bold;\n",
       "        }    #T_ccdc7f52_1522_11ea_94fd_68847e8cad55row4_col10 {\n",
       "            background-color:  #e5ffe5;\n",
       "            color:  #000000;\n",
       "            : ;\n",
       "            font-weight:  bold;\n",
       "        }    #T_ccdc7f52_1522_11ea_94fd_68847e8cad55row4_col11 {\n",
       "            background-color:  #e5ffe5;\n",
       "            color:  #000000;\n",
       "            : ;\n",
       "            font-weight:  bold;\n",
       "        }    #T_ccdc7f52_1522_11ea_94fd_68847e8cad55row4_col12 {\n",
       "            background-color:  #e5ffe5;\n",
       "            color:  #000000;\n",
       "            : ;\n",
       "            font-weight:  bold;\n",
       "        }    #T_ccdc7f52_1522_11ea_94fd_68847e8cad55row4_col13 {\n",
       "            : ;\n",
       "            font-weight:  bold;\n",
       "        }    #T_ccdc7f52_1522_11ea_94fd_68847e8cad55row4_col14 {\n",
       "            : ;\n",
       "            font-weight:  bold;\n",
       "        }</style><table id=\"T_ccdc7f52_1522_11ea_94fd_68847e8cad55\" ><thead>    <tr>        <th class=\"blank level0\" ></th>        <th class=\"col_heading level0 col0\" >REF</th>        <th class=\"col_heading level0 col1\" >sc1</th>        <th class=\"col_heading level0 col2\" >sc2</th>        <th class=\"col_heading level0 col3\" >sc3</th>        <th class=\"col_heading level0 col4\" >sc4</th>        <th class=\"col_heading level0 col5\" >sc5</th>        <th class=\"col_heading level0 col6\" >sc6</th>        <th class=\"col_heading level0 col7\" >sc7</th>        <th class=\"col_heading level0 col8\" >sc8</th>        <th class=\"col_heading level0 col9\" >sc9</th>        <th class=\"col_heading level0 col10\" >sc10</th>        <th class=\"col_heading level0 col11\" >sc11</th>        <th class=\"col_heading level0 col12\" >sc12</th>        <th class=\"col_heading level0 col13\" >unit</th>        <th class=\"col_heading level0 col14\" >doc</th>    </tr>    <tr>        <th class=\"index_name level0\" >v</th>        <th class=\"blank\" ></th>        <th class=\"blank\" ></th>        <th class=\"blank\" ></th>        <th class=\"blank\" ></th>        <th class=\"blank\" ></th>        <th class=\"blank\" ></th>        <th class=\"blank\" ></th>        <th class=\"blank\" ></th>        <th class=\"blank\" ></th>        <th class=\"blank\" ></th>        <th class=\"blank\" ></th>        <th class=\"blank\" ></th>        <th class=\"blank\" ></th>        <th class=\"blank\" ></th>        <th class=\"blank\" ></th>    </tr></thead><tbody>\n",
       "                <tr>\n",
       "                        <th id=\"T_ccdc7f52_1522_11ea_94fd_68847e8cad55level0_row0\" class=\"row_heading level0 row0\" >C_</th>\n",
       "                        <td id=\"T_ccdc7f52_1522_11ea_94fd_68847e8cad55row0_col0\" class=\"data row0 col0\" >71993.6</td>\n",
       "                        <td id=\"T_ccdc7f52_1522_11ea_94fd_68847e8cad55row0_col1\" class=\"data row0 col1\" >69011.9</td>\n",
       "                        <td id=\"T_ccdc7f52_1522_11ea_94fd_68847e8cad55row0_col2\" class=\"data row0 col2\" >69776.4</td>\n",
       "                        <td id=\"T_ccdc7f52_1522_11ea_94fd_68847e8cad55row0_col3\" class=\"data row0 col3\" >72329.8</td>\n",
       "                        <td id=\"T_ccdc7f52_1522_11ea_94fd_68847e8cad55row0_col4\" class=\"data row0 col4\" >118432</td>\n",
       "                        <td id=\"T_ccdc7f52_1522_11ea_94fd_68847e8cad55row0_col5\" class=\"data row0 col5\" >69560.2</td>\n",
       "                        <td id=\"T_ccdc7f52_1522_11ea_94fd_68847e8cad55row0_col6\" class=\"data row0 col6\" >70952.5</td>\n",
       "                        <td id=\"T_ccdc7f52_1522_11ea_94fd_68847e8cad55row0_col7\" class=\"data row0 col7\" >75030</td>\n",
       "                        <td id=\"T_ccdc7f52_1522_11ea_94fd_68847e8cad55row0_col8\" class=\"data row0 col8\" >121738</td>\n",
       "                        <td id=\"T_ccdc7f52_1522_11ea_94fd_68847e8cad55row0_col9\" class=\"data row0 col9\" >70165.6</td>\n",
       "                        <td id=\"T_ccdc7f52_1522_11ea_94fd_68847e8cad55row0_col10\" class=\"data row0 col10\" >71322</td>\n",
       "                        <td id=\"T_ccdc7f52_1522_11ea_94fd_68847e8cad55row0_col11\" class=\"data row0 col11\" >74963.3</td>\n",
       "                        <td id=\"T_ccdc7f52_1522_11ea_94fd_68847e8cad55row0_col12\" class=\"data row0 col12\" >121085</td>\n",
       "                        <td id=\"T_ccdc7f52_1522_11ea_94fd_68847e8cad55row0_col13\" class=\"data row0 col13\" >€/a</td>\n",
       "                        <td id=\"T_ccdc7f52_1522_11ea_94fd_68847e8cad55row0_col14\" class=\"data row0 col14\" >operating costs</td>\n",
       "            </tr>\n",
       "            <tr>\n",
       "                        <th id=\"T_ccdc7f52_1522_11ea_94fd_68847e8cad55level0_row1\" class=\"row_heading level0 row1\" >CE_</th>\n",
       "                        <td id=\"T_ccdc7f52_1522_11ea_94fd_68847e8cad55row1_col0\" class=\"data row1 col0\" >2.3157e+08</td>\n",
       "                        <td id=\"T_ccdc7f52_1522_11ea_94fd_68847e8cad55row1_col1\" class=\"data row1 col1\" >2.14147e+08</td>\n",
       "                        <td id=\"T_ccdc7f52_1522_11ea_94fd_68847e8cad55row1_col2\" class=\"data row1 col2\" >2.01775e+08</td>\n",
       "                        <td id=\"T_ccdc7f52_1522_11ea_94fd_68847e8cad55row1_col3\" class=\"data row1 col3\" >1.93724e+08</td>\n",
       "                        <td id=\"T_ccdc7f52_1522_11ea_94fd_68847e8cad55row1_col4\" class=\"data row1 col4\" >1.90463e+08</td>\n",
       "                        <td id=\"T_ccdc7f52_1522_11ea_94fd_68847e8cad55row1_col5\" class=\"data row1 col5\" >2.29023e+08</td>\n",
       "                        <td id=\"T_ccdc7f52_1522_11ea_94fd_68847e8cad55row1_col6\" class=\"data row1 col6\" >2.07649e+08</td>\n",
       "                        <td id=\"T_ccdc7f52_1522_11ea_94fd_68847e8cad55row1_col7\" class=\"data row1 col7\" >1.94439e+08</td>\n",
       "                        <td id=\"T_ccdc7f52_1522_11ea_94fd_68847e8cad55row1_col8\" class=\"data row1 col8\" >1.90463e+08</td>\n",
       "                        <td id=\"T_ccdc7f52_1522_11ea_94fd_68847e8cad55row1_col9\" class=\"data row1 col9\" >2.30523e+08</td>\n",
       "                        <td id=\"T_ccdc7f52_1522_11ea_94fd_68847e8cad55row1_col10\" class=\"data row1 col10\" >2.06041e+08</td>\n",
       "                        <td id=\"T_ccdc7f52_1522_11ea_94fd_68847e8cad55row1_col11\" class=\"data row1 col11\" >1.94053e+08</td>\n",
       "                        <td id=\"T_ccdc7f52_1522_11ea_94fd_68847e8cad55row1_col12\" class=\"data row1 col12\" >1.90463e+08</td>\n",
       "                        <td id=\"T_ccdc7f52_1522_11ea_94fd_68847e8cad55row1_col13\" class=\"data row1 col13\" >gCO2eq/a</td>\n",
       "                        <td id=\"T_ccdc7f52_1522_11ea_94fd_68847e8cad55row1_col14\" class=\"data row1 col14\" >operating emissions</td>\n",
       "            </tr>\n",
       "            <tr>\n",
       "                        <th id=\"T_ccdc7f52_1522_11ea_94fd_68847e8cad55level0_row2\" class=\"row_heading level0 row2\" >E_BES_in_max_</th>\n",
       "                        <td id=\"T_ccdc7f52_1522_11ea_94fd_68847e8cad55row2_col0\" class=\"data row2 col0\" >0</td>\n",
       "                        <td id=\"T_ccdc7f52_1522_11ea_94fd_68847e8cad55row2_col1\" class=\"data row2 col1\" >1000</td>\n",
       "                        <td id=\"T_ccdc7f52_1522_11ea_94fd_68847e8cad55row2_col2\" class=\"data row2 col2\" >1000</td>\n",
       "                        <td id=\"T_ccdc7f52_1522_11ea_94fd_68847e8cad55row2_col3\" class=\"data row2 col3\" >1000</td>\n",
       "                        <td id=\"T_ccdc7f52_1522_11ea_94fd_68847e8cad55row2_col4\" class=\"data row2 col4\" >1000</td>\n",
       "                        <td id=\"T_ccdc7f52_1522_11ea_94fd_68847e8cad55row2_col5\" class=\"data row2 col5\" >1000</td>\n",
       "                        <td id=\"T_ccdc7f52_1522_11ea_94fd_68847e8cad55row2_col6\" class=\"data row2 col6\" >1000</td>\n",
       "                        <td id=\"T_ccdc7f52_1522_11ea_94fd_68847e8cad55row2_col7\" class=\"data row2 col7\" >1000</td>\n",
       "                        <td id=\"T_ccdc7f52_1522_11ea_94fd_68847e8cad55row2_col8\" class=\"data row2 col8\" >1000</td>\n",
       "                        <td id=\"T_ccdc7f52_1522_11ea_94fd_68847e8cad55row2_col9\" class=\"data row2 col9\" >1000</td>\n",
       "                        <td id=\"T_ccdc7f52_1522_11ea_94fd_68847e8cad55row2_col10\" class=\"data row2 col10\" >1000</td>\n",
       "                        <td id=\"T_ccdc7f52_1522_11ea_94fd_68847e8cad55row2_col11\" class=\"data row2 col11\" >1000</td>\n",
       "                        <td id=\"T_ccdc7f52_1522_11ea_94fd_68847e8cad55row2_col12\" class=\"data row2 col12\" >1000</td>\n",
       "                        <td id=\"T_ccdc7f52_1522_11ea_94fd_68847e8cad55row2_col13\" class=\"data row2 col13\" >kWh_el</td>\n",
       "                        <td id=\"T_ccdc7f52_1522_11ea_94fd_68847e8cad55row2_col14\" class=\"data row2 col14\" >maximum loading rate el.</td>\n",
       "            </tr>\n",
       "            <tr>\n",
       "                        <th id=\"T_ccdc7f52_1522_11ea_94fd_68847e8cad55level0_row3\" class=\"row_heading level0 row3\" >E_BES_out_max_</th>\n",
       "                        <td id=\"T_ccdc7f52_1522_11ea_94fd_68847e8cad55row3_col0\" class=\"data row3 col0\" >0</td>\n",
       "                        <td id=\"T_ccdc7f52_1522_11ea_94fd_68847e8cad55row3_col1\" class=\"data row3 col1\" >1000</td>\n",
       "                        <td id=\"T_ccdc7f52_1522_11ea_94fd_68847e8cad55row3_col2\" class=\"data row3 col2\" >1000</td>\n",
       "                        <td id=\"T_ccdc7f52_1522_11ea_94fd_68847e8cad55row3_col3\" class=\"data row3 col3\" >1000</td>\n",
       "                        <td id=\"T_ccdc7f52_1522_11ea_94fd_68847e8cad55row3_col4\" class=\"data row3 col4\" >1000</td>\n",
       "                        <td id=\"T_ccdc7f52_1522_11ea_94fd_68847e8cad55row3_col5\" class=\"data row3 col5\" >1000</td>\n",
       "                        <td id=\"T_ccdc7f52_1522_11ea_94fd_68847e8cad55row3_col6\" class=\"data row3 col6\" >1000</td>\n",
       "                        <td id=\"T_ccdc7f52_1522_11ea_94fd_68847e8cad55row3_col7\" class=\"data row3 col7\" >1000</td>\n",
       "                        <td id=\"T_ccdc7f52_1522_11ea_94fd_68847e8cad55row3_col8\" class=\"data row3 col8\" >1000</td>\n",
       "                        <td id=\"T_ccdc7f52_1522_11ea_94fd_68847e8cad55row3_col9\" class=\"data row3 col9\" >1000</td>\n",
       "                        <td id=\"T_ccdc7f52_1522_11ea_94fd_68847e8cad55row3_col10\" class=\"data row3 col10\" >1000</td>\n",
       "                        <td id=\"T_ccdc7f52_1522_11ea_94fd_68847e8cad55row3_col11\" class=\"data row3 col11\" >1000</td>\n",
       "                        <td id=\"T_ccdc7f52_1522_11ea_94fd_68847e8cad55row3_col12\" class=\"data row3 col12\" >1000</td>\n",
       "                        <td id=\"T_ccdc7f52_1522_11ea_94fd_68847e8cad55row3_col13\" class=\"data row3 col13\" >kWh_el</td>\n",
       "                        <td id=\"T_ccdc7f52_1522_11ea_94fd_68847e8cad55row3_col14\" class=\"data row3 col14\" >maximum unloading rate el.</td>\n",
       "            </tr>\n",
       "            <tr>\n",
       "                        <th id=\"T_ccdc7f52_1522_11ea_94fd_68847e8cad55level0_row4\" class=\"row_heading level0 row4\" >P_pur_peak_</th>\n",
       "                        <td id=\"T_ccdc7f52_1522_11ea_94fd_68847e8cad55row4_col0\" class=\"data row4 col0\" >75.936</td>\n",
       "                        <td id=\"T_ccdc7f52_1522_11ea_94fd_68847e8cad55row4_col1\" class=\"data row4 col1\" >74.6167</td>\n",
       "                        <td id=\"T_ccdc7f52_1522_11ea_94fd_68847e8cad55row4_col2\" class=\"data row4 col2\" >98.7924</td>\n",
       "                        <td id=\"T_ccdc7f52_1522_11ea_94fd_68847e8cad55row4_col3\" class=\"data row4 col3\" >157.264</td>\n",
       "                        <td id=\"T_ccdc7f52_1522_11ea_94fd_68847e8cad55row4_col4\" class=\"data row4 col4\" >1070.02</td>\n",
       "                        <td id=\"T_ccdc7f52_1522_11ea_94fd_68847e8cad55row4_col5\" class=\"data row4 col5\" >61.7262</td>\n",
       "                        <td id=\"T_ccdc7f52_1522_11ea_94fd_68847e8cad55row4_col6\" class=\"data row4 col6\" >77.1729</td>\n",
       "                        <td id=\"T_ccdc7f52_1522_11ea_94fd_68847e8cad55row4_col7\" class=\"data row4 col7\" >144.14</td>\n",
       "                        <td id=\"T_ccdc7f52_1522_11ea_94fd_68847e8cad55row4_col8\" class=\"data row4 col8\" >1070.02</td>\n",
       "                        <td id=\"T_ccdc7f52_1522_11ea_94fd_68847e8cad55row4_col9\" class=\"data row4 col9\" >61.7262</td>\n",
       "                        <td id=\"T_ccdc7f52_1522_11ea_94fd_68847e8cad55row4_col10\" class=\"data row4 col10\" >75.8434</td>\n",
       "                        <td id=\"T_ccdc7f52_1522_11ea_94fd_68847e8cad55row4_col11\" class=\"data row4 col11\" >145.459</td>\n",
       "                        <td id=\"T_ccdc7f52_1522_11ea_94fd_68847e8cad55row4_col12\" class=\"data row4 col12\" >1070.02</td>\n",
       "                        <td id=\"T_ccdc7f52_1522_11ea_94fd_68847e8cad55row4_col13\" class=\"data row4 col13\" >kW_el</td>\n",
       "                        <td id=\"T_ccdc7f52_1522_11ea_94fd_68847e8cad55row4_col14\" class=\"data row4 col14\" >peak el.</td>\n",
       "            </tr>\n",
       "    </tbody></table>"
      ],
      "text/plain": [
       "<pandas.io.formats.style.Styler at 0x20901467288>"
      ]
     },
     "execution_count": 12,
     "metadata": {},
     "output_type": "execute_result"
    }
   ],
   "source": [
    "# produces a table of all scalar parameter of the model.\n",
    "cs.plot.table(\"v\")"
   ]
  },
  {
   "cell_type": "code",
   "execution_count": 66,
   "metadata": {
    "ExecuteTime": {
     "end_time": "2019-12-02T17:06:33.570591Z",
     "start_time": "2019-12-02T17:06:33.449906Z"
    },
    "slideshow": {
     "slide_type": "subslide"
    }
   },
   "outputs": [
    {
     "name": "stdout",
     "output_type": "stream",
     "text": [
      "================================================================================\n",
      "REF: Variables\n",
      "  doc = no BES\n",
      "================================================================================\n",
      "\n",
      " ---------\n",
      "C_                    71.99359 Thousand €/a\n",
      "CE_                  231.57006 tCO2eq/a\n",
      "E_BES_in_max_          0.00000 kWh_el\n",
      "E_BES_out_max_         0.00000 kWh_el\n",
      "P_pur_peak_           75.93596 kW_el\n",
      "\n",
      "T ---------\n",
      "                       sum       mean  min        max        \n",
      "E_pur_T      407147.016981  46.477970  0.0  75.935956  kWh_el\n",
      "E_PV_T        94155.230993  10.748314  0.0  81.453351  kWh_el\n",
      "E_PV_OC_T     92852.983019  10.599656  0.0  73.990415  kWh_el\n",
      "E_PV_FI_T      1302.247974   0.148658  0.0  27.257979  kWh_el\n",
      "E_sell_T       1302.247974   0.148658  0.0  27.257979  kWh_el\n",
      "E_BES_T           0.000000   0.000000  0.0   0.000000  kWh_el\n",
      "E_BES_in_T        0.000000   0.000000  0.0   0.000000  kWh_el\n",
      "E_BES_out_T       0.000000   0.000000 -0.0  -0.000000        \n",
      "\n"
     ]
    }
   ],
   "source": [
    "# prints a summary of all variables.\n",
    "cs.scens.REF.plot.describe(include_pars=False)"
   ]
  },
  {
   "cell_type": "code",
   "execution_count": 84,
   "metadata": {
    "ExecuteTime": {
     "end_time": "2019-12-02T17:19:33.330477Z",
     "start_time": "2019-12-02T17:19:32.937826Z"
    },
    "slideshow": {
     "slide_type": "subslide"
    }
   },
   "outputs": [
    {
     "data": {
      "image/png": "[encoded data removed]",
      "text/plain": [
       "<Figure size 1152x576 with 2 Axes>"
      ]
     },
     "metadata": {
      "needs_background": "light"
     },
     "output_type": "display_data"
    }
   ],
   "source": [
    "cs.scens.sc1.plot.heatmap(ent_name=\"E_dem_T\")"
   ]
  },
  {
   "cell_type": "code",
   "execution_count": 85,
   "metadata": {
    "ExecuteTime": {
     "end_time": "2019-12-02T17:19:33.774301Z",
     "start_time": "2019-12-02T17:19:33.332473Z"
    },
    "scrolled": false,
    "slideshow": {
     "slide_type": "subslide"
    }
   },
   "outputs": [
    {
     "data": {
      "image/png": "[encoded data removed]",
      "text/plain": [
       "<Figure size 1152x576 with 2 Axes>"
      ]
     },
     "metadata": {
      "needs_background": "light"
     },
     "output_type": "display_data"
    }
   ],
   "source": [
    "cs.scens.sc1.plot.heatmap(ent_name=\"E_PV_T\")"
   ]
  },
  {
   "cell_type": "code",
   "execution_count": 86,
   "metadata": {
    "ExecuteTime": {
     "end_time": "2019-12-02T17:19:34.180711Z",
     "start_time": "2019-12-02T17:19:33.776296Z"
    },
    "slideshow": {
     "slide_type": "subslide"
    }
   },
   "outputs": [
    {
     "data": {
      "image/png": "[encoded data removed]",
      "text/plain": [
       "<Figure size 1152x576 with 2 Axes>"
      ]
     },
     "metadata": {
      "needs_background": "light"
     },
     "output_type": "display_data"
    }
   ],
   "source": [
    "cs.scens.sc1.plot.heatmap(ent_name=\"E_BES_in_T\")"
   ]
  },
  {
   "cell_type": "code",
   "execution_count": 87,
   "metadata": {
    "ExecuteTime": {
     "end_time": "2019-12-02T17:19:34.611594Z",
     "start_time": "2019-12-02T17:19:34.182707Z"
    },
    "slideshow": {
     "slide_type": "subslide"
    }
   },
   "outputs": [
    {
     "data": {
      "image/png": "[encoded data removed]",
      "text/plain": [
       "<Figure size 1152x576 with 2 Axes>"
      ]
     },
     "metadata": {
      "needs_background": "light"
     },
     "output_type": "display_data"
    }
   ],
   "source": [
    "cs.scens.sc1.plot.heatmap(ent_name=\"c_el_RTP_T\")"
   ]
  },
  {
   "cell_type": "code",
   "execution_count": 88,
   "metadata": {
    "ExecuteTime": {
     "end_time": "2019-12-02T17:19:34.976210Z",
     "start_time": "2019-12-02T17:19:34.612592Z"
    },
    "slideshow": {
     "slide_type": "subslide"
    }
   },
   "outputs": [
    {
     "data": {
      "text/html": [
       "        <script type=\"text/javascript\">\n",
       "        window.PlotlyConfig = {MathJaxConfig: 'local'};\n",
       "        if (window.MathJax) {MathJax.Hub.Config({SVG: {font: \"STIX-Web\"}});}\n",
       "        if (typeof require !== 'undefined') {\n",
       "        require.undef(\"plotly\");\n",
       "        requirejs.config({\n",
       "            paths: {\n",
       "                'plotly': ['https://cdn.plot.ly/plotly-latest.min']\n",
       "            }\n",
       "        });\n",
       "        require(['plotly'], function(Plotly) {\n",
       "            window._Plotly = Plotly;\n",
       "        });\n",
       "        }\n",
       "        </script>\n",
       "        "
      ]
     },
     "metadata": {},
     "output_type": "display_data"
    },
    {
     "data": {
      "application/vnd.plotly.v1+json": {
       "config": {
        "linkText": "Export to plot.ly",
        "plotlyServerURL": "https://plot.ly",
        "showLink": false
       },
       "data": [
        {
         "hovertext": [
          "<b>Id:</b> REF<br><b>Name:</b> REF<br><b>Doc:</b> no BES<br><b>Cost savings:</b> 0.00 €/a (0.000%)<br><b>Emission savings:</b> 0.00 gCO2eq/a (0.000%)"
         ],
         "marker": {
          "color": "#606269",
          "showscale": false,
          "size": 12
         },
         "mode": "lines+markers",
         "name": "REF",
         "textposition": "bottom center",
         "type": "scatter",
         "x": [
          231.57006433649323
         ],
         "y": [
          71.99359343899229
         ]
        },
        {
         "hovertext": [
          "<b>Id:</b> sc9<br><b>Name:</b> tc_el_FLAT_T_b1000_a0.0<br><b>Doc:</b> c_el_T=c_el_FLAT_T; E_BES_CAPx_=1000; alpha_=0.0<br><b>Cost savings:</b> 1.83 Thousand €/a (2.539%)<br><b>Emission savings:</b> 1.05 tCO2eq/a (0.452%)",
          "<b>Id:</b> sc10<br><b>Name:</b> tc_el_FLAT_T_b1000_a0.3333333333333333<br><b>Doc:</b> c_el_T=c_el_FLAT_T; E_BES_CAPx_=1000; alpha_=0.3333333333333333<br><b>Cost savings:</b> 671.61 €/a (0.933%)<br><b>Emission savings:</b> 25.53 tCO2eq/a (11.025%)",
          "<b>Id:</b> sc11<br><b>Name:</b> tc_el_FLAT_T_b1000_a0.6666666666666666<br><b>Doc:</b> c_el_T=c_el_FLAT_T; E_BES_CAPx_=1000; alpha_=0.6666666666666666<br><b>Cost savings:</b> -2.97 Thousand €/a (-4.125%)<br><b>Emission savings:</b> 37.52 tCO2eq/a (16.201%)",
          "<b>Id:</b> sc12<br><b>Name:</b> tc_el_FLAT_T_b1000_a1.0<br><b>Doc:</b> c_el_T=c_el_FLAT_T; E_BES_CAPx_=1000; alpha_=1.0<br><b>Cost savings:</b> -49.09 Thousand €/a (-68.188%)<br><b>Emission savings:</b> 41.11 tCO2eq/a (17.752%)"
         ],
         "marker": {
          "color": "#F26535",
          "showscale": false,
          "size": 12
         },
         "mode": "lines+markers",
         "name": "FLAT",
         "textposition": "bottom center",
         "type": "scatter",
         "x": [
          230.5233972964426,
          206.04050753102035,
          194.05258055030993,
          190.46282482255023
         ],
         "y": [
          70.16561008439388,
          71.32198674045779,
          74.96325815799075,
          121.08474107913092
         ]
        },
        {
         "hovertext": [
          "<b>Id:</b> sc5<br><b>Name:</b> tc_el_TOU_T_b1000_a0.0<br><b>Doc:</b> c_el_T=c_el_TOU_T; E_BES_CAPx_=1000; alpha_=0.0<br><b>Cost savings:</b> 2.43 Thousand €/a (3.380%)<br><b>Emission savings:</b> 2.55 tCO2eq/a (1.100%)",
          "<b>Id:</b> sc6<br><b>Name:</b> tc_el_TOU_T_b1000_a0.3333333333333333<br><b>Doc:</b> c_el_T=c_el_TOU_T; E_BES_CAPx_=1000; alpha_=0.3333333333333333<br><b>Cost savings:</b> 1.04 Thousand €/a (1.446%)<br><b>Emission savings:</b> 23.92 tCO2eq/a (10.330%)",
          "<b>Id:</b> sc7<br><b>Name:</b> tc_el_TOU_T_b1000_a0.6666666666666666<br><b>Doc:</b> c_el_T=c_el_TOU_T; E_BES_CAPx_=1000; alpha_=0.6666666666666666<br><b>Cost savings:</b> -3.04 Thousand €/a (-4.218%)<br><b>Emission savings:</b> 37.13 tCO2eq/a (16.034%)",
          "<b>Id:</b> sc8<br><b>Name:</b> tc_el_TOU_T_b1000_a1.0<br><b>Doc:</b> c_el_T=c_el_TOU_T; E_BES_CAPx_=1000; alpha_=1.0<br><b>Cost savings:</b> -49.74 Thousand €/a (-69.095%)<br><b>Emission savings:</b> 41.11 tCO2eq/a (17.752%)"
         ],
         "marker": {
          "color": "#FCC706",
          "showscale": false,
          "size": 12
         },
         "mode": "lines+markers",
         "name": "TOU",
         "textposition": "bottom center",
         "type": "scatter",
         "x": [
          229.02311896216096,
          207.64895882672093,
          194.43916640937925,
          190.46282482255023
         ],
         "y": [
          69.56024882429762,
          70.95249796860084,
          75.02997665812782,
          121.7376381971148
         ]
        },
        {
         "hovertext": [
          "<b>Id:</b> sc1<br><b>Name:</b> tc_el_RTP_T_b1000_a0.0<br><b>Doc:</b> c_el_T=c_el_RTP_T; E_BES_CAPx_=1000; alpha_=0.0<br><b>Cost savings:</b> 2.98 Thousand €/a (4.142%)<br><b>Emission savings:</b> 17.42 tCO2eq/a (7.524%)",
          "<b>Id:</b> sc2<br><b>Name:</b> tc_el_RTP_T_b1000_a0.3333333333333333<br><b>Doc:</b> c_el_T=c_el_RTP_T; E_BES_CAPx_=1000; alpha_=0.3333333333333333<br><b>Cost savings:</b> 2.22 Thousand €/a (3.080%)<br><b>Emission savings:</b> 29.80 tCO2eq/a (12.867%)",
          "<b>Id:</b> sc3<br><b>Name:</b> tc_el_RTP_T_b1000_a0.6666666666666666<br><b>Doc:</b> c_el_T=c_el_RTP_T; E_BES_CAPx_=1000; alpha_=0.6666666666666666<br><b>Cost savings:</b> -336.24 €/a (-0.467%)<br><b>Emission savings:</b> 37.85 tCO2eq/a (16.343%)",
          "<b>Id:</b> sc4<br><b>Name:</b> tc_el_RTP_T_b1000_a1.0<br><b>Doc:</b> c_el_T=c_el_RTP_T; E_BES_CAPx_=1000; alpha_=1.0<br><b>Cost savings:</b> -46.44 Thousand €/a (-64.503%)<br><b>Emission savings:</b> 41.11 tCO2eq/a (17.752%)"
         ],
         "marker": {
          "color": "#9BAF65",
          "showscale": false,
          "size": 12
         },
         "mode": "lines+markers",
         "name": "RTP",
         "textposition": "bottom center",
         "type": "scatter",
         "x": [
          214.1471073605958,
          201.7749076882506,
          193.72410012771726,
          190.46282482255023
         ],
         "y": [
          69.01190871129792,
          69.77639482164778,
          72.32983832511019,
          118.43162545130377
         ]
        }
       ],
       "layout": {
        "hovermode": "closest",
        "template": {
         "data": {
          "bar": [
           {
            "error_x": {
             "color": "#2a3f5f"
            },
            "error_y": {
             "color": "#2a3f5f"
            },
            "marker": {
             "line": {
              "color": "#E5ECF6",
              "width": 0.5
             }
            },
            "type": "bar"
           }
          ],
          "barpolar": [
           {
            "marker": {
             "line": {
              "color": "#E5ECF6",
              "width": 0.5
             }
            },
            "type": "barpolar"
           }
          ],
          "carpet": [
           {
            "aaxis": {
             "endlinecolor": "#2a3f5f",
             "gridcolor": "white",
             "linecolor": "white",
             "minorgridcolor": "white",
             "startlinecolor": "#2a3f5f"
            },
            "baxis": {
             "endlinecolor": "#2a3f5f",
             "gridcolor": "white",
             "linecolor": "white",
             "minorgridcolor": "white",
             "startlinecolor": "#2a3f5f"
            },
            "type": "carpet"
           }
          ],
          "choropleth": [
           {
            "colorbar": {
             "outlinewidth": 0,
             "ticks": ""
            },
            "type": "choropleth"
           }
          ],
          "contour": [
           {
            "colorbar": {
             "outlinewidth": 0,
             "ticks": ""
            },
            "colorscale": [
             [
              0,
              "#0d0887"
             ],
             [
              0.1111111111111111,
              "#46039f"
             ],
             [
              0.2222222222222222,
              "#7201a8"
             ],
             [
              0.3333333333333333,
              "#9c179e"
             ],
             [
              0.4444444444444444,
              "#bd3786"
             ],
             [
              0.5555555555555556,
              "#d8576b"
             ],
             [
              0.6666666666666666,
              "#ed7953"
             ],
             [
              0.7777777777777778,
              "#fb9f3a"
             ],
             [
              0.8888888888888888,
              "#fdca26"
             ],
             [
              1,
              "#f0f921"
             ]
            ],
            "type": "contour"
           }
          ],
          "contourcarpet": [
           {
            "colorbar": {
             "outlinewidth": 0,
             "ticks": ""
            },
            "type": "contourcarpet"
           }
          ],
          "heatmap": [
           {
            "colorbar": {
             "outlinewidth": 0,
             "ticks": ""
            },
            "colorscale": [
             [
              0,
              "#0d0887"
             ],
             [
              0.1111111111111111,
              "#46039f"
             ],
             [
              0.2222222222222222,
              "#7201a8"
             ],
             [
              0.3333333333333333,
              "#9c179e"
             ],
             [
              0.4444444444444444,
              "#bd3786"
             ],
             [
              0.5555555555555556,
              "#d8576b"
             ],
             [
              0.6666666666666666,
              "#ed7953"
             ],
             [
              0.7777777777777778,
              "#fb9f3a"
             ],
             [
              0.8888888888888888,
              "#fdca26"
             ],
             [
              1,
              "#f0f921"
             ]
            ],
            "type": "heatmap"
           }
          ],
          "heatmapgl": [
           {
            "colorbar": {
             "outlinewidth": 0,
             "ticks": ""
            },
            "colorscale": [
             [
              0,
              "#0d0887"
             ],
             [
              0.1111111111111111,
              "#46039f"
             ],
             [
              0.2222222222222222,
              "#7201a8"
             ],
             [
              0.3333333333333333,
              "#9c179e"
             ],
             [
              0.4444444444444444,
              "#bd3786"
             ],
             [
              0.5555555555555556,
              "#d8576b"
             ],
             [
              0.6666666666666666,
              "#ed7953"
             ],
             [
              0.7777777777777778,
              "#fb9f3a"
             ],
             [
              0.8888888888888888,
              "#fdca26"
             ],
             [
              1,
              "#f0f921"
             ]
            ],
            "type": "heatmapgl"
           }
          ],
          "histogram": [
           {
            "marker": {
             "colorbar": {
              "outlinewidth": 0,
              "ticks": ""
             }
            },
            "type": "histogram"
           }
          ],
          "histogram2d": [
           {
            "colorbar": {
             "outlinewidth": 0,
             "ticks": ""
            },
            "colorscale": [
             [
              0,
              "#0d0887"
             ],
             [
              0.1111111111111111,
              "#46039f"
             ],
             [
              0.2222222222222222,
              "#7201a8"
             ],
             [
              0.3333333333333333,
              "#9c179e"
             ],
             [
              0.4444444444444444,
              "#bd3786"
             ],
             [
              0.5555555555555556,
              "#d8576b"
             ],
             [
              0.6666666666666666,
              "#ed7953"
             ],
             [
              0.7777777777777778,
              "#fb9f3a"
             ],
             [
              0.8888888888888888,
              "#fdca26"
             ],
             [
              1,
              "#f0f921"
             ]
            ],
            "type": "histogram2d"
           }
          ],
          "histogram2dcontour": [
           {
            "colorbar": {
             "outlinewidth": 0,
             "ticks": ""
            },
            "colorscale": [
             [
              0,
              "#0d0887"
             ],
             [
              0.1111111111111111,
              "#46039f"
             ],
             [
              0.2222222222222222,
              "#7201a8"
             ],
             [
              0.3333333333333333,
              "#9c179e"
             ],
             [
              0.4444444444444444,
              "#bd3786"
             ],
             [
              0.5555555555555556,
              "#d8576b"
             ],
             [
              0.6666666666666666,
              "#ed7953"
             ],
             [
              0.7777777777777778,
              "#fb9f3a"
             ],
             [
              0.8888888888888888,
              "#fdca26"
             ],
             [
              1,
              "#f0f921"
             ]
            ],
            "type": "histogram2dcontour"
           }
          ],
          "mesh3d": [
           {
            "colorbar": {
             "outlinewidth": 0,
             "ticks": ""
            },
            "type": "mesh3d"
           }
          ],
          "parcoords": [
           {
            "line": {
             "colorbar": {
              "outlinewidth": 0,
              "ticks": ""
             }
            },
            "type": "parcoords"
           }
          ],
          "pie": [
           {
            "automargin": true,
            "type": "pie"
           }
          ],
          "scatter": [
           {
            "marker": {
             "colorbar": {
              "outlinewidth": 0,
              "ticks": ""
             }
            },
            "type": "scatter"
           }
          ],
          "scatter3d": [
           {
            "line": {
             "colorbar": {
              "outlinewidth": 0,
              "ticks": ""
             }
            },
            "marker": {
             "colorbar": {
              "outlinewidth": 0,
              "ticks": ""
             }
            },
            "type": "scatter3d"
           }
          ],
          "scattercarpet": [
           {
            "marker": {
             "colorbar": {
              "outlinewidth": 0,
              "ticks": ""
             }
            },
            "type": "scattercarpet"
           }
          ],
          "scattergeo": [
           {
            "marker": {
             "colorbar": {
              "outlinewidth": 0,
              "ticks": ""
             }
            },
            "type": "scattergeo"
           }
          ],
          "scattergl": [
           {
            "marker": {
             "colorbar": {
              "outlinewidth": 0,
              "ticks": ""
             }
            },
            "type": "scattergl"
           }
          ],
          "scattermapbox": [
           {
            "marker": {
             "colorbar": {
              "outlinewidth": 0,
              "ticks": ""
             }
            },
            "type": "scattermapbox"
           }
          ],
          "scatterpolar": [
           {
            "marker": {
             "colorbar": {
              "outlinewidth": 0,
              "ticks": ""
             }
            },
            "type": "scatterpolar"
           }
          ],
          "scatterpolargl": [
           {
            "marker": {
             "colorbar": {
              "outlinewidth": 0,
              "ticks": ""
             }
            },
            "type": "scatterpolargl"
           }
          ],
          "scatterternary": [
           {
            "marker": {
             "colorbar": {
              "outlinewidth": 0,
              "ticks": ""
             }
            },
            "type": "scatterternary"
           }
          ],
          "surface": [
           {
            "colorbar": {
             "outlinewidth": 0,
             "ticks": ""
            },
            "colorscale": [
             [
              0,
              "#0d0887"
             ],
             [
              0.1111111111111111,
              "#46039f"
             ],
             [
              0.2222222222222222,
              "#7201a8"
             ],
             [
              0.3333333333333333,
              "#9c179e"
             ],
             [
              0.4444444444444444,
              "#bd3786"
             ],
             [
              0.5555555555555556,
              "#d8576b"
             ],
             [
              0.6666666666666666,
              "#ed7953"
             ],
             [
              0.7777777777777778,
              "#fb9f3a"
             ],
             [
              0.8888888888888888,
              "#fdca26"
             ],
             [
              1,
              "#f0f921"
             ]
            ],
            "type": "surface"
           }
          ],
          "table": [
           {
            "cells": {
             "fill": {
              "color": "#EBF0F8"
             },
             "line": {
              "color": "white"
             }
            },
            "header": {
             "fill": {
              "color": "#C8D4E3"
             },
             "line": {
              "color": "white"
             }
            },
            "type": "table"
           }
          ]
         },
         "layout": {
          "annotationdefaults": {
           "arrowcolor": "#2a3f5f",
           "arrowhead": 0,
           "arrowwidth": 1
          },
          "coloraxis": {
           "colorbar": {
            "outlinewidth": 0,
            "ticks": ""
           }
          },
          "colorscale": {
           "diverging": [
            [
             0,
             "#8e0152"
            ],
            [
             0.1,
             "#c51b7d"
            ],
            [
             0.2,
             "#de77ae"
            ],
            [
             0.3,
             "#f1b6da"
            ],
            [
             0.4,
             "#fde0ef"
            ],
            [
             0.5,
             "#f7f7f7"
            ],
            [
             0.6,
             "#e6f5d0"
            ],
            [
             0.7,
             "#b8e186"
            ],
            [
             0.8,
             "#7fbc41"
            ],
            [
             0.9,
             "#4d9221"
            ],
            [
             1,
             "#276419"
            ]
           ],
           "sequential": [
            [
             0,
             "#0d0887"
            ],
            [
             0.1111111111111111,
             "#46039f"
            ],
            [
             0.2222222222222222,
             "#7201a8"
            ],
            [
             0.3333333333333333,
             "#9c179e"
            ],
            [
             0.4444444444444444,
             "#bd3786"
            ],
            [
             0.5555555555555556,
             "#d8576b"
            ],
            [
             0.6666666666666666,
             "#ed7953"
            ],
            [
             0.7777777777777778,
             "#fb9f3a"
            ],
            [
             0.8888888888888888,
             "#fdca26"
            ],
            [
             1,
             "#f0f921"
            ]
           ],
           "sequentialminus": [
            [
             0,
             "#0d0887"
            ],
            [
             0.1111111111111111,
             "#46039f"
            ],
            [
             0.2222222222222222,
             "#7201a8"
            ],
            [
             0.3333333333333333,
             "#9c179e"
            ],
            [
             0.4444444444444444,
             "#bd3786"
            ],
            [
             0.5555555555555556,
             "#d8576b"
            ],
            [
             0.6666666666666666,
             "#ed7953"
            ],
            [
             0.7777777777777778,
             "#fb9f3a"
            ],
            [
             0.8888888888888888,
             "#fdca26"
            ],
            [
             1,
             "#f0f921"
            ]
           ]
          },
          "colorway": [
           "#636efa",
           "#EF553B",
           "#00cc96",
           "#ab63fa",
           "#FFA15A",
           "#19d3f3",
           "#FF6692",
           "#B6E880",
           "#FF97FF",
           "#FECB52"
          ],
          "font": {
           "color": "#2a3f5f"
          },
          "geo": {
           "bgcolor": "white",
           "lakecolor": "white",
           "landcolor": "#E5ECF6",
           "showlakes": true,
           "showland": true,
           "subunitcolor": "white"
          },
          "hoverlabel": {
           "align": "left"
          },
          "hovermode": "closest",
          "mapbox": {
           "style": "light"
          },
          "paper_bgcolor": "white",
          "plot_bgcolor": "#E5ECF6",
          "polar": {
           "angularaxis": {
            "gridcolor": "white",
            "linecolor": "white",
            "ticks": ""
           },
           "bgcolor": "#E5ECF6",
           "radialaxis": {
            "gridcolor": "white",
            "linecolor": "white",
            "ticks": ""
           }
          },
          "scene": {
           "xaxis": {
            "backgroundcolor": "#E5ECF6",
            "gridcolor": "white",
            "gridwidth": 2,
            "linecolor": "white",
            "showbackground": true,
            "ticks": "",
            "zerolinecolor": "white"
           },
           "yaxis": {
            "backgroundcolor": "#E5ECF6",
            "gridcolor": "white",
            "gridwidth": 2,
            "linecolor": "white",
            "showbackground": true,
            "ticks": "",
            "zerolinecolor": "white"
           },
           "zaxis": {
            "backgroundcolor": "#E5ECF6",
            "gridcolor": "white",
            "gridwidth": 2,
            "linecolor": "white",
            "showbackground": true,
            "ticks": "",
            "zerolinecolor": "white"
           }
          },
          "shapedefaults": {
           "line": {
            "color": "#2a3f5f"
           }
          },
          "ternary": {
           "aaxis": {
            "gridcolor": "white",
            "linecolor": "white",
            "ticks": ""
           },
           "baxis": {
            "gridcolor": "white",
            "linecolor": "white",
            "ticks": ""
           },
           "bgcolor": "#E5ECF6",
           "caxis": {
            "gridcolor": "white",
            "linecolor": "white",
            "ticks": ""
           }
          },
          "title": {
           "x": 0.05
          },
          "xaxis": {
           "automargin": true,
           "gridcolor": "white",
           "linecolor": "white",
           "ticks": "",
           "title": {
            "standoff": 15
           },
           "zerolinecolor": "white",
           "zerolinewidth": 2
          },
          "yaxis": {
           "automargin": true,
           "gridcolor": "white",
           "linecolor": "white",
           "ticks": "",
           "title": {
            "standoff": 15
           },
           "zerolinecolor": "white",
           "zerolinewidth": 2
          }
         }
        },
        "title": {
         "text": ""
        },
        "xaxis": {
         "title": {
          "text": "Carbon emissions [tCO2eq/a]"
         }
        },
        "yaxis": {
         "title": {
          "text": "Costs [Thousand €/a]"
         }
        }
       }
      },
      "text/html": [
       "<div>\n",
       "        \n",
       "        \n",
       "            <div id=\"a318176e-6b5c-4252-aabe-0e54e92ca3d8\" class=\"plotly-graph-div\" style=\"height:525px; width:100%;\"></div>\n",
       "            <script type=\"text/javascript\">\n",
       "                require([\"plotly\"], function(Plotly) {\n",
       "                    window.PLOTLYENV=window.PLOTLYENV || {};\n",
       "                    \n",
       "                if (document.getElementById(\"a318176e-6b5c-4252-aabe-0e54e92ca3d8\")) {\n",
       "                    Plotly.newPlot(\n",
       "                        'a318176e-6b5c-4252-aabe-0e54e92ca3d8',\n",
       "                        [{\"hovertext\": [\"<b>Id:</b> REF<br><b>Name:</b> REF<br><b>Doc:</b> no BES<br><b>Cost savings:</b> 0.00 \\u20ac/a (0.000%)<br><b>Emission savings:</b> 0.00 gCO2eq/a (0.000%)\"], \"marker\": {\"color\": \"#606269\", \"showscale\": false, \"size\": 12}, \"mode\": \"lines+markers\", \"name\": \"REF\", \"textposition\": \"bottom center\", \"type\": \"scatter\", \"x\": [231.57006433649323], \"y\": [71.99359343899229]}, {\"hovertext\": [\"<b>Id:</b> sc9<br><b>Name:</b> tc_el_FLAT_T_b1000_a0.0<br><b>Doc:</b> c_el_T=c_el_FLAT_T; E_BES_CAPx_=1000; alpha_=0.0<br><b>Cost savings:</b> 1.83 Thousand \\u20ac/a (2.539%)<br><b>Emission savings:</b> 1.05 tCO2eq/a (0.452%)\", \"<b>Id:</b> sc10<br><b>Name:</b> tc_el_FLAT_T_b1000_a0.3333333333333333<br><b>Doc:</b> c_el_T=c_el_FLAT_T; E_BES_CAPx_=1000; alpha_=0.3333333333333333<br><b>Cost savings:</b> 671.61 \\u20ac/a (0.933%)<br><b>Emission savings:</b> 25.53 tCO2eq/a (11.025%)\", \"<b>Id:</b> sc11<br><b>Name:</b> tc_el_FLAT_T_b1000_a0.6666666666666666<br><b>Doc:</b> c_el_T=c_el_FLAT_T; E_BES_CAPx_=1000; alpha_=0.6666666666666666<br><b>Cost savings:</b> -2.97 Thousand \\u20ac/a (-4.125%)<br><b>Emission savings:</b> 37.52 tCO2eq/a (16.201%)\", \"<b>Id:</b> sc12<br><b>Name:</b> tc_el_FLAT_T_b1000_a1.0<br><b>Doc:</b> c_el_T=c_el_FLAT_T; E_BES_CAPx_=1000; alpha_=1.0<br><b>Cost savings:</b> -49.09 Thousand \\u20ac/a (-68.188%)<br><b>Emission savings:</b> 41.11 tCO2eq/a (17.752%)\"], \"marker\": {\"color\": \"#F26535\", \"showscale\": false, \"size\": 12}, \"mode\": \"lines+markers\", \"name\": \"FLAT\", \"textposition\": \"bottom center\", \"type\": \"scatter\", \"x\": [230.5233972964426, 206.04050753102035, 194.05258055030993, 190.46282482255023], \"y\": [70.16561008439388, 71.32198674045779, 74.96325815799075, 121.08474107913092]}, {\"hovertext\": [\"<b>Id:</b> sc5<br><b>Name:</b> tc_el_TOU_T_b1000_a0.0<br><b>Doc:</b> c_el_T=c_el_TOU_T; E_BES_CAPx_=1000; alpha_=0.0<br><b>Cost savings:</b> 2.43 Thousand \\u20ac/a (3.380%)<br><b>Emission savings:</b> 2.55 tCO2eq/a (1.100%)\", \"<b>Id:</b> sc6<br><b>Name:</b> tc_el_TOU_T_b1000_a0.3333333333333333<br><b>Doc:</b> c_el_T=c_el_TOU_T; E_BES_CAPx_=1000; alpha_=0.3333333333333333<br><b>Cost savings:</b> 1.04 Thousand \\u20ac/a (1.446%)<br><b>Emission savings:</b> 23.92 tCO2eq/a (10.330%)\", \"<b>Id:</b> sc7<br><b>Name:</b> tc_el_TOU_T_b1000_a0.6666666666666666<br><b>Doc:</b> c_el_T=c_el_TOU_T; E_BES_CAPx_=1000; alpha_=0.6666666666666666<br><b>Cost savings:</b> -3.04 Thousand \\u20ac/a (-4.218%)<br><b>Emission savings:</b> 37.13 tCO2eq/a (16.034%)\", \"<b>Id:</b> sc8<br><b>Name:</b> tc_el_TOU_T_b1000_a1.0<br><b>Doc:</b> c_el_T=c_el_TOU_T; E_BES_CAPx_=1000; alpha_=1.0<br><b>Cost savings:</b> -49.74 Thousand \\u20ac/a (-69.095%)<br><b>Emission savings:</b> 41.11 tCO2eq/a (17.752%)\"], \"marker\": {\"color\": \"#FCC706\", \"showscale\": false, \"size\": 12}, \"mode\": \"lines+markers\", \"name\": \"TOU\", \"textposition\": \"bottom center\", \"type\": \"scatter\", \"x\": [229.02311896216096, 207.64895882672093, 194.43916640937925, 190.46282482255023], \"y\": [69.56024882429762, 70.95249796860084, 75.02997665812782, 121.7376381971148]}, {\"hovertext\": [\"<b>Id:</b> sc1<br><b>Name:</b> tc_el_RTP_T_b1000_a0.0<br><b>Doc:</b> c_el_T=c_el_RTP_T; E_BES_CAPx_=1000; alpha_=0.0<br><b>Cost savings:</b> 2.98 Thousand \\u20ac/a (4.142%)<br><b>Emission savings:</b> 17.42 tCO2eq/a (7.524%)\", \"<b>Id:</b> sc2<br><b>Name:</b> tc_el_RTP_T_b1000_a0.3333333333333333<br><b>Doc:</b> c_el_T=c_el_RTP_T; E_BES_CAPx_=1000; alpha_=0.3333333333333333<br><b>Cost savings:</b> 2.22 Thousand \\u20ac/a (3.080%)<br><b>Emission savings:</b> 29.80 tCO2eq/a (12.867%)\", \"<b>Id:</b> sc3<br><b>Name:</b> tc_el_RTP_T_b1000_a0.6666666666666666<br><b>Doc:</b> c_el_T=c_el_RTP_T; E_BES_CAPx_=1000; alpha_=0.6666666666666666<br><b>Cost savings:</b> -336.24 \\u20ac/a (-0.467%)<br><b>Emission savings:</b> 37.85 tCO2eq/a (16.343%)\", \"<b>Id:</b> sc4<br><b>Name:</b> tc_el_RTP_T_b1000_a1.0<br><b>Doc:</b> c_el_T=c_el_RTP_T; E_BES_CAPx_=1000; alpha_=1.0<br><b>Cost savings:</b> -46.44 Thousand \\u20ac/a (-64.503%)<br><b>Emission savings:</b> 41.11 tCO2eq/a (17.752%)\"], \"marker\": {\"color\": \"#9BAF65\", \"showscale\": false, \"size\": 12}, \"mode\": \"lines+markers\", \"name\": \"RTP\", \"textposition\": \"bottom center\", \"type\": \"scatter\", \"x\": [214.1471073605958, 201.7749076882506, 193.72410012771726, 190.46282482255023], \"y\": [69.01190871129792, 69.77639482164778, 72.32983832511019, 118.43162545130377]}],\n",
       "                        {\"hovermode\": \"closest\", \"template\": {\"data\": {\"bar\": [{\"error_x\": {\"color\": \"#2a3f5f\"}, \"error_y\": {\"color\": \"#2a3f5f\"}, \"marker\": {\"line\": {\"color\": \"#E5ECF6\", \"width\": 0.5}}, \"type\": \"bar\"}], \"barpolar\": [{\"marker\": {\"line\": {\"color\": \"#E5ECF6\", \"width\": 0.5}}, \"type\": \"barpolar\"}], \"carpet\": [{\"aaxis\": {\"endlinecolor\": \"#2a3f5f\", \"gridcolor\": \"white\", \"linecolor\": \"white\", \"minorgridcolor\": \"white\", \"startlinecolor\": \"#2a3f5f\"}, \"baxis\": {\"endlinecolor\": \"#2a3f5f\", \"gridcolor\": \"white\", \"linecolor\": \"white\", \"minorgridcolor\": \"white\", \"startlinecolor\": \"#2a3f5f\"}, \"type\": \"carpet\"}], \"choropleth\": [{\"colorbar\": {\"outlinewidth\": 0, \"ticks\": \"\"}, \"type\": \"choropleth\"}], \"contour\": [{\"colorbar\": {\"outlinewidth\": 0, \"ticks\": \"\"}, \"colorscale\": [[0.0, \"#0d0887\"], [0.1111111111111111, \"#46039f\"], [0.2222222222222222, \"#7201a8\"], [0.3333333333333333, \"#9c179e\"], [0.4444444444444444, \"#bd3786\"], [0.5555555555555556, \"#d8576b\"], [0.6666666666666666, \"#ed7953\"], [0.7777777777777778, \"#fb9f3a\"], [0.8888888888888888, \"#fdca26\"], [1.0, \"#f0f921\"]], \"type\": \"contour\"}], \"contourcarpet\": [{\"colorbar\": {\"outlinewidth\": 0, \"ticks\": \"\"}, \"type\": \"contourcarpet\"}], \"heatmap\": [{\"colorbar\": {\"outlinewidth\": 0, \"ticks\": \"\"}, \"colorscale\": [[0.0, \"#0d0887\"], [0.1111111111111111, \"#46039f\"], [0.2222222222222222, \"#7201a8\"], [0.3333333333333333, \"#9c179e\"], [0.4444444444444444, \"#bd3786\"], [0.5555555555555556, \"#d8576b\"], [0.6666666666666666, \"#ed7953\"], [0.7777777777777778, \"#fb9f3a\"], [0.8888888888888888, \"#fdca26\"], [1.0, \"#f0f921\"]], \"type\": \"heatmap\"}], \"heatmapgl\": [{\"colorbar\": {\"outlinewidth\": 0, \"ticks\": \"\"}, \"colorscale\": [[0.0, \"#0d0887\"], [0.1111111111111111, \"#46039f\"], [0.2222222222222222, \"#7201a8\"], [0.3333333333333333, \"#9c179e\"], [0.4444444444444444, \"#bd3786\"], [0.5555555555555556, \"#d8576b\"], [0.6666666666666666, \"#ed7953\"], [0.7777777777777778, \"#fb9f3a\"], [0.8888888888888888, \"#fdca26\"], [1.0, \"#f0f921\"]], \"type\": \"heatmapgl\"}], \"histogram\": [{\"marker\": {\"colorbar\": {\"outlinewidth\": 0, \"ticks\": \"\"}}, \"type\": \"histogram\"}], \"histogram2d\": [{\"colorbar\": {\"outlinewidth\": 0, \"ticks\": \"\"}, \"colorscale\": [[0.0, \"#0d0887\"], [0.1111111111111111, \"#46039f\"], [0.2222222222222222, \"#7201a8\"], [0.3333333333333333, \"#9c179e\"], [0.4444444444444444, \"#bd3786\"], [0.5555555555555556, \"#d8576b\"], [0.6666666666666666, \"#ed7953\"], [0.7777777777777778, \"#fb9f3a\"], [0.8888888888888888, \"#fdca26\"], [1.0, \"#f0f921\"]], \"type\": \"histogram2d\"}], \"histogram2dcontour\": [{\"colorbar\": {\"outlinewidth\": 0, \"ticks\": \"\"}, \"colorscale\": [[0.0, \"#0d0887\"], [0.1111111111111111, \"#46039f\"], [0.2222222222222222, \"#7201a8\"], [0.3333333333333333, \"#9c179e\"], [0.4444444444444444, \"#bd3786\"], [0.5555555555555556, \"#d8576b\"], [0.6666666666666666, \"#ed7953\"], [0.7777777777777778, \"#fb9f3a\"], [0.8888888888888888, \"#fdca26\"], [1.0, \"#f0f921\"]], \"type\": \"histogram2dcontour\"}], \"mesh3d\": [{\"colorbar\": {\"outlinewidth\": 0, \"ticks\": \"\"}, \"type\": \"mesh3d\"}], \"parcoords\": [{\"line\": {\"colorbar\": {\"outlinewidth\": 0, \"ticks\": \"\"}}, \"type\": \"parcoords\"}], \"pie\": [{\"automargin\": true, \"type\": \"pie\"}], \"scatter\": [{\"marker\": {\"colorbar\": {\"outlinewidth\": 0, \"ticks\": \"\"}}, \"type\": \"scatter\"}], \"scatter3d\": [{\"line\": {\"colorbar\": {\"outlinewidth\": 0, \"ticks\": \"\"}}, \"marker\": {\"colorbar\": {\"outlinewidth\": 0, \"ticks\": \"\"}}, \"type\": \"scatter3d\"}], \"scattercarpet\": [{\"marker\": {\"colorbar\": {\"outlinewidth\": 0, \"ticks\": \"\"}}, \"type\": \"scattercarpet\"}], \"scattergeo\": [{\"marker\": {\"colorbar\": {\"outlinewidth\": 0, \"ticks\": \"\"}}, \"type\": \"scattergeo\"}], \"scattergl\": [{\"marker\": {\"colorbar\": {\"outlinewidth\": 0, \"ticks\": \"\"}}, \"type\": \"scattergl\"}], \"scattermapbox\": [{\"marker\": {\"colorbar\": {\"outlinewidth\": 0, \"ticks\": \"\"}}, \"type\": \"scattermapbox\"}], \"scatterpolar\": [{\"marker\": {\"colorbar\": {\"outlinewidth\": 0, \"ticks\": \"\"}}, \"type\": \"scatterpolar\"}], \"scatterpolargl\": [{\"marker\": {\"colorbar\": {\"outlinewidth\": 0, \"ticks\": \"\"}}, \"type\": \"scatterpolargl\"}], \"scatterternary\": [{\"marker\": {\"colorbar\": {\"outlinewidth\": 0, \"ticks\": \"\"}}, \"type\": \"scatterternary\"}], \"surface\": [{\"colorbar\": {\"outlinewidth\": 0, \"ticks\": \"\"}, \"colorscale\": [[0.0, \"#0d0887\"], [0.1111111111111111, \"#46039f\"], [0.2222222222222222, \"#7201a8\"], [0.3333333333333333, \"#9c179e\"], [0.4444444444444444, \"#bd3786\"], [0.5555555555555556, \"#d8576b\"], [0.6666666666666666, \"#ed7953\"], [0.7777777777777778, \"#fb9f3a\"], [0.8888888888888888, \"#fdca26\"], [1.0, \"#f0f921\"]], \"type\": \"surface\"}], \"table\": [{\"cells\": {\"fill\": {\"color\": \"#EBF0F8\"}, \"line\": {\"color\": \"white\"}}, \"header\": {\"fill\": {\"color\": \"#C8D4E3\"}, \"line\": {\"color\": \"white\"}}, \"type\": \"table\"}]}, \"layout\": {\"annotationdefaults\": {\"arrowcolor\": \"#2a3f5f\", \"arrowhead\": 0, \"arrowwidth\": 1}, \"coloraxis\": {\"colorbar\": {\"outlinewidth\": 0, \"ticks\": \"\"}}, \"colorscale\": {\"diverging\": [[0, \"#8e0152\"], [0.1, \"#c51b7d\"], [0.2, \"#de77ae\"], [0.3, \"#f1b6da\"], [0.4, \"#fde0ef\"], [0.5, \"#f7f7f7\"], [0.6, \"#e6f5d0\"], [0.7, \"#b8e186\"], [0.8, \"#7fbc41\"], [0.9, \"#4d9221\"], [1, \"#276419\"]], \"sequential\": [[0.0, \"#0d0887\"], [0.1111111111111111, \"#46039f\"], [0.2222222222222222, \"#7201a8\"], [0.3333333333333333, \"#9c179e\"], [0.4444444444444444, \"#bd3786\"], [0.5555555555555556, \"#d8576b\"], [0.6666666666666666, \"#ed7953\"], [0.7777777777777778, \"#fb9f3a\"], [0.8888888888888888, \"#fdca26\"], [1.0, \"#f0f921\"]], \"sequentialminus\": [[0.0, \"#0d0887\"], [0.1111111111111111, \"#46039f\"], [0.2222222222222222, \"#7201a8\"], [0.3333333333333333, \"#9c179e\"], [0.4444444444444444, \"#bd3786\"], [0.5555555555555556, \"#d8576b\"], [0.6666666666666666, \"#ed7953\"], [0.7777777777777778, \"#fb9f3a\"], [0.8888888888888888, \"#fdca26\"], [1.0, \"#f0f921\"]]}, \"colorway\": [\"#636efa\", \"#EF553B\", \"#00cc96\", \"#ab63fa\", \"#FFA15A\", \"#19d3f3\", \"#FF6692\", \"#B6E880\", \"#FF97FF\", \"#FECB52\"], \"font\": {\"color\": \"#2a3f5f\"}, \"geo\": {\"bgcolor\": \"white\", \"lakecolor\": \"white\", \"landcolor\": \"#E5ECF6\", \"showlakes\": true, \"showland\": true, \"subunitcolor\": \"white\"}, \"hoverlabel\": {\"align\": \"left\"}, \"hovermode\": \"closest\", \"mapbox\": {\"style\": \"light\"}, \"paper_bgcolor\": \"white\", \"plot_bgcolor\": \"#E5ECF6\", \"polar\": {\"angularaxis\": {\"gridcolor\": \"white\", \"linecolor\": \"white\", \"ticks\": \"\"}, \"bgcolor\": \"#E5ECF6\", \"radialaxis\": {\"gridcolor\": \"white\", \"linecolor\": \"white\", \"ticks\": \"\"}}, \"scene\": {\"xaxis\": {\"backgroundcolor\": \"#E5ECF6\", \"gridcolor\": \"white\", \"gridwidth\": 2, \"linecolor\": \"white\", \"showbackground\": true, \"ticks\": \"\", \"zerolinecolor\": \"white\"}, \"yaxis\": {\"backgroundcolor\": \"#E5ECF6\", \"gridcolor\": \"white\", \"gridwidth\": 2, \"linecolor\": \"white\", \"showbackground\": true, \"ticks\": \"\", \"zerolinecolor\": \"white\"}, \"zaxis\": {\"backgroundcolor\": \"#E5ECF6\", \"gridcolor\": \"white\", \"gridwidth\": 2, \"linecolor\": \"white\", \"showbackground\": true, \"ticks\": \"\", \"zerolinecolor\": \"white\"}}, \"shapedefaults\": {\"line\": {\"color\": \"#2a3f5f\"}}, \"ternary\": {\"aaxis\": {\"gridcolor\": \"white\", \"linecolor\": \"white\", \"ticks\": \"\"}, \"baxis\": {\"gridcolor\": \"white\", \"linecolor\": \"white\", \"ticks\": \"\"}, \"bgcolor\": \"#E5ECF6\", \"caxis\": {\"gridcolor\": \"white\", \"linecolor\": \"white\", \"ticks\": \"\"}}, \"title\": {\"x\": 0.05}, \"xaxis\": {\"automargin\": true, \"gridcolor\": \"white\", \"linecolor\": \"white\", \"ticks\": \"\", \"title\": {\"standoff\": 15}, \"zerolinecolor\": \"white\", \"zerolinewidth\": 2}, \"yaxis\": {\"automargin\": true, \"gridcolor\": \"white\", \"linecolor\": \"white\", \"ticks\": \"\", \"title\": {\"standoff\": 15}, \"zerolinecolor\": \"white\", \"zerolinewidth\": 2}}}, \"title\": {\"text\": \"\"}, \"xaxis\": {\"title\": {\"text\": \"Carbon emissions [tCO2eq/a]\"}}, \"yaxis\": {\"title\": {\"text\": \"Costs [Thousand \\u20ac/a]\"}}},\n",
       "                        {\"responsive\": true}\n",
       "                    ).then(function(){\n",
       "                            \n",
       "var gd = document.getElementById('a318176e-6b5c-4252-aabe-0e54e92ca3d8');\n",
       "var x = new MutationObserver(function (mutations, observer) {{\n",
       "        var display = window.getComputedStyle(gd).display;\n",
       "        if (!display || display === 'none') {{\n",
       "            console.log([gd, 'removed!']);\n",
       "            Plotly.purge(gd);\n",
       "            observer.disconnect();\n",
       "        }}\n",
       "}});\n",
       "\n",
       "// Listen for the removal of the full notebook cells\n",
       "var notebookContainer = gd.closest('#notebook-container');\n",
       "if (notebookContainer) {{\n",
       "    x.observe(notebookContainer, {childList: true});\n",
       "}}\n",
       "\n",
       "// Listen for the clearing of the current output cell\n",
       "var outputEl = gd.closest('.output');\n",
       "if (outputEl) {{\n",
       "    x.observe(outputEl, {childList: true});\n",
       "}}\n",
       "\n",
       "                        })\n",
       "                };\n",
       "                });\n",
       "            </script>\n",
       "        </div>"
      ]
     },
     "metadata": {},
     "output_type": "display_data"
    }
   ],
   "source": [
    "cs.plot.pareto2(\n",
    "    c_dict=dict(REF=\"#606269\", FLAT=\"#F26535\", TOU=\"#FCC706\", RTP=\"#9BAF65\"))"
   ]
  },
  {
   "cell_type": "code",
   "execution_count": 89,
   "metadata": {
    "ExecuteTime": {
     "end_time": "2019-12-02T17:19:35.291368Z",
     "start_time": "2019-12-02T17:19:34.978206Z"
    },
    "slideshow": {
     "slide_type": "subslide"
    }
   },
   "outputs": [
    {
     "data": {
      "text/html": [
       "        <script type=\"text/javascript\">\n",
       "        window.PlotlyConfig = {MathJaxConfig: 'local'};\n",
       "        if (window.MathJax) {MathJax.Hub.Config({SVG: {font: \"STIX-Web\"}});}\n",
       "        if (typeof require !== 'undefined') {\n",
       "        require.undef(\"plotly\");\n",
       "        requirejs.config({\n",
       "            paths: {\n",
       "                'plotly': ['https://cdn.plot.ly/plotly-latest.min']\n",
       "            }\n",
       "        });\n",
       "        require(['plotly'], function(Plotly) {\n",
       "            window._Plotly = Plotly;\n",
       "        });\n",
       "        }\n",
       "        </script>\n",
       "        "
      ]
     },
     "metadata": {},
     "output_type": "display_data"
    },
    {
     "data": {
      "application/vnd.plotly.v1+json": {
       "config": {
        "linkText": "Export to plot.ly",
        "plotlyServerURL": "https://plot.ly",
        "showLink": false
       },
       "data": [
        {
         "link": {
          "color": [
           "hsla(120, 50%, 70%, 0.7)",
           "hsla(120, 50%, 70%, 0.7)",
           "hsla(120, 50%, 70%, 0.7)",
           "hsla(120, 50%, 70%, 0.7)",
           "hsla(120, 50%, 70%, 0.7)",
           "hsla(120, 50%, 70%, 0.7)"
          ],
          "source": [
           3,
           1,
           1,
           5,
           0,
           5
          ],
          "target": [
           5,
           5,
           2,
           0,
           4,
           4
          ],
          "value": [
           408.34263267551677,
           94.15523099261301,
           0,
           152.07521289381197,
           149.57734922568213,
           347.9247871061881
          ]
         },
         "node": {
          "color": "hsla(0, 0%, 0%, 0.5)",
          "label": [
           "BES",
           "PV",
           "SELL_el",
           "PUR",
           "DEM_el",
           "EL"
          ],
          "line": {
           "color": "white",
           "width": 0
          },
          "pad": 15,
          "thickness": 10
         },
         "orientation": "h",
         "type": "sankey",
         "valueformat": ".2f",
         "valuesuffix": "MWh"
        }
       ],
       "layout": {
        "font": {
         "size": 15
        },
        "template": {
         "data": {
          "bar": [
           {
            "error_x": {
             "color": "#2a3f5f"
            },
            "error_y": {
             "color": "#2a3f5f"
            },
            "marker": {
             "line": {
              "color": "#E5ECF6",
              "width": 0.5
             }
            },
            "type": "bar"
           }
          ],
          "barpolar": [
           {
            "marker": {
             "line": {
              "color": "#E5ECF6",
              "width": 0.5
             }
            },
            "type": "barpolar"
           }
          ],
          "carpet": [
           {
            "aaxis": {
             "endlinecolor": "#2a3f5f",
             "gridcolor": "white",
             "linecolor": "white",
             "minorgridcolor": "white",
             "startlinecolor": "#2a3f5f"
            },
            "baxis": {
             "endlinecolor": "#2a3f5f",
             "gridcolor": "white",
             "linecolor": "white",
             "minorgridcolor": "white",
             "startlinecolor": "#2a3f5f"
            },
            "type": "carpet"
           }
          ],
          "choropleth": [
           {
            "colorbar": {
             "outlinewidth": 0,
             "ticks": ""
            },
            "type": "choropleth"
           }
          ],
          "contour": [
           {
            "colorbar": {
             "outlinewidth": 0,
             "ticks": ""
            },
            "colorscale": [
             [
              0,
              "#0d0887"
             ],
             [
              0.1111111111111111,
              "#46039f"
             ],
             [
              0.2222222222222222,
              "#7201a8"
             ],
             [
              0.3333333333333333,
              "#9c179e"
             ],
             [
              0.4444444444444444,
              "#bd3786"
             ],
             [
              0.5555555555555556,
              "#d8576b"
             ],
             [
              0.6666666666666666,
              "#ed7953"
             ],
             [
              0.7777777777777778,
              "#fb9f3a"
             ],
             [
              0.8888888888888888,
              "#fdca26"
             ],
             [
              1,
              "#f0f921"
             ]
            ],
            "type": "contour"
           }
          ],
          "contourcarpet": [
           {
            "colorbar": {
             "outlinewidth": 0,
             "ticks": ""
            },
            "type": "contourcarpet"
           }
          ],
          "heatmap": [
           {
            "colorbar": {
             "outlinewidth": 0,
             "ticks": ""
            },
            "colorscale": [
             [
              0,
              "#0d0887"
             ],
             [
              0.1111111111111111,
              "#46039f"
             ],
             [
              0.2222222222222222,
              "#7201a8"
             ],
             [
              0.3333333333333333,
              "#9c179e"
             ],
             [
              0.4444444444444444,
              "#bd3786"
             ],
             [
              0.5555555555555556,
              "#d8576b"
             ],
             [
              0.6666666666666666,
              "#ed7953"
             ],
             [
              0.7777777777777778,
              "#fb9f3a"
             ],
             [
              0.8888888888888888,
              "#fdca26"
             ],
             [
              1,
              "#f0f921"
             ]
            ],
            "type": "heatmap"
           }
          ],
          "heatmapgl": [
           {
            "colorbar": {
             "outlinewidth": 0,
             "ticks": ""
            },
            "colorscale": [
             [
              0,
              "#0d0887"
             ],
             [
              0.1111111111111111,
              "#46039f"
             ],
             [
              0.2222222222222222,
              "#7201a8"
             ],
             [
              0.3333333333333333,
              "#9c179e"
             ],
             [
              0.4444444444444444,
              "#bd3786"
             ],
             [
              0.5555555555555556,
              "#d8576b"
             ],
             [
              0.6666666666666666,
              "#ed7953"
             ],
             [
              0.7777777777777778,
              "#fb9f3a"
             ],
             [
              0.8888888888888888,
              "#fdca26"
             ],
             [
              1,
              "#f0f921"
             ]
            ],
            "type": "heatmapgl"
           }
          ],
          "histogram": [
           {
            "marker": {
             "colorbar": {
              "outlinewidth": 0,
              "ticks": ""
             }
            },
            "type": "histogram"
           }
          ],
          "histogram2d": [
           {
            "colorbar": {
             "outlinewidth": 0,
             "ticks": ""
            },
            "colorscale": [
             [
              0,
              "#0d0887"
             ],
             [
              0.1111111111111111,
              "#46039f"
             ],
             [
              0.2222222222222222,
              "#7201a8"
             ],
             [
              0.3333333333333333,
              "#9c179e"
             ],
             [
              0.4444444444444444,
              "#bd3786"
             ],
             [
              0.5555555555555556,
              "#d8576b"
             ],
             [
              0.6666666666666666,
              "#ed7953"
             ],
             [
              0.7777777777777778,
              "#fb9f3a"
             ],
             [
              0.8888888888888888,
              "#fdca26"
             ],
             [
              1,
              "#f0f921"
             ]
            ],
            "type": "histogram2d"
           }
          ],
          "histogram2dcontour": [
           {
            "colorbar": {
             "outlinewidth": 0,
             "ticks": ""
            },
            "colorscale": [
             [
              0,
              "#0d0887"
             ],
             [
              0.1111111111111111,
              "#46039f"
             ],
             [
              0.2222222222222222,
              "#7201a8"
             ],
             [
              0.3333333333333333,
              "#9c179e"
             ],
             [
              0.4444444444444444,
              "#bd3786"
             ],
             [
              0.5555555555555556,
              "#d8576b"
             ],
             [
              0.6666666666666666,
              "#ed7953"
             ],
             [
              0.7777777777777778,
              "#fb9f3a"
             ],
             [
              0.8888888888888888,
              "#fdca26"
             ],
             [
              1,
              "#f0f921"
             ]
            ],
            "type": "histogram2dcontour"
           }
          ],
          "mesh3d": [
           {
            "colorbar": {
             "outlinewidth": 0,
             "ticks": ""
            },
            "type": "mesh3d"
           }
          ],
          "parcoords": [
           {
            "line": {
             "colorbar": {
              "outlinewidth": 0,
              "ticks": ""
             }
            },
            "type": "parcoords"
           }
          ],
          "pie": [
           {
            "automargin": true,
            "type": "pie"
           }
          ],
          "scatter": [
           {
            "marker": {
             "colorbar": {
              "outlinewidth": 0,
              "ticks": ""
             }
            },
            "type": "scatter"
           }
          ],
          "scatter3d": [
           {
            "line": {
             "colorbar": {
              "outlinewidth": 0,
              "ticks": ""
             }
            },
            "marker": {
             "colorbar": {
              "outlinewidth": 0,
              "ticks": ""
             }
            },
            "type": "scatter3d"
           }
          ],
          "scattercarpet": [
           {
            "marker": {
             "colorbar": {
              "outlinewidth": 0,
              "ticks": ""
             }
            },
            "type": "scattercarpet"
           }
          ],
          "scattergeo": [
           {
            "marker": {
             "colorbar": {
              "outlinewidth": 0,
              "ticks": ""
             }
            },
            "type": "scattergeo"
           }
          ],
          "scattergl": [
           {
            "marker": {
             "colorbar": {
              "outlinewidth": 0,
              "ticks": ""
             }
            },
            "type": "scattergl"
           }
          ],
          "scattermapbox": [
           {
            "marker": {
             "colorbar": {
              "outlinewidth": 0,
              "ticks": ""
             }
            },
            "type": "scattermapbox"
           }
          ],
          "scatterpolar": [
           {
            "marker": {
             "colorbar": {
              "outlinewidth": 0,
              "ticks": ""
             }
            },
            "type": "scatterpolar"
           }
          ],
          "scatterpolargl": [
           {
            "marker": {
             "colorbar": {
              "outlinewidth": 0,
              "ticks": ""
             }
            },
            "type": "scatterpolargl"
           }
          ],
          "scatterternary": [
           {
            "marker": {
             "colorbar": {
              "outlinewidth": 0,
              "ticks": ""
             }
            },
            "type": "scatterternary"
           }
          ],
          "surface": [
           {
            "colorbar": {
             "outlinewidth": 0,
             "ticks": ""
            },
            "colorscale": [
             [
              0,
              "#0d0887"
             ],
             [
              0.1111111111111111,
              "#46039f"
             ],
             [
              0.2222222222222222,
              "#7201a8"
             ],
             [
              0.3333333333333333,
              "#9c179e"
             ],
             [
              0.4444444444444444,
              "#bd3786"
             ],
             [
              0.5555555555555556,
              "#d8576b"
             ],
             [
              0.6666666666666666,
              "#ed7953"
             ],
             [
              0.7777777777777778,
              "#fb9f3a"
             ],
             [
              0.8888888888888888,
              "#fdca26"
             ],
             [
              1,
              "#f0f921"
             ]
            ],
            "type": "surface"
           }
          ],
          "table": [
           {
            "cells": {
             "fill": {
              "color": "#EBF0F8"
             },
             "line": {
              "color": "white"
             }
            },
            "header": {
             "fill": {
              "color": "#C8D4E3"
             },
             "line": {
              "color": "white"
             }
            },
            "type": "table"
           }
          ]
         },
         "layout": {
          "annotationdefaults": {
           "arrowcolor": "#2a3f5f",
           "arrowhead": 0,
           "arrowwidth": 1
          },
          "coloraxis": {
           "colorbar": {
            "outlinewidth": 0,
            "ticks": ""
           }
          },
          "colorscale": {
           "diverging": [
            [
             0,
             "#8e0152"
            ],
            [
             0.1,
             "#c51b7d"
            ],
            [
             0.2,
             "#de77ae"
            ],
            [
             0.3,
             "#f1b6da"
            ],
            [
             0.4,
             "#fde0ef"
            ],
            [
             0.5,
             "#f7f7f7"
            ],
            [
             0.6,
             "#e6f5d0"
            ],
            [
             0.7,
             "#b8e186"
            ],
            [
             0.8,
             "#7fbc41"
            ],
            [
             0.9,
             "#4d9221"
            ],
            [
             1,
             "#276419"
            ]
           ],
           "sequential": [
            [
             0,
             "#0d0887"
            ],
            [
             0.1111111111111111,
             "#46039f"
            ],
            [
             0.2222222222222222,
             "#7201a8"
            ],
            [
             0.3333333333333333,
             "#9c179e"
            ],
            [
             0.4444444444444444,
             "#bd3786"
            ],
            [
             0.5555555555555556,
             "#d8576b"
            ],
            [
             0.6666666666666666,
             "#ed7953"
            ],
            [
             0.7777777777777778,
             "#fb9f3a"
            ],
            [
             0.8888888888888888,
             "#fdca26"
            ],
            [
             1,
             "#f0f921"
            ]
           ],
           "sequentialminus": [
            [
             0,
             "#0d0887"
            ],
            [
             0.1111111111111111,
             "#46039f"
            ],
            [
             0.2222222222222222,
             "#7201a8"
            ],
            [
             0.3333333333333333,
             "#9c179e"
            ],
            [
             0.4444444444444444,
             "#bd3786"
            ],
            [
             0.5555555555555556,
             "#d8576b"
            ],
            [
             0.6666666666666666,
             "#ed7953"
            ],
            [
             0.7777777777777778,
             "#fb9f3a"
            ],
            [
             0.8888888888888888,
             "#fdca26"
            ],
            [
             1,
             "#f0f921"
            ]
           ]
          },
          "colorway": [
           "#636efa",
           "#EF553B",
           "#00cc96",
           "#ab63fa",
           "#FFA15A",
           "#19d3f3",
           "#FF6692",
           "#B6E880",
           "#FF97FF",
           "#FECB52"
          ],
          "font": {
           "color": "#2a3f5f"
          },
          "geo": {
           "bgcolor": "white",
           "lakecolor": "white",
           "landcolor": "#E5ECF6",
           "showlakes": true,
           "showland": true,
           "subunitcolor": "white"
          },
          "hoverlabel": {
           "align": "left"
          },
          "hovermode": "closest",
          "mapbox": {
           "style": "light"
          },
          "paper_bgcolor": "white",
          "plot_bgcolor": "#E5ECF6",
          "polar": {
           "angularaxis": {
            "gridcolor": "white",
            "linecolor": "white",
            "ticks": ""
           },
           "bgcolor": "#E5ECF6",
           "radialaxis": {
            "gridcolor": "white",
            "linecolor": "white",
            "ticks": ""
           }
          },
          "scene": {
           "xaxis": {
            "backgroundcolor": "#E5ECF6",
            "gridcolor": "white",
            "gridwidth": 2,
            "linecolor": "white",
            "showbackground": true,
            "ticks": "",
            "zerolinecolor": "white"
           },
           "yaxis": {
            "backgroundcolor": "#E5ECF6",
            "gridcolor": "white",
            "gridwidth": 2,
            "linecolor": "white",
            "showbackground": true,
            "ticks": "",
            "zerolinecolor": "white"
           },
           "zaxis": {
            "backgroundcolor": "#E5ECF6",
            "gridcolor": "white",
            "gridwidth": 2,
            "linecolor": "white",
            "showbackground": true,
            "ticks": "",
            "zerolinecolor": "white"
           }
          },
          "shapedefaults": {
           "line": {
            "color": "#2a3f5f"
           }
          },
          "ternary": {
           "aaxis": {
            "gridcolor": "white",
            "linecolor": "white",
            "ticks": ""
           },
           "baxis": {
            "gridcolor": "white",
            "linecolor": "white",
            "ticks": ""
           },
           "bgcolor": "#E5ECF6",
           "caxis": {
            "gridcolor": "white",
            "linecolor": "white",
            "ticks": ""
           }
          },
          "title": {
           "x": 0.05
          },
          "xaxis": {
           "automargin": true,
           "gridcolor": "white",
           "linecolor": "white",
           "ticks": "",
           "title": {
            "standoff": 15
           },
           "zerolinecolor": "white",
           "zerolinewidth": 2
          },
          "yaxis": {
           "automargin": true,
           "gridcolor": "white",
           "linecolor": "white",
           "ticks": "",
           "title": {
            "standoff": 15
           },
           "zerolinecolor": "white",
           "zerolinewidth": 2
          }
         }
        },
        "title": {
         "text": ""
        }
       }
      },
      "text/html": [
       "<div>\n",
       "        \n",
       "        \n",
       "            <div id=\"497f95d1-3609-4504-94ca-3c93d475711b\" class=\"plotly-graph-div\" style=\"height:525px; width:100%;\"></div>\n",
       "            <script type=\"text/javascript\">\n",
       "                require([\"plotly\"], function(Plotly) {\n",
       "                    window.PLOTLYENV=window.PLOTLYENV || {};\n",
       "                    \n",
       "                if (document.getElementById(\"497f95d1-3609-4504-94ca-3c93d475711b\")) {\n",
       "                    Plotly.newPlot(\n",
       "                        '497f95d1-3609-4504-94ca-3c93d475711b',\n",
       "                        [{\"link\": {\"color\": [\"hsla(120, 50%, 70%, 0.7)\", \"hsla(120, 50%, 70%, 0.7)\", \"hsla(120, 50%, 70%, 0.7)\", \"hsla(120, 50%, 70%, 0.7)\", \"hsla(120, 50%, 70%, 0.7)\", \"hsla(120, 50%, 70%, 0.7)\"], \"source\": [3, 1, 1, 5, 0, 5], \"target\": [5, 5, 2, 0, 4, 4], \"value\": [408.34263267551677, 94.15523099261301, 0.0, 152.07521289381197, 149.57734922568213, 347.9247871061881]}, \"node\": {\"color\": \"hsla(0, 0%, 0%, 0.5)\", \"label\": [\"BES\", \"PV\", \"SELL_el\", \"PUR\", \"DEM_el\", \"EL\"], \"line\": {\"color\": \"white\", \"width\": 0}, \"pad\": 15, \"thickness\": 10}, \"orientation\": \"h\", \"type\": \"sankey\", \"valueformat\": \".2f\", \"valuesuffix\": \"MWh\"}],\n",
       "                        {\"font\": {\"size\": 15}, \"template\": {\"data\": {\"bar\": [{\"error_x\": {\"color\": \"#2a3f5f\"}, \"error_y\": {\"color\": \"#2a3f5f\"}, \"marker\": {\"line\": {\"color\": \"#E5ECF6\", \"width\": 0.5}}, \"type\": \"bar\"}], \"barpolar\": [{\"marker\": {\"line\": {\"color\": \"#E5ECF6\", \"width\": 0.5}}, \"type\": \"barpolar\"}], \"carpet\": [{\"aaxis\": {\"endlinecolor\": \"#2a3f5f\", \"gridcolor\": \"white\", \"linecolor\": \"white\", \"minorgridcolor\": \"white\", \"startlinecolor\": \"#2a3f5f\"}, \"baxis\": {\"endlinecolor\": \"#2a3f5f\", \"gridcolor\": \"white\", \"linecolor\": \"white\", \"minorgridcolor\": \"white\", \"startlinecolor\": \"#2a3f5f\"}, \"type\": \"carpet\"}], \"choropleth\": [{\"colorbar\": {\"outlinewidth\": 0, \"ticks\": \"\"}, \"type\": \"choropleth\"}], \"contour\": [{\"colorbar\": {\"outlinewidth\": 0, \"ticks\": \"\"}, \"colorscale\": [[0.0, \"#0d0887\"], [0.1111111111111111, \"#46039f\"], [0.2222222222222222, \"#7201a8\"], [0.3333333333333333, \"#9c179e\"], [0.4444444444444444, \"#bd3786\"], [0.5555555555555556, \"#d8576b\"], [0.6666666666666666, \"#ed7953\"], [0.7777777777777778, \"#fb9f3a\"], [0.8888888888888888, \"#fdca26\"], [1.0, \"#f0f921\"]], \"type\": \"contour\"}], \"contourcarpet\": [{\"colorbar\": {\"outlinewidth\": 0, \"ticks\": \"\"}, \"type\": \"contourcarpet\"}], \"heatmap\": [{\"colorbar\": {\"outlinewidth\": 0, \"ticks\": \"\"}, \"colorscale\": [[0.0, \"#0d0887\"], [0.1111111111111111, \"#46039f\"], [0.2222222222222222, \"#7201a8\"], [0.3333333333333333, \"#9c179e\"], [0.4444444444444444, \"#bd3786\"], [0.5555555555555556, \"#d8576b\"], [0.6666666666666666, \"#ed7953\"], [0.7777777777777778, \"#fb9f3a\"], [0.8888888888888888, \"#fdca26\"], [1.0, \"#f0f921\"]], \"type\": \"heatmap\"}], \"heatmapgl\": [{\"colorbar\": {\"outlinewidth\": 0, \"ticks\": \"\"}, \"colorscale\": [[0.0, \"#0d0887\"], [0.1111111111111111, \"#46039f\"], [0.2222222222222222, \"#7201a8\"], [0.3333333333333333, \"#9c179e\"], [0.4444444444444444, \"#bd3786\"], [0.5555555555555556, \"#d8576b\"], [0.6666666666666666, \"#ed7953\"], [0.7777777777777778, \"#fb9f3a\"], [0.8888888888888888, \"#fdca26\"], [1.0, \"#f0f921\"]], \"type\": \"heatmapgl\"}], \"histogram\": [{\"marker\": {\"colorbar\": {\"outlinewidth\": 0, \"ticks\": \"\"}}, \"type\": \"histogram\"}], \"histogram2d\": [{\"colorbar\": {\"outlinewidth\": 0, \"ticks\": \"\"}, \"colorscale\": [[0.0, \"#0d0887\"], [0.1111111111111111, \"#46039f\"], [0.2222222222222222, \"#7201a8\"], [0.3333333333333333, \"#9c179e\"], [0.4444444444444444, \"#bd3786\"], [0.5555555555555556, \"#d8576b\"], [0.6666666666666666, \"#ed7953\"], [0.7777777777777778, \"#fb9f3a\"], [0.8888888888888888, \"#fdca26\"], [1.0, \"#f0f921\"]], \"type\": \"histogram2d\"}], \"histogram2dcontour\": [{\"colorbar\": {\"outlinewidth\": 0, \"ticks\": \"\"}, \"colorscale\": [[0.0, \"#0d0887\"], [0.1111111111111111, \"#46039f\"], [0.2222222222222222, \"#7201a8\"], [0.3333333333333333, \"#9c179e\"], [0.4444444444444444, \"#bd3786\"], [0.5555555555555556, \"#d8576b\"], [0.6666666666666666, \"#ed7953\"], [0.7777777777777778, \"#fb9f3a\"], [0.8888888888888888, \"#fdca26\"], [1.0, \"#f0f921\"]], \"type\": \"histogram2dcontour\"}], \"mesh3d\": [{\"colorbar\": {\"outlinewidth\": 0, \"ticks\": \"\"}, \"type\": \"mesh3d\"}], \"parcoords\": [{\"line\": {\"colorbar\": {\"outlinewidth\": 0, \"ticks\": \"\"}}, \"type\": \"parcoords\"}], \"pie\": [{\"automargin\": true, \"type\": \"pie\"}], \"scatter\": [{\"marker\": {\"colorbar\": {\"outlinewidth\": 0, \"ticks\": \"\"}}, \"type\": \"scatter\"}], \"scatter3d\": [{\"line\": {\"colorbar\": {\"outlinewidth\": 0, \"ticks\": \"\"}}, \"marker\": {\"colorbar\": {\"outlinewidth\": 0, \"ticks\": \"\"}}, \"type\": \"scatter3d\"}], \"scattercarpet\": [{\"marker\": {\"colorbar\": {\"outlinewidth\": 0, \"ticks\": \"\"}}, \"type\": \"scattercarpet\"}], \"scattergeo\": [{\"marker\": {\"colorbar\": {\"outlinewidth\": 0, \"ticks\": \"\"}}, \"type\": \"scattergeo\"}], \"scattergl\": [{\"marker\": {\"colorbar\": {\"outlinewidth\": 0, \"ticks\": \"\"}}, \"type\": \"scattergl\"}], \"scattermapbox\": [{\"marker\": {\"colorbar\": {\"outlinewidth\": 0, \"ticks\": \"\"}}, \"type\": \"scattermapbox\"}], \"scatterpolar\": [{\"marker\": {\"colorbar\": {\"outlinewidth\": 0, \"ticks\": \"\"}}, \"type\": \"scatterpolar\"}], \"scatterpolargl\": [{\"marker\": {\"colorbar\": {\"outlinewidth\": 0, \"ticks\": \"\"}}, \"type\": \"scatterpolargl\"}], \"scatterternary\": [{\"marker\": {\"colorbar\": {\"outlinewidth\": 0, \"ticks\": \"\"}}, \"type\": \"scatterternary\"}], \"surface\": [{\"colorbar\": {\"outlinewidth\": 0, \"ticks\": \"\"}, \"colorscale\": [[0.0, \"#0d0887\"], [0.1111111111111111, \"#46039f\"], [0.2222222222222222, \"#7201a8\"], [0.3333333333333333, \"#9c179e\"], [0.4444444444444444, \"#bd3786\"], [0.5555555555555556, \"#d8576b\"], [0.6666666666666666, \"#ed7953\"], [0.7777777777777778, \"#fb9f3a\"], [0.8888888888888888, \"#fdca26\"], [1.0, \"#f0f921\"]], \"type\": \"surface\"}], \"table\": [{\"cells\": {\"fill\": {\"color\": \"#EBF0F8\"}, \"line\": {\"color\": \"white\"}}, \"header\": {\"fill\": {\"color\": \"#C8D4E3\"}, \"line\": {\"color\": \"white\"}}, \"type\": \"table\"}]}, \"layout\": {\"annotationdefaults\": {\"arrowcolor\": \"#2a3f5f\", \"arrowhead\": 0, \"arrowwidth\": 1}, \"coloraxis\": {\"colorbar\": {\"outlinewidth\": 0, \"ticks\": \"\"}}, \"colorscale\": {\"diverging\": [[0, \"#8e0152\"], [0.1, \"#c51b7d\"], [0.2, \"#de77ae\"], [0.3, \"#f1b6da\"], [0.4, \"#fde0ef\"], [0.5, \"#f7f7f7\"], [0.6, \"#e6f5d0\"], [0.7, \"#b8e186\"], [0.8, \"#7fbc41\"], [0.9, \"#4d9221\"], [1, \"#276419\"]], \"sequential\": [[0.0, \"#0d0887\"], [0.1111111111111111, \"#46039f\"], [0.2222222222222222, \"#7201a8\"], [0.3333333333333333, \"#9c179e\"], [0.4444444444444444, \"#bd3786\"], [0.5555555555555556, \"#d8576b\"], [0.6666666666666666, \"#ed7953\"], [0.7777777777777778, \"#fb9f3a\"], [0.8888888888888888, \"#fdca26\"], [1.0, \"#f0f921\"]], \"sequentialminus\": [[0.0, \"#0d0887\"], [0.1111111111111111, \"#46039f\"], [0.2222222222222222, \"#7201a8\"], [0.3333333333333333, \"#9c179e\"], [0.4444444444444444, \"#bd3786\"], [0.5555555555555556, \"#d8576b\"], [0.6666666666666666, \"#ed7953\"], [0.7777777777777778, \"#fb9f3a\"], [0.8888888888888888, \"#fdca26\"], [1.0, \"#f0f921\"]]}, \"colorway\": [\"#636efa\", \"#EF553B\", \"#00cc96\", \"#ab63fa\", \"#FFA15A\", \"#19d3f3\", \"#FF6692\", \"#B6E880\", \"#FF97FF\", \"#FECB52\"], \"font\": {\"color\": \"#2a3f5f\"}, \"geo\": {\"bgcolor\": \"white\", \"lakecolor\": \"white\", \"landcolor\": \"#E5ECF6\", \"showlakes\": true, \"showland\": true, \"subunitcolor\": \"white\"}, \"hoverlabel\": {\"align\": \"left\"}, \"hovermode\": \"closest\", \"mapbox\": {\"style\": \"light\"}, \"paper_bgcolor\": \"white\", \"plot_bgcolor\": \"#E5ECF6\", \"polar\": {\"angularaxis\": {\"gridcolor\": \"white\", \"linecolor\": \"white\", \"ticks\": \"\"}, \"bgcolor\": \"#E5ECF6\", \"radialaxis\": {\"gridcolor\": \"white\", \"linecolor\": \"white\", \"ticks\": \"\"}}, \"scene\": {\"xaxis\": {\"backgroundcolor\": \"#E5ECF6\", \"gridcolor\": \"white\", \"gridwidth\": 2, \"linecolor\": \"white\", \"showbackground\": true, \"ticks\": \"\", \"zerolinecolor\": \"white\"}, \"yaxis\": {\"backgroundcolor\": \"#E5ECF6\", \"gridcolor\": \"white\", \"gridwidth\": 2, \"linecolor\": \"white\", \"showbackground\": true, \"ticks\": \"\", \"zerolinecolor\": \"white\"}, \"zaxis\": {\"backgroundcolor\": \"#E5ECF6\", \"gridcolor\": \"white\", \"gridwidth\": 2, \"linecolor\": \"white\", \"showbackground\": true, \"ticks\": \"\", \"zerolinecolor\": \"white\"}}, \"shapedefaults\": {\"line\": {\"color\": \"#2a3f5f\"}}, \"ternary\": {\"aaxis\": {\"gridcolor\": \"white\", \"linecolor\": \"white\", \"ticks\": \"\"}, \"baxis\": {\"gridcolor\": \"white\", \"linecolor\": \"white\", \"ticks\": \"\"}, \"bgcolor\": \"#E5ECF6\", \"caxis\": {\"gridcolor\": \"white\", \"linecolor\": \"white\", \"ticks\": \"\"}}, \"title\": {\"x\": 0.05}, \"xaxis\": {\"automargin\": true, \"gridcolor\": \"white\", \"linecolor\": \"white\", \"ticks\": \"\", \"title\": {\"standoff\": 15}, \"zerolinecolor\": \"white\", \"zerolinewidth\": 2}, \"yaxis\": {\"automargin\": true, \"gridcolor\": \"white\", \"linecolor\": \"white\", \"ticks\": \"\", \"title\": {\"standoff\": 15}, \"zerolinecolor\": \"white\", \"zerolinewidth\": 2}}}, \"title\": {\"text\": \"\"}},\n",
       "                        {\"responsive\": true}\n",
       "                    ).then(function(){\n",
       "                            \n",
       "var gd = document.getElementById('497f95d1-3609-4504-94ca-3c93d475711b');\n",
       "var x = new MutationObserver(function (mutations, observer) {{\n",
       "        var display = window.getComputedStyle(gd).display;\n",
       "        if (!display || display === 'none') {{\n",
       "            console.log([gd, 'removed!']);\n",
       "            Plotly.purge(gd);\n",
       "            observer.disconnect();\n",
       "        }}\n",
       "}});\n",
       "\n",
       "// Listen for the removal of the full notebook cells\n",
       "var notebookContainer = gd.closest('#notebook-container');\n",
       "if (notebookContainer) {{\n",
       "    x.observe(notebookContainer, {childList: true});\n",
       "}}\n",
       "\n",
       "// Listen for the clearing of the current output cell\n",
       "var outputEl = gd.closest('.output');\n",
       "if (outputEl) {{\n",
       "    x.observe(outputEl, {childList: true});\n",
       "}}\n",
       "\n",
       "                        })\n",
       "                };\n",
       "                });\n",
       "            </script>\n",
       "        </div>"
      ]
     },
     "metadata": {},
     "output_type": "display_data"
    }
   ],
   "source": [
    "# Specifies the energy flows for use in sankey plots.\n",
    "def sankey_func(sc):\n",
    "    p = sc.params\n",
    "    r = sc.res\n",
    "    return f\"\"\"\\\n",
    "    type source target value\n",
    "    E PUR EL {r.E_pur_T.sum()}\n",
    "    E PV EL {r.E_PV_OC_T.sum()}\n",
    "    E PV SELL_el {r.E_PV_FI_T.sum()}\n",
    "    E EL BES {r.E_BES_in_T.sum()}\n",
    "    E BES DEM_el {r.E_BES_out_T.sum()}\n",
    "    E EL DEM_el {p.E_dem_T.sum()- r.E_BES_in_T.sum()}\n",
    "    \"\"\"\n",
    "\n",
    "cs.scens.sc1.plot.sankey(sankey_func)\n",
    "# Note: Press F5 to update output."
   ]
  },
  {
   "cell_type": "code",
   "execution_count": 90,
   "metadata": {
    "ExecuteTime": {
     "end_time": "2019-12-02T17:19:35.637441Z",
     "start_time": "2019-12-02T17:19:35.293364Z"
    },
    "slideshow": {
     "slide_type": "subslide"
    }
   },
   "outputs": [
    {
     "data": {
      "text/html": [
       "        <script type=\"text/javascript\">\n",
       "        window.PlotlyConfig = {MathJaxConfig: 'local'};\n",
       "        if (window.MathJax) {MathJax.Hub.Config({SVG: {font: \"STIX-Web\"}});}\n",
       "        if (typeof require !== 'undefined') {\n",
       "        require.undef(\"plotly\");\n",
       "        requirejs.config({\n",
       "            paths: {\n",
       "                'plotly': ['https://cdn.plot.ly/plotly-latest.min']\n",
       "            }\n",
       "        });\n",
       "        require(['plotly'], function(Plotly) {\n",
       "            window._Plotly = Plotly;\n",
       "        });\n",
       "        }\n",
       "        </script>\n",
       "        "
      ]
     },
     "metadata": {},
     "output_type": "display_data"
    },
    {
     "data": {
      "application/vnd.plotly.v1+json": {
       "config": {
        "linkText": "Export to plot.ly",
        "plotlyServerURL": "https://plot.ly",
        "showLink": false
       },
       "data": [
        {
         "domain": {
          "x": [
           0.5,
           1
          ],
          "y": [
           0,
           1
          ]
         },
         "link": {
          "color": [
           "hsla(120, 50%, 70%, 0.7)",
           "hsla(120, 50%, 70%, 0.7)",
           "hsla(120, 50%, 70%, 0.7)",
           "hsla(120, 50%, 70%, 0.7)",
           "hsla(120, 50%, 70%, 0.7)",
           "hsla(120, 50%, 70%, 0.7)"
          ],
          "source": [
           3,
           1,
           1,
           5,
           0,
           5
          ],
          "target": [
           5,
           5,
           2,
           0,
           4,
           4
          ],
          "value": [
           407.14701698104,
           92.85298301896002,
           1.3022479736529866,
           0,
           0,
           500.00000000000006
          ]
         },
         "node": {
          "color": "hsla(0, 0%, 0%, 0.5)",
          "label": [
           "BES",
           "PV",
           "SELL_el",
           "PUR",
           "DEM_el",
           "EL"
          ],
          "line": {
           "color": "white",
           "width": 0
          },
          "pad": 15,
          "thickness": 10
         },
         "orientation": "h",
         "type": "sankey",
         "valueformat": ".2f",
         "valuesuffix": "MWh"
        },
        {
         "cells": {
          "align": [
           "left",
           "right",
           "left"
          ],
          "font": {
           "size": 12
          },
          "line": {
           "color": "lightgray"
          },
          "values": [
           [
            "Operation",
            "Invest",
            "Savings",
            "Depreciation",
            "Peakload"
           ],
           [
            "71,994",
            "0",
            "0",
            "0",
            "76"
           ],
           [
            "€ / a",
            "€",
            "€ / a",
            "kW",
            "kW"
           ]
          ]
         },
         "domain": {
          "x": [
           0,
           0.4
          ],
          "y": [
           0.5,
           1
          ]
         },
         "header": {
          "align": [
           "left",
           "right",
           "left"
          ],
          "font": {
           "size": 12
          },
          "line": {
           "color": "lightgray"
          },
          "values": [
           "Total",
           "71,994",
           "€ / a"
          ]
         },
         "type": "table"
        },
        {
         "marker": {
          "color": "blue",
          "opacity": [
           0.3,
           0.3,
           0.3,
           0.3,
           0.3,
           0.3,
           1,
           0.3,
           0.3,
           0.3,
           0.3,
           0.3,
           0.3
          ]
         },
         "name": "Depreciation",
         "type": "bar",
         "x": [
          "sc8",
          "sc12",
          "sc4",
          "sc7",
          "sc11",
          "sc3",
          "REF",
          "sc10",
          "sc6",
          "sc9",
          "sc2",
          "sc5",
          "sc1"
         ],
         "y": [
          0,
          0,
          0,
          0,
          0,
          0,
          0,
          0,
          0,
          0,
          0,
          0,
          0
         ]
        },
        {
         "marker": {
          "color": "green",
          "opacity": [
           0.3,
           0.3,
           0.3,
           0.3,
           0.3,
           0.3,
           1,
           0.3,
           0.3,
           0.3,
           0.3,
           0.3,
           0.3
          ]
         },
         "name": "Operation",
         "type": "bar",
         "x": [
          "sc8",
          "sc12",
          "sc4",
          "sc7",
          "sc11",
          "sc3",
          "REF",
          "sc10",
          "sc6",
          "sc9",
          "sc2",
          "sc5",
          "sc1"
         ],
         "y": [
          121737.63819711481,
          121084.74107913092,
          118431.62545130377,
          75029.97665812782,
          74963.25815799076,
          72329.83832511019,
          71993.59343899229,
          71321.98674045778,
          70952.49796860084,
          70165.61008439388,
          69776.39482164779,
          69560.24882429761,
          69011.90871129792
         ]
        }
       ],
       "layout": {
        "barmode": "stack",
        "font": {
         "size": 12
        },
        "legend": {
         "x": 0,
         "y": 0.5
        },
        "template": {
         "data": {
          "bar": [
           {
            "error_x": {
             "color": "#2a3f5f"
            },
            "error_y": {
             "color": "#2a3f5f"
            },
            "marker": {
             "line": {
              "color": "#E5ECF6",
              "width": 0.5
             }
            },
            "type": "bar"
           }
          ],
          "barpolar": [
           {
            "marker": {
             "line": {
              "color": "#E5ECF6",
              "width": 0.5
             }
            },
            "type": "barpolar"
           }
          ],
          "carpet": [
           {
            "aaxis": {
             "endlinecolor": "#2a3f5f",
             "gridcolor": "white",
             "linecolor": "white",
             "minorgridcolor": "white",
             "startlinecolor": "#2a3f5f"
            },
            "baxis": {
             "endlinecolor": "#2a3f5f",
             "gridcolor": "white",
             "linecolor": "white",
             "minorgridcolor": "white",
             "startlinecolor": "#2a3f5f"
            },
            "type": "carpet"
           }
          ],
          "choropleth": [
           {
            "colorbar": {
             "outlinewidth": 0,
             "ticks": ""
            },
            "type": "choropleth"
           }
          ],
          "contour": [
           {
            "colorbar": {
             "outlinewidth": 0,
             "ticks": ""
            },
            "colorscale": [
             [
              0,
              "#0d0887"
             ],
             [
              0.1111111111111111,
              "#46039f"
             ],
             [
              0.2222222222222222,
              "#7201a8"
             ],
             [
              0.3333333333333333,
              "#9c179e"
             ],
             [
              0.4444444444444444,
              "#bd3786"
             ],
             [
              0.5555555555555556,
              "#d8576b"
             ],
             [
              0.6666666666666666,
              "#ed7953"
             ],
             [
              0.7777777777777778,
              "#fb9f3a"
             ],
             [
              0.8888888888888888,
              "#fdca26"
             ],
             [
              1,
              "#f0f921"
             ]
            ],
            "type": "contour"
           }
          ],
          "contourcarpet": [
           {
            "colorbar": {
             "outlinewidth": 0,
             "ticks": ""
            },
            "type": "contourcarpet"
           }
          ],
          "heatmap": [
           {
            "colorbar": {
             "outlinewidth": 0,
             "ticks": ""
            },
            "colorscale": [
             [
              0,
              "#0d0887"
             ],
             [
              0.1111111111111111,
              "#46039f"
             ],
             [
              0.2222222222222222,
              "#7201a8"
             ],
             [
              0.3333333333333333,
              "#9c179e"
             ],
             [
              0.4444444444444444,
              "#bd3786"
             ],
             [
              0.5555555555555556,
              "#d8576b"
             ],
             [
              0.6666666666666666,
              "#ed7953"
             ],
             [
              0.7777777777777778,
              "#fb9f3a"
             ],
             [
              0.8888888888888888,
              "#fdca26"
             ],
             [
              1,
              "#f0f921"
             ]
            ],
            "type": "heatmap"
           }
          ],
          "heatmapgl": [
           {
            "colorbar": {
             "outlinewidth": 0,
             "ticks": ""
            },
            "colorscale": [
             [
              0,
              "#0d0887"
             ],
             [
              0.1111111111111111,
              "#46039f"
             ],
             [
              0.2222222222222222,
              "#7201a8"
             ],
             [
              0.3333333333333333,
              "#9c179e"
             ],
             [
              0.4444444444444444,
              "#bd3786"
             ],
             [
              0.5555555555555556,
              "#d8576b"
             ],
             [
              0.6666666666666666,
              "#ed7953"
             ],
             [
              0.7777777777777778,
              "#fb9f3a"
             ],
             [
              0.8888888888888888,
              "#fdca26"
             ],
             [
              1,
              "#f0f921"
             ]
            ],
            "type": "heatmapgl"
           }
          ],
          "histogram": [
           {
            "marker": {
             "colorbar": {
              "outlinewidth": 0,
              "ticks": ""
             }
            },
            "type": "histogram"
           }
          ],
          "histogram2d": [
           {
            "colorbar": {
             "outlinewidth": 0,
             "ticks": ""
            },
            "colorscale": [
             [
              0,
              "#0d0887"
             ],
             [
              0.1111111111111111,
              "#46039f"
             ],
             [
              0.2222222222222222,
              "#7201a8"
             ],
             [
              0.3333333333333333,
              "#9c179e"
             ],
             [
              0.4444444444444444,
              "#bd3786"
             ],
             [
              0.5555555555555556,
              "#d8576b"
             ],
             [
              0.6666666666666666,
              "#ed7953"
             ],
             [
              0.7777777777777778,
              "#fb9f3a"
             ],
             [
              0.8888888888888888,
              "#fdca26"
             ],
             [
              1,
              "#f0f921"
             ]
            ],
            "type": "histogram2d"
           }
          ],
          "histogram2dcontour": [
           {
            "colorbar": {
             "outlinewidth": 0,
             "ticks": ""
            },
            "colorscale": [
             [
              0,
              "#0d0887"
             ],
             [
              0.1111111111111111,
              "#46039f"
             ],
             [
              0.2222222222222222,
              "#7201a8"
             ],
             [
              0.3333333333333333,
              "#9c179e"
             ],
             [
              0.4444444444444444,
              "#bd3786"
             ],
             [
              0.5555555555555556,
              "#d8576b"
             ],
             [
              0.6666666666666666,
              "#ed7953"
             ],
             [
              0.7777777777777778,
              "#fb9f3a"
             ],
             [
              0.8888888888888888,
              "#fdca26"
             ],
             [
              1,
              "#f0f921"
             ]
            ],
            "type": "histogram2dcontour"
           }
          ],
          "mesh3d": [
           {
            "colorbar": {
             "outlinewidth": 0,
             "ticks": ""
            },
            "type": "mesh3d"
           }
          ],
          "parcoords": [
           {
            "line": {
             "colorbar": {
              "outlinewidth": 0,
              "ticks": ""
             }
            },
            "type": "parcoords"
           }
          ],
          "pie": [
           {
            "automargin": true,
            "type": "pie"
           }
          ],
          "scatter": [
           {
            "marker": {
             "colorbar": {
              "outlinewidth": 0,
              "ticks": ""
             }
            },
            "type": "scatter"
           }
          ],
          "scatter3d": [
           {
            "line": {
             "colorbar": {
              "outlinewidth": 0,
              "ticks": ""
             }
            },
            "marker": {
             "colorbar": {
              "outlinewidth": 0,
              "ticks": ""
             }
            },
            "type": "scatter3d"
           }
          ],
          "scattercarpet": [
           {
            "marker": {
             "colorbar": {
              "outlinewidth": 0,
              "ticks": ""
             }
            },
            "type": "scattercarpet"
           }
          ],
          "scattergeo": [
           {
            "marker": {
             "colorbar": {
              "outlinewidth": 0,
              "ticks": ""
             }
            },
            "type": "scattergeo"
           }
          ],
          "scattergl": [
           {
            "marker": {
             "colorbar": {
              "outlinewidth": 0,
              "ticks": ""
             }
            },
            "type": "scattergl"
           }
          ],
          "scattermapbox": [
           {
            "marker": {
             "colorbar": {
              "outlinewidth": 0,
              "ticks": ""
             }
            },
            "type": "scattermapbox"
           }
          ],
          "scatterpolar": [
           {
            "marker": {
             "colorbar": {
              "outlinewidth": 0,
              "ticks": ""
             }
            },
            "type": "scatterpolar"
           }
          ],
          "scatterpolargl": [
           {
            "marker": {
             "colorbar": {
              "outlinewidth": 0,
              "ticks": ""
             }
            },
            "type": "scatterpolargl"
           }
          ],
          "scatterternary": [
           {
            "marker": {
             "colorbar": {
              "outlinewidth": 0,
              "ticks": ""
             }
            },
            "type": "scatterternary"
           }
          ],
          "surface": [
           {
            "colorbar": {
             "outlinewidth": 0,
             "ticks": ""
            },
            "colorscale": [
             [
              0,
              "#0d0887"
             ],
             [
              0.1111111111111111,
              "#46039f"
             ],
             [
              0.2222222222222222,
              "#7201a8"
             ],
             [
              0.3333333333333333,
              "#9c179e"
             ],
             [
              0.4444444444444444,
              "#bd3786"
             ],
             [
              0.5555555555555556,
              "#d8576b"
             ],
             [
              0.6666666666666666,
              "#ed7953"
             ],
             [
              0.7777777777777778,
              "#fb9f3a"
             ],
             [
              0.8888888888888888,
              "#fdca26"
             ],
             [
              1,
              "#f0f921"
             ]
            ],
            "type": "surface"
           }
          ],
          "table": [
           {
            "cells": {
             "fill": {
              "color": "#EBF0F8"
             },
             "line": {
              "color": "white"
             }
            },
            "header": {
             "fill": {
              "color": "#C8D4E3"
             },
             "line": {
              "color": "white"
             }
            },
            "type": "table"
           }
          ]
         },
         "layout": {
          "annotationdefaults": {
           "arrowcolor": "#2a3f5f",
           "arrowhead": 0,
           "arrowwidth": 1
          },
          "coloraxis": {
           "colorbar": {
            "outlinewidth": 0,
            "ticks": ""
           }
          },
          "colorscale": {
           "diverging": [
            [
             0,
             "#8e0152"
            ],
            [
             0.1,
             "#c51b7d"
            ],
            [
             0.2,
             "#de77ae"
            ],
            [
             0.3,
             "#f1b6da"
            ],
            [
             0.4,
             "#fde0ef"
            ],
            [
             0.5,
             "#f7f7f7"
            ],
            [
             0.6,
             "#e6f5d0"
            ],
            [
             0.7,
             "#b8e186"
            ],
            [
             0.8,
             "#7fbc41"
            ],
            [
             0.9,
             "#4d9221"
            ],
            [
             1,
             "#276419"
            ]
           ],
           "sequential": [
            [
             0,
             "#0d0887"
            ],
            [
             0.1111111111111111,
             "#46039f"
            ],
            [
             0.2222222222222222,
             "#7201a8"
            ],
            [
             0.3333333333333333,
             "#9c179e"
            ],
            [
             0.4444444444444444,
             "#bd3786"
            ],
            [
             0.5555555555555556,
             "#d8576b"
            ],
            [
             0.6666666666666666,
             "#ed7953"
            ],
            [
             0.7777777777777778,
             "#fb9f3a"
            ],
            [
             0.8888888888888888,
             "#fdca26"
            ],
            [
             1,
             "#f0f921"
            ]
           ],
           "sequentialminus": [
            [
             0,
             "#0d0887"
            ],
            [
             0.1111111111111111,
             "#46039f"
            ],
            [
             0.2222222222222222,
             "#7201a8"
            ],
            [
             0.3333333333333333,
             "#9c179e"
            ],
            [
             0.4444444444444444,
             "#bd3786"
            ],
            [
             0.5555555555555556,
             "#d8576b"
            ],
            [
             0.6666666666666666,
             "#ed7953"
            ],
            [
             0.7777777777777778,
             "#fb9f3a"
            ],
            [
             0.8888888888888888,
             "#fdca26"
            ],
            [
             1,
             "#f0f921"
            ]
           ]
          },
          "colorway": [
           "#636efa",
           "#EF553B",
           "#00cc96",
           "#ab63fa",
           "#FFA15A",
           "#19d3f3",
           "#FF6692",
           "#B6E880",
           "#FF97FF",
           "#FECB52"
          ],
          "font": {
           "color": "#2a3f5f"
          },
          "geo": {
           "bgcolor": "white",
           "lakecolor": "white",
           "landcolor": "#E5ECF6",
           "showlakes": true,
           "showland": true,
           "subunitcolor": "white"
          },
          "hoverlabel": {
           "align": "left"
          },
          "hovermode": "closest",
          "mapbox": {
           "style": "light"
          },
          "paper_bgcolor": "white",
          "plot_bgcolor": "#E5ECF6",
          "polar": {
           "angularaxis": {
            "gridcolor": "white",
            "linecolor": "white",
            "ticks": ""
           },
           "bgcolor": "#E5ECF6",
           "radialaxis": {
            "gridcolor": "white",
            "linecolor": "white",
            "ticks": ""
           }
          },
          "scene": {
           "xaxis": {
            "backgroundcolor": "#E5ECF6",
            "gridcolor": "white",
            "gridwidth": 2,
            "linecolor": "white",
            "showbackground": true,
            "ticks": "",
            "zerolinecolor": "white"
           },
           "yaxis": {
            "backgroundcolor": "#E5ECF6",
            "gridcolor": "white",
            "gridwidth": 2,
            "linecolor": "white",
            "showbackground": true,
            "ticks": "",
            "zerolinecolor": "white"
           },
           "zaxis": {
            "backgroundcolor": "#E5ECF6",
            "gridcolor": "white",
            "gridwidth": 2,
            "linecolor": "white",
            "showbackground": true,
            "ticks": "",
            "zerolinecolor": "white"
           }
          },
          "shapedefaults": {
           "line": {
            "color": "#2a3f5f"
           }
          },
          "ternary": {
           "aaxis": {
            "gridcolor": "white",
            "linecolor": "white",
            "ticks": ""
           },
           "baxis": {
            "gridcolor": "white",
            "linecolor": "white",
            "ticks": ""
           },
           "bgcolor": "#E5ECF6",
           "caxis": {
            "gridcolor": "white",
            "linecolor": "white",
            "ticks": ""
           }
          },
          "title": {
           "x": 0.05
          },
          "xaxis": {
           "automargin": true,
           "gridcolor": "white",
           "linecolor": "white",
           "ticks": "",
           "title": {
            "standoff": 15
           },
           "zerolinecolor": "white",
           "zerolinewidth": 2
          },
          "yaxis": {
           "automargin": true,
           "gridcolor": "white",
           "linecolor": "white",
           "ticks": "",
           "title": {
            "standoff": 15
           },
           "zerolinecolor": "white",
           "zerolinewidth": 2
          }
         }
        },
        "title": {
         "text": "Scenario REF: REF (no BES)"
        },
        "xaxis": {
         "domain": [
          0,
          0.4
         ]
        },
        "yaxis": {
         "domain": [
          0,
          0.5
         ]
        }
       }
      },
      "text/html": [
       "<div>\n",
       "        \n",
       "        \n",
       "            <div id=\"0bd45af1-3680-4dbb-8649-11af3d488a78\" class=\"plotly-graph-div\" style=\"height:525px; width:100%;\"></div>\n",
       "            <script type=\"text/javascript\">\n",
       "                require([\"plotly\"], function(Plotly) {\n",
       "                    window.PLOTLYENV=window.PLOTLYENV || {};\n",
       "                    \n",
       "                if (document.getElementById(\"0bd45af1-3680-4dbb-8649-11af3d488a78\")) {\n",
       "                    Plotly.newPlot(\n",
       "                        '0bd45af1-3680-4dbb-8649-11af3d488a78',\n",
       "                        [{\"domain\": {\"x\": [0.5, 1], \"y\": [0, 1]}, \"link\": {\"color\": [\"hsla(120, 50%, 70%, 0.7)\", \"hsla(120, 50%, 70%, 0.7)\", \"hsla(120, 50%, 70%, 0.7)\", \"hsla(120, 50%, 70%, 0.7)\", \"hsla(120, 50%, 70%, 0.7)\", \"hsla(120, 50%, 70%, 0.7)\"], \"source\": [3, 1, 1, 5, 0, 5], \"target\": [5, 5, 2, 0, 4, 4], \"value\": [407.14701698104, 92.85298301896002, 1.3022479736529866, 0.0, 0.0, 500.00000000000006]}, \"node\": {\"color\": \"hsla(0, 0%, 0%, 0.5)\", \"label\": [\"BES\", \"PV\", \"SELL_el\", \"PUR\", \"DEM_el\", \"EL\"], \"line\": {\"color\": \"white\", \"width\": 0}, \"pad\": 15, \"thickness\": 10}, \"orientation\": \"h\", \"type\": \"sankey\", \"valueformat\": \".2f\", \"valuesuffix\": \"MWh\"}, {\"cells\": {\"align\": [\"left\", \"right\", \"left\"], \"font\": {\"size\": 12}, \"line\": {\"color\": \"lightgray\"}, \"values\": [[\"Operation\", \"Invest\", \"Savings\", \"Depreciation\", \"Peakload\"], [\"71,994\", \"0\", \"0\", \"0\", \"76\"], [\"\\u20ac / a\", \"\\u20ac\", \"\\u20ac / a\", \"kW\", \"kW\"]]}, \"domain\": {\"x\": [0, 0.4], \"y\": [0.5, 1]}, \"header\": {\"align\": [\"left\", \"right\", \"left\"], \"font\": {\"size\": 12}, \"line\": {\"color\": \"lightgray\"}, \"values\": [\"Total\", \"71,994\", \"\\u20ac / a\"]}, \"type\": \"table\"}, {\"marker\": {\"color\": \"blue\", \"opacity\": [0.3, 0.3, 0.3, 0.3, 0.3, 0.3, 1, 0.3, 0.3, 0.3, 0.3, 0.3, 0.3]}, \"name\": \"Depreciation\", \"type\": \"bar\", \"x\": [\"sc8\", \"sc12\", \"sc4\", \"sc7\", \"sc11\", \"sc3\", \"REF\", \"sc10\", \"sc6\", \"sc9\", \"sc2\", \"sc5\", \"sc1\"], \"y\": [0.0, 0.0, 0.0, 0.0, 0.0, 0.0, 0.0, 0.0, 0.0, 0.0, 0.0, 0.0, 0.0]}, {\"marker\": {\"color\": \"green\", \"opacity\": [0.3, 0.3, 0.3, 0.3, 0.3, 0.3, 1, 0.3, 0.3, 0.3, 0.3, 0.3, 0.3]}, \"name\": \"Operation\", \"type\": \"bar\", \"x\": [\"sc8\", \"sc12\", \"sc4\", \"sc7\", \"sc11\", \"sc3\", \"REF\", \"sc10\", \"sc6\", \"sc9\", \"sc2\", \"sc5\", \"sc1\"], \"y\": [121737.63819711481, 121084.74107913092, 118431.62545130377, 75029.97665812782, 74963.25815799076, 72329.83832511019, 71993.59343899229, 71321.98674045778, 70952.49796860084, 70165.61008439388, 69776.39482164779, 69560.24882429761, 69011.90871129792]}],\n",
       "                        {\"barmode\": \"stack\", \"font\": {\"size\": 12}, \"legend\": {\"x\": 0, \"y\": 0.5}, \"template\": {\"data\": {\"bar\": [{\"error_x\": {\"color\": \"#2a3f5f\"}, \"error_y\": {\"color\": \"#2a3f5f\"}, \"marker\": {\"line\": {\"color\": \"#E5ECF6\", \"width\": 0.5}}, \"type\": \"bar\"}], \"barpolar\": [{\"marker\": {\"line\": {\"color\": \"#E5ECF6\", \"width\": 0.5}}, \"type\": \"barpolar\"}], \"carpet\": [{\"aaxis\": {\"endlinecolor\": \"#2a3f5f\", \"gridcolor\": \"white\", \"linecolor\": \"white\", \"minorgridcolor\": \"white\", \"startlinecolor\": \"#2a3f5f\"}, \"baxis\": {\"endlinecolor\": \"#2a3f5f\", \"gridcolor\": \"white\", \"linecolor\": \"white\", \"minorgridcolor\": \"white\", \"startlinecolor\": \"#2a3f5f\"}, \"type\": \"carpet\"}], \"choropleth\": [{\"colorbar\": {\"outlinewidth\": 0, \"ticks\": \"\"}, \"type\": \"choropleth\"}], \"contour\": [{\"colorbar\": {\"outlinewidth\": 0, \"ticks\": \"\"}, \"colorscale\": [[0.0, \"#0d0887\"], [0.1111111111111111, \"#46039f\"], [0.2222222222222222, \"#7201a8\"], [0.3333333333333333, \"#9c179e\"], [0.4444444444444444, \"#bd3786\"], [0.5555555555555556, \"#d8576b\"], [0.6666666666666666, \"#ed7953\"], [0.7777777777777778, \"#fb9f3a\"], [0.8888888888888888, \"#fdca26\"], [1.0, \"#f0f921\"]], \"type\": \"contour\"}], \"contourcarpet\": [{\"colorbar\": {\"outlinewidth\": 0, \"ticks\": \"\"}, \"type\": \"contourcarpet\"}], \"heatmap\": [{\"colorbar\": {\"outlinewidth\": 0, \"ticks\": \"\"}, \"colorscale\": [[0.0, \"#0d0887\"], [0.1111111111111111, \"#46039f\"], [0.2222222222222222, \"#7201a8\"], [0.3333333333333333, \"#9c179e\"], [0.4444444444444444, \"#bd3786\"], [0.5555555555555556, \"#d8576b\"], [0.6666666666666666, \"#ed7953\"], [0.7777777777777778, \"#fb9f3a\"], [0.8888888888888888, \"#fdca26\"], [1.0, \"#f0f921\"]], \"type\": \"heatmap\"}], \"heatmapgl\": [{\"colorbar\": {\"outlinewidth\": 0, \"ticks\": \"\"}, \"colorscale\": [[0.0, \"#0d0887\"], [0.1111111111111111, \"#46039f\"], [0.2222222222222222, \"#7201a8\"], [0.3333333333333333, \"#9c179e\"], [0.4444444444444444, \"#bd3786\"], [0.5555555555555556, \"#d8576b\"], [0.6666666666666666, \"#ed7953\"], [0.7777777777777778, \"#fb9f3a\"], [0.8888888888888888, \"#fdca26\"], [1.0, \"#f0f921\"]], \"type\": \"heatmapgl\"}], \"histogram\": [{\"marker\": {\"colorbar\": {\"outlinewidth\": 0, \"ticks\": \"\"}}, \"type\": \"histogram\"}], \"histogram2d\": [{\"colorbar\": {\"outlinewidth\": 0, \"ticks\": \"\"}, \"colorscale\": [[0.0, \"#0d0887\"], [0.1111111111111111, \"#46039f\"], [0.2222222222222222, \"#7201a8\"], [0.3333333333333333, \"#9c179e\"], [0.4444444444444444, \"#bd3786\"], [0.5555555555555556, \"#d8576b\"], [0.6666666666666666, \"#ed7953\"], [0.7777777777777778, \"#fb9f3a\"], [0.8888888888888888, \"#fdca26\"], [1.0, \"#f0f921\"]], \"type\": \"histogram2d\"}], \"histogram2dcontour\": [{\"colorbar\": {\"outlinewidth\": 0, \"ticks\": \"\"}, \"colorscale\": [[0.0, \"#0d0887\"], [0.1111111111111111, \"#46039f\"], [0.2222222222222222, \"#7201a8\"], [0.3333333333333333, \"#9c179e\"], [0.4444444444444444, \"#bd3786\"], [0.5555555555555556, \"#d8576b\"], [0.6666666666666666, \"#ed7953\"], [0.7777777777777778, \"#fb9f3a\"], [0.8888888888888888, \"#fdca26\"], [1.0, \"#f0f921\"]], \"type\": \"histogram2dcontour\"}], \"mesh3d\": [{\"colorbar\": {\"outlinewidth\": 0, \"ticks\": \"\"}, \"type\": \"mesh3d\"}], \"parcoords\": [{\"line\": {\"colorbar\": {\"outlinewidth\": 0, \"ticks\": \"\"}}, \"type\": \"parcoords\"}], \"pie\": [{\"automargin\": true, \"type\": \"pie\"}], \"scatter\": [{\"marker\": {\"colorbar\": {\"outlinewidth\": 0, \"ticks\": \"\"}}, \"type\": \"scatter\"}], \"scatter3d\": [{\"line\": {\"colorbar\": {\"outlinewidth\": 0, \"ticks\": \"\"}}, \"marker\": {\"colorbar\": {\"outlinewidth\": 0, \"ticks\": \"\"}}, \"type\": \"scatter3d\"}], \"scattercarpet\": [{\"marker\": {\"colorbar\": {\"outlinewidth\": 0, \"ticks\": \"\"}}, \"type\": \"scattercarpet\"}], \"scattergeo\": [{\"marker\": {\"colorbar\": {\"outlinewidth\": 0, \"ticks\": \"\"}}, \"type\": \"scattergeo\"}], \"scattergl\": [{\"marker\": {\"colorbar\": {\"outlinewidth\": 0, \"ticks\": \"\"}}, \"type\": \"scattergl\"}], \"scattermapbox\": [{\"marker\": {\"colorbar\": {\"outlinewidth\": 0, \"ticks\": \"\"}}, \"type\": \"scattermapbox\"}], \"scatterpolar\": [{\"marker\": {\"colorbar\": {\"outlinewidth\": 0, \"ticks\": \"\"}}, \"type\": \"scatterpolar\"}], \"scatterpolargl\": [{\"marker\": {\"colorbar\": {\"outlinewidth\": 0, \"ticks\": \"\"}}, \"type\": \"scatterpolargl\"}], \"scatterternary\": [{\"marker\": {\"colorbar\": {\"outlinewidth\": 0, \"ticks\": \"\"}}, \"type\": \"scatterternary\"}], \"surface\": [{\"colorbar\": {\"outlinewidth\": 0, \"ticks\": \"\"}, \"colorscale\": [[0.0, \"#0d0887\"], [0.1111111111111111, \"#46039f\"], [0.2222222222222222, \"#7201a8\"], [0.3333333333333333, \"#9c179e\"], [0.4444444444444444, \"#bd3786\"], [0.5555555555555556, \"#d8576b\"], [0.6666666666666666, \"#ed7953\"], [0.7777777777777778, \"#fb9f3a\"], [0.8888888888888888, \"#fdca26\"], [1.0, \"#f0f921\"]], \"type\": \"surface\"}], \"table\": [{\"cells\": {\"fill\": {\"color\": \"#EBF0F8\"}, \"line\": {\"color\": \"white\"}}, \"header\": {\"fill\": {\"color\": \"#C8D4E3\"}, \"line\": {\"color\": \"white\"}}, \"type\": \"table\"}]}, \"layout\": {\"annotationdefaults\": {\"arrowcolor\": \"#2a3f5f\", \"arrowhead\": 0, \"arrowwidth\": 1}, \"coloraxis\": {\"colorbar\": {\"outlinewidth\": 0, \"ticks\": \"\"}}, \"colorscale\": {\"diverging\": [[0, \"#8e0152\"], [0.1, \"#c51b7d\"], [0.2, \"#de77ae\"], [0.3, \"#f1b6da\"], [0.4, \"#fde0ef\"], [0.5, \"#f7f7f7\"], [0.6, \"#e6f5d0\"], [0.7, \"#b8e186\"], [0.8, \"#7fbc41\"], [0.9, \"#4d9221\"], [1, \"#276419\"]], \"sequential\": [[0.0, \"#0d0887\"], [0.1111111111111111, \"#46039f\"], [0.2222222222222222, \"#7201a8\"], [0.3333333333333333, \"#9c179e\"], [0.4444444444444444, \"#bd3786\"], [0.5555555555555556, \"#d8576b\"], [0.6666666666666666, \"#ed7953\"], [0.7777777777777778, \"#fb9f3a\"], [0.8888888888888888, \"#fdca26\"], [1.0, \"#f0f921\"]], \"sequentialminus\": [[0.0, \"#0d0887\"], [0.1111111111111111, \"#46039f\"], [0.2222222222222222, \"#7201a8\"], [0.3333333333333333, \"#9c179e\"], [0.4444444444444444, \"#bd3786\"], [0.5555555555555556, \"#d8576b\"], [0.6666666666666666, \"#ed7953\"], [0.7777777777777778, \"#fb9f3a\"], [0.8888888888888888, \"#fdca26\"], [1.0, \"#f0f921\"]]}, \"colorway\": [\"#636efa\", \"#EF553B\", \"#00cc96\", \"#ab63fa\", \"#FFA15A\", \"#19d3f3\", \"#FF6692\", \"#B6E880\", \"#FF97FF\", \"#FECB52\"], \"font\": {\"color\": \"#2a3f5f\"}, \"geo\": {\"bgcolor\": \"white\", \"lakecolor\": \"white\", \"landcolor\": \"#E5ECF6\", \"showlakes\": true, \"showland\": true, \"subunitcolor\": \"white\"}, \"hoverlabel\": {\"align\": \"left\"}, \"hovermode\": \"closest\", \"mapbox\": {\"style\": \"light\"}, \"paper_bgcolor\": \"white\", \"plot_bgcolor\": \"#E5ECF6\", \"polar\": {\"angularaxis\": {\"gridcolor\": \"white\", \"linecolor\": \"white\", \"ticks\": \"\"}, \"bgcolor\": \"#E5ECF6\", \"radialaxis\": {\"gridcolor\": \"white\", \"linecolor\": \"white\", \"ticks\": \"\"}}, \"scene\": {\"xaxis\": {\"backgroundcolor\": \"#E5ECF6\", \"gridcolor\": \"white\", \"gridwidth\": 2, \"linecolor\": \"white\", \"showbackground\": true, \"ticks\": \"\", \"zerolinecolor\": \"white\"}, \"yaxis\": {\"backgroundcolor\": \"#E5ECF6\", \"gridcolor\": \"white\", \"gridwidth\": 2, \"linecolor\": \"white\", \"showbackground\": true, \"ticks\": \"\", \"zerolinecolor\": \"white\"}, \"zaxis\": {\"backgroundcolor\": \"#E5ECF6\", \"gridcolor\": \"white\", \"gridwidth\": 2, \"linecolor\": \"white\", \"showbackground\": true, \"ticks\": \"\", \"zerolinecolor\": \"white\"}}, \"shapedefaults\": {\"line\": {\"color\": \"#2a3f5f\"}}, \"ternary\": {\"aaxis\": {\"gridcolor\": \"white\", \"linecolor\": \"white\", \"ticks\": \"\"}, \"baxis\": {\"gridcolor\": \"white\", \"linecolor\": \"white\", \"ticks\": \"\"}, \"bgcolor\": \"#E5ECF6\", \"caxis\": {\"gridcolor\": \"white\", \"linecolor\": \"white\", \"ticks\": \"\"}}, \"title\": {\"x\": 0.05}, \"xaxis\": {\"automargin\": true, \"gridcolor\": \"white\", \"linecolor\": \"white\", \"ticks\": \"\", \"title\": {\"standoff\": 15}, \"zerolinecolor\": \"white\", \"zerolinewidth\": 2}, \"yaxis\": {\"automargin\": true, \"gridcolor\": \"white\", \"linecolor\": \"white\", \"ticks\": \"\", \"title\": {\"standoff\": 15}, \"zerolinecolor\": \"white\", \"zerolinewidth\": 2}}}, \"title\": {\"text\": \"Scenario REF: REF (no BES)\"}, \"xaxis\": {\"domain\": [0, 0.4]}, \"yaxis\": {\"domain\": [0, 0.5]}},\n",
       "                        {\"responsive\": true}\n",
       "                    ).then(function(){\n",
       "                            \n",
       "var gd = document.getElementById('0bd45af1-3680-4dbb-8649-11af3d488a78');\n",
       "var x = new MutationObserver(function (mutations, observer) {{\n",
       "        var display = window.getComputedStyle(gd).display;\n",
       "        if (!display || display === 'none') {{\n",
       "            console.log([gd, 'removed!']);\n",
       "            Plotly.purge(gd);\n",
       "            observer.disconnect();\n",
       "        }}\n",
       "}});\n",
       "\n",
       "// Listen for the removal of the full notebook cells\n",
       "var notebookContainer = gd.closest('#notebook-container');\n",
       "if (notebookContainer) {{\n",
       "    x.observe(notebookContainer, {childList: true});\n",
       "}}\n",
       "\n",
       "// Listen for the clearing of the current output cell\n",
       "var outputEl = gd.closest('.output');\n",
       "if (outputEl) {{\n",
       "    x.observe(outputEl, {childList: true});\n",
       "}}\n",
       "\n",
       "                        })\n",
       "                };\n",
       "                });\n",
       "            </script>\n",
       "        </div>"
      ]
     },
     "metadata": {},
     "output_type": "display_data"
    }
   ],
   "source": [
    "cs.plot.big_plot(sankey_func)"
   ]
  },
  {
   "cell_type": "code",
   "execution_count": 91,
   "metadata": {
    "ExecuteTime": {
     "end_time": "2019-12-02T17:19:37.289411Z",
     "start_time": "2019-12-02T17:19:35.639436Z"
    },
    "init_cell": true,
    "slideshow": {
     "slide_type": "skip"
    }
   },
   "outputs": [
    {
     "name": "stderr",
     "output_type": "stream",
     "text": [
      "[NbConvertApp] Converting notebook index.ipynb to slides\n",
      "[NbConvertApp] Writing 606044 bytes to index.slides.html\n"
     ]
    }
   ],
   "source": [
    "!jupyter nbconvert --to slides index.ipynb --SlidesExporter.reveal_scroll=True --SlidesExporter.reveal_transition=convex\n",
    "#--SlidesExporter.reveal_theme=serif\n",
    "!del index.html\n",
    "!rename index.slides.html index.html"
   ]
  }
 ],
 "metadata": {
  "celltoolbar": "Slideshow",
  "kernelspec": {
   "display_name": "Python 3",
   "language": "python",
   "name": "python3"
  },
  "language_info": {
   "codemirror_mode": {
    "name": "ipython",
    "version": 3
   },
   "file_extension": ".py",
   "mimetype": "text/x-python",
   "name": "python",
   "nbconvert_exporter": "python",
   "pygments_lexer": "ipython3",
   "version": "3.7.5"
  },
  "toc": {
   "base_numbering": 1,
   "nav_menu": {},
   "number_sections": true,
   "sideBar": true,
   "skip_h1_title": false,
   "title_cell": "Table of Contents",
   "title_sidebar": "Contents",
   "toc_cell": false,
   "toc_position": {},
   "toc_section_display": true,
   "toc_window_display": false
  }
 },
 "nbformat": 4,
 "nbformat_minor": 2
}
