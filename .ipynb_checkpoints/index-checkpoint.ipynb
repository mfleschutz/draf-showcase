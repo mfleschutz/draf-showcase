{
 "cells": [
  {
   "cell_type": "markdown",
   "metadata": {
    "slideshow": {
     "slide_type": "slide"
    }
   },
   "source": [
    "<img src=\"https://messo.cit.ie/contentfiles/images/draf.jpg\" alt=\"drawing\" width=\"180\" align=\"right\"/>\n",
    "\n",
    "# Showcase draf\n",
    "Test"
   ]
  },
  {
   "cell_type": "markdown",
   "metadata": {
    "slideshow": {
     "slide_type": "slide"
    }
   },
   "source": [
    "## Model formulation\n",
    "In the next cell the following functions are defined:\n",
    "- `params_func`: Model parameters are defined with (meta)data. Variables are defined through bounds, type, and metadata.\n",
    "- `model_func`: Sets the model constraints depending on the model (m), dimensions (d), parameters (p), and variables (v).\n",
    "- `postprocess_func`: Ensures non-negative timeseries, that are easier to handle for sankey plots and logarithm-based plots.\n",
    "- `sankey_func`: At the moment energy flows have to be specified manually for later use in sankey plots.\n",
    "\n",
    "It is best practice to import these long functions from a seperate file e.g. `from case_studies.showcase import *` to share a model formulation with different jupyter-notebooks.\n",
    "\n",
    "This model is a very gereral model for distributed energy resources including Battery Energy System (BES), Battery Electric Vehicle (BEV), Combined Heat and Power (CHP), Heat Pumps (HP), Photovoltaic (PV), etc. First we only use the BES."
   ]
  },
  {
   "cell_type": "code",
   "execution_count": null,
   "metadata": {
    "ExecuteTime": {
     "end_time": "2019-11-29T08:41:01.302782Z",
     "start_time": "2019-11-29T08:41:01.246712Z"
    },
    "slideshow": {
     "slide_type": "subslide"
    }
   },
   "outputs": [],
   "source": [
    "cs = draf.CaseStudy(\"ShowCase\", year=2017, freq=\"60min\", country=\"DE\")\n",
    "cs.set_custom_datetimeindex(t_st=24*30*5, du=24*30)\n",
    "\n",
    "cs.add_REF_scen().set_params(params_func)\n",
    "\n",
    "cs.add_scens([\n",
    "    (\"c_el_T\", \"t\", [f\"c_el_{ix}_T\" for ix in [\"RTP\", \"TOU\", \"FLAT\"]]),\n",
    "    (\"alpha_\", \"a\", np.linspace(0, 1, 9))\n",
    "])\n",
    "\n",
    "cs.improve_pareto_norm_factors(model_func=model_func, adjust_factor=1000)\n",
    "cs.set_model(model_func)\n",
    "cs.set_solver_param(MIPGap=0.0001)\n",
    "cs.optimize(postprocess_func, logToConsole=False, show_results=False)\n",
    "cs.save()"
   ]
  }
 ],
 "metadata": {
  "celltoolbar": "Slideshow",
  "kernelspec": {
   "display_name": "Python 3",
   "language": "python",
   "name": "python3"
  },
  "language_info": {
   "codemirror_mode": {
    "name": "ipython",
    "version": 3
   },
   "file_extension": ".py",
   "mimetype": "text/x-python",
   "name": "python",
   "nbconvert_exporter": "python",
   "pygments_lexer": "ipython3",
   "version": "3.7.5"
  },
  "toc": {
   "base_numbering": 1,
   "nav_menu": {},
   "number_sections": true,
   "sideBar": true,
   "skip_h1_title": false,
   "title_cell": "Table of Contents",
   "title_sidebar": "Contents",
   "toc_cell": false,
   "toc_position": {},
   "toc_section_display": true,
   "toc_window_display": false
  }
 },
 "nbformat": 4,
 "nbformat_minor": 2
}
